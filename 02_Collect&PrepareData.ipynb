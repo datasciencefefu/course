{
  "nbformat": 4,
  "nbformat_minor": 0,
  "metadata": {
    "colab": {
      "name": "02_Collect&PrepareData.ipynb",
      "provenance": [],
      "collapsed_sections": [],
      "include_colab_link": true
    },
    "kernelspec": {
      "name": "python3",
      "display_name": "Python 3"
    }
  },
  "cells": [
    {
      "cell_type": "markdown",
      "metadata": {
        "id": "view-in-github",
        "colab_type": "text"
      },
      "source": [
        "<a href=\"https://colab.research.google.com/github/datasciencefefu/course/blob/main/02_Collect%26PrepareData.ipynb\" target=\"_parent\"><img src=\"https://colab.research.google.com/assets/colab-badge.svg\" alt=\"Open In Colab\"/></a>"
      ]
    },
    {
      "cell_type": "markdown",
      "metadata": {
        "id": "jpSocK8CoIW0"
      },
      "source": [
        "# Сбор и предобработка данных"
      ]
    },
    {
      "cell_type": "markdown",
      "metadata": {
        "id": "Bw2tIe4CtMuV"
      },
      "source": [
        "### Получение данных"
      ]
    },
    {
      "cell_type": "markdown",
      "metadata": {
        "id": "mIWrRaNRwwBH"
      },
      "source": [
        "Данные хранят в файлах разных форматов. Из них самый распространённый, простой и лёгкий – **CSV** (от англ. Comma-Separated Values, «значения, разделённые запятой»). Каждая строка такого файла представляет собой одну строку таблицы, где данные разделены запятыми. В первой строке собраны заголовки столбцов (если они есть).\n"
      ]
    },
    {
      "cell_type": "markdown",
      "metadata": {
        "id": "MUVznFm_xQbS"
      },
      "source": [
        "Файлы CSV удобнее всего открывать вызовом метода **read_csv()** из библиотеки Pandas."
      ]
    },
    {
      "cell_type": "code",
      "metadata": {
        "id": "Vq_xHoeSxRMB"
      },
      "source": [
        "import pandas as pd\n",
        "\n",
        "df = pd.read_csv('https://github.com/datasciencefefu/course/raw/main/data/iris.csv')"
      ],
      "execution_count": null,
      "outputs": []
    },
    {
      "cell_type": "markdown",
      "metadata": {
        "id": "_S5no364xnye"
      },
      "source": [
        "Теперь все данные из файла можно напечатать на экране командой print(df), но это не всегда нужно делать — не исключено, что таблица огромна и неудобна для изучения. Для знакомства с данными запрашивают несколько строк из начала или конца таблицы, вызывая специальные методы **head()** и **tail()**. По умолчанию head() возвращает первые 5 строк набора данных, а метод tail() – последние 5 строк. Когда нужно не 5, количество строк передаётся этим методам как аргумент. Например, head(8) вернёт первые 8 строк. "
      ]
    },
    {
      "cell_type": "code",
      "metadata": {
        "colab": {
          "base_uri": "https://localhost:8080/"
        },
        "id": "sE4FoFdnxp_3",
        "outputId": "b31fe3fe-8af3-4a44-fca0-078665911aed"
      },
      "source": [
        "print(df.head(8)) "
      ],
      "execution_count": null,
      "outputs": [
        {
          "output_type": "stream",
          "text": [
            "   sepal_length  sepal_width  petal_length  petal_width species\n",
            "0           5.1          3.5           1.4          0.2  setosa\n",
            "1           4.9          3.0           1.4          0.2  setosa\n",
            "2           4.7          3.2           1.3          0.2  setosa\n",
            "3           4.6          3.1           1.5          0.2  setosa\n",
            "4           5.0          3.6           1.4          0.2  setosa\n",
            "5           5.4          3.9           1.7          0.4  setosa\n",
            "6           4.6          3.4           1.4          0.3  setosa\n",
            "7           5.0          3.4           1.5          0.2  setosa\n"
          ],
          "name": "stdout"
        }
      ]
    },
    {
      "cell_type": "markdown",
      "metadata": {
        "id": "i-BtChSxxyZC"
      },
      "source": [
        "Полученная таблица хранится в структуре данных DataFrame. Давайте подробно разберём, из чего состоит этот объект и какие операции с ним можно выполнять"
      ]
    },
    {
      "cell_type": "markdown",
      "metadata": {
        "id": "bBx0-iGUVGor"
      },
      "source": [
        "#### DataFrame"
      ]
    },
    {
      "cell_type": "markdown",
      "metadata": {
        "id": "9nX_XYhXxz6e"
      },
      "source": [
        "**DataFrame** — это двумерная структура данных Pandas, где у каждого элемента есть две координаты: строка и столбец. Каждая строка — это одно наблюдение, запись об объекте исследования. А столбцы — признаки объектов. "
      ]
    },
    {
      "cell_type": "markdown",
      "metadata": {
        "id": "chZg5Oe92c4P"
      },
      "source": [
        "Для лучшего понимания данных полезно получить доступ к их описанию. Часто описание выполняют в виде документации со сведениями о содержании каждого столбца. \n",
        "\n",
        "Для датасета iris.csv есть следующее описание. Имеется набор из данных о 150 экземплярах ириса, по 50 экземпляров из трех следующих видов:\n",
        "\n",
        "- ирис щетинистый (iris setosa);\n",
        "- ирис версиколор (iris versicolor);\n",
        "- ирис виргинский (iris virginica).\n",
        "\n",
        "\n",
        "Для каждого экземпляра приведены 4 следующие характеристики:\n",
        "\n",
        "- длина чашелистика (sepal length);\n",
        "- ширина чашелистика (sepal width);\n",
        "- длина лепестка (petal length);\n",
        "- ширина лепестка (petal width).\n"
      ]
    },
    {
      "cell_type": "markdown",
      "metadata": {
        "id": "6XkTqniXzHjH"
      },
      "source": [
        "У DataFrame есть неотъемлемые свойства, значения которых можно запросить. Они называются **атрибуты**. Например, атрибут columns содержит информацию о названиях столбцов в наборе данных."
      ]
    },
    {
      "cell_type": "code",
      "metadata": {
        "colab": {
          "base_uri": "https://localhost:8080/"
        },
        "id": "p8RNsKqwzIRe",
        "outputId": "62082c11-6249-4c5e-c0c3-ffdabc27cbef"
      },
      "source": [
        "print(df.columns) "
      ],
      "execution_count": null,
      "outputs": [
        {
          "output_type": "stream",
          "text": [
            "Index(['sepal_length', 'sepal_width', 'petal_length', 'petal_width',\n",
            "       'species'],\n",
            "      dtype='object')\n"
          ],
          "name": "stdout"
        }
      ]
    },
    {
      "cell_type": "markdown",
      "metadata": {
        "id": "FLQwDyBezP0K"
      },
      "source": [
        "В данном случае атрибут columns вернул список названий столбцов и сообщил, что большинство из них имеет тип данных float64.\n",
        "Вообще типы данных могут быть разные. Для просмотра типа данных каждого столбца лучше всего использовать атрибут **dtypes**.\n"
      ]
    },
    {
      "cell_type": "code",
      "metadata": {
        "colab": {
          "base_uri": "https://localhost:8080/"
        },
        "id": "_zuXBvt-zQYc",
        "outputId": "a9523c4c-b87f-464f-f324-40512352bec1"
      },
      "source": [
        "print(df.dtypes) "
      ],
      "execution_count": null,
      "outputs": [
        {
          "output_type": "stream",
          "text": [
            "sepal_length    float64\n",
            "sepal_width     float64\n",
            "petal_length    float64\n",
            "petal_width     float64\n",
            "species          object\n",
            "dtype: object\n"
          ],
          "name": "stdout"
        }
      ]
    },
    {
      "cell_type": "markdown",
      "metadata": {
        "id": "rre2Z1blzXq6"
      },
      "source": [
        "Типы данных, о которых сообщают атрибуты — это типы данных библиотеки Pandas. Каждому из них соответствует определённый тип данных языка Python.\n",
        "Так, типу int в Pandas будет соответствовать тип int64. Тип данных object используется, когда данные не подходят ни под одну категорию или соответствуют в Python типу «строка». Приведем таблицу соответствия типов данных Pandas и Python:\n",
        "\n",
        "Pandas dtype  | Python type |  Описание \n",
        "-------------------|------------------|-------------------\n",
        "object\t|str|Строка\n",
        "int64\t|int\t|Целые числа\n",
        "float64\t|float\t|Вещественные числа\n",
        "bool\t|bool\t|Логический тип данных\n",
        "\n"
      ]
    },
    {
      "cell_type": "markdown",
      "metadata": {
        "id": "57lVo7Pq0QHt"
      },
      "source": [
        "О размерах таблицы с данными сообщает её атрибут **shape**. В результате получается кортеж (неизменяемый список) из двух чисел: первое – количество строк, второе – количество столбцов."
      ]
    },
    {
      "cell_type": "code",
      "metadata": {
        "colab": {
          "base_uri": "https://localhost:8080/"
        },
        "id": "UlaIwCNa0Q9x",
        "outputId": "d6aa520a-d505-463a-944e-08e211a7b331"
      },
      "source": [
        "print(df.shape)"
      ],
      "execution_count": null,
      "outputs": [
        {
          "output_type": "stream",
          "text": [
            "(150, 5)\n"
          ],
          "name": "stdout"
        }
      ]
    },
    {
      "cell_type": "markdown",
      "metadata": {
        "id": "14Mqhdr-0coH"
      },
      "source": [
        "Всю информацию, которую предоставляют разные атрибуты DataFrame, можно получить вызовом одного-единственного метода **info().** Изучив результаты, которые этот метод возвращает, аналитик выбирает тактику дальнейшей работы с таблицей."
      ]
    },
    {
      "cell_type": "code",
      "metadata": {
        "colab": {
          "base_uri": "https://localhost:8080/"
        },
        "id": "a4FqSwZ20eBt",
        "outputId": "67fc87de-d5fd-45fb-86c9-ba1481ebfa63"
      },
      "source": [
        "df.info()"
      ],
      "execution_count": null,
      "outputs": [
        {
          "output_type": "stream",
          "text": [
            "<class 'pandas.core.frame.DataFrame'>\n",
            "RangeIndex: 150 entries, 0 to 149\n",
            "Data columns (total 5 columns):\n",
            " #   Column        Non-Null Count  Dtype  \n",
            "---  ------        --------------  -----  \n",
            " 0   sepal_length  150 non-null    float64\n",
            " 1   sepal_width   150 non-null    float64\n",
            " 2   petal_length  150 non-null    float64\n",
            " 3   petal_width   150 non-null    float64\n",
            " 4   species       150 non-null    object \n",
            "dtypes: float64(4), object(1)\n",
            "memory usage: 6.0+ KB\n"
          ],
          "name": "stdout"
        }
      ]
    },
    {
      "cell_type": "markdown",
      "metadata": {
        "id": "36SyRPeP9IQU"
      },
      "source": [
        "##### Индексация в DataFrame"
      ]
    },
    {
      "cell_type": "markdown",
      "metadata": {
        "id": "pcE82RBx9Mrk"
      },
      "source": [
        "К каждой ячейке с данными в DataFrame можно обратиться по её индексу и названию столбца. В зависимости от запроса к DataFrame можно получить различные срезы данных. Этот процесс называется **индексация**. Для DataFrame она проводится разными способами.\n",
        "\n",
        "Атрибут loc[строка, столбец] даёт доступ к элементу по строке и столбцу.\n",
        "\n",
        "|Вид|\tРеализация\n",
        "|--------|--------\n",
        "|Одна ячейка\t|.loc[7, 'species']\n",
        "|Один столбец\t|.loc[:, 'species']\n",
        "|Несколько столбцов\t|.loc[:, ['species', 'sepal_length']]\n",
        "|Несколько столбцов подряд (срез)\t|.loc[:, 'species': 'sepal_length']\n",
        "|Одна строка\t|.loc[1]\n",
        "|Все строки, начиная с заданной\t|.loc[1:]\n",
        "|Все строки до заданной\t|.loc[:3]\n",
        "|Несколько строк подряд (срез)\t|.loc[2:5]\n"
      ]
    },
    {
      "cell_type": "markdown",
      "metadata": {
        "id": "XT1UXMdZ-avQ"
      },
      "source": [
        "Запрос к атрибуту loc[] использует квадратные скобки, это напоминает списки в Python. Индексация здесь очень похожа на индексацию списков."
      ]
    },
    {
      "cell_type": "markdown",
      "metadata": {
        "id": "sKhQHcn6-qnd"
      },
      "source": [
        "**Важное замечание:** атрибут .loc[] включает и начало, и конец среза"
      ]
    },
    {
      "cell_type": "markdown",
      "metadata": {
        "id": "nr5n0mUiCegl"
      },
      "source": [
        "В то же время нужно уметь подсчитать количество определённых значений в столбце или во всем датасете. В Pandas для этого есть метод **count()**.\n",
        "Его вызывают для подсчета количества ячеек, соответсвующих определенному условию. Например, необходимо подсчитать количество ячеек столбца species, где значение равно versicolor. Для столбца species таблицы df такие ячейки отвечают логическому условию df.loc[:,'species'] == 'versicolor'. Поскольку в указании, какие именно значения считать, нужен логический оператор, такой доступ к значению ячейки называют **логическая индексация**.\n"
      ]
    },
    {
      "cell_type": "code",
      "metadata": {
        "colab": {
          "base_uri": "https://localhost:8080/"
        },
        "id": "BZcVaC_lDc-U",
        "outputId": "bb9a0954-a383-4ec5-f6e5-3947f98c48bd"
      },
      "source": [
        "print(df.loc[df.loc[:, 'species'] == 'versicolor'][\n",
        "          'species'].count())  # используем метод .count() для подсчёта записей, удовлетворяющих условию в столбце species"
      ],
      "execution_count": null,
      "outputs": [
        {
          "output_type": "stream",
          "text": [
            "50\n"
          ],
          "name": "stdout"
        }
      ]
    },
    {
      "cell_type": "markdown",
      "metadata": {
        "id": "1pRNaO9BVMqK"
      },
      "source": [
        "#### Series"
      ]
    },
    {
      "cell_type": "markdown",
      "metadata": {
        "id": "DZe-lgJBVO0s"
      },
      "source": [
        "Сама таблица представляет собой DataFrame, но каждый столбец сам по себе — вовсе не структура данных DataFrame. Если взять отдельный столбец таблицы, то он представляет собой совсем иную структуру данных — Series - одномерный объект, содержащий набор данных (любого типа, поддерживаемого NumPy) и ассоциированный с ним массив меток, который называется индексом."
      ]
    },
    {
      "cell_type": "code",
      "metadata": {
        "colab": {
          "base_uri": "https://localhost:8080/"
        },
        "id": "bqAmjaBCVvez",
        "outputId": "1225899b-d45d-4e80-c019-699057413ff9"
      },
      "source": [
        "type(df['species'])"
      ],
      "execution_count": null,
      "outputs": [
        {
          "output_type": "execute_result",
          "data": {
            "text/plain": [
              "pandas.core.series.Series"
            ]
          },
          "metadata": {
            "tags": []
          },
          "execution_count": 8
        }
      ]
    },
    {
      "cell_type": "markdown",
      "metadata": {
        "id": "mPOPlkDTV4QT"
      },
      "source": [
        "**Series** — одномерная таблица, и обратиться к её элементам можно по индексу. Каждый индекс — это номер отдельного наблюдения, и поэтому несколько различных Series вместе составляют DataFrame. В Series хранятся данные одного типа.\n",
        "\n",
        "У каждой Series есть имя (Name), информация о количестве данных в столбце (Length) и тип данных, которые хранятся в ней (dtype)."
      ]
    },
    {
      "cell_type": "code",
      "metadata": {
        "colab": {
          "base_uri": "https://localhost:8080/"
        },
        "id": "rX7BHUEIWArq",
        "outputId": "cebf4326-992a-4f4e-9663-58d1f257b0c2"
      },
      "source": [
        "print(df['species']) "
      ],
      "execution_count": null,
      "outputs": [
        {
          "output_type": "stream",
          "text": [
            "0         setosa\n",
            "1         setosa\n",
            "2         setosa\n",
            "3         setosa\n",
            "4         setosa\n",
            "         ...    \n",
            "145    virginica\n",
            "146    virginica\n",
            "147    virginica\n",
            "148    virginica\n",
            "149    virginica\n",
            "Name: species, Length: 150, dtype: object\n"
          ],
          "name": "stdout"
        }
      ]
    },
    {
      "cell_type": "markdown",
      "metadata": {
        "id": "78mJUtmOWL3A"
      },
      "source": [
        "Индексация в Series аналогична индексации элементов столбца в DataFrame. \n",
        "\n",
        "|Вид\t|Реализация\t|Сокращённая запись\n",
        "|-----|-----------|---------|\n",
        "|Один элемент\t|df.loc[7]|\tdf[7]\n",
        "Несколько элементов\t|df.loc[[5, 7, 10]]|\tdf[[5, 7, 10]]\n",
        "|Несколько элементов подряд (срез)\t|df.loc[5:10] включая 10\t|df[5:10] не включая 10\n",
        "|Все элементы, начиная с заданного\t|df.loc[1:]\t|df[1:]\n",
        "|Все элементы до заданного\t|df.loc[:3] включая 3\t|df[:3] не включая 3\n"
      ]
    },
    {
      "cell_type": "markdown",
      "metadata": {
        "id": "gEf_00M_XR6T"
      },
      "source": [
        "Для Series также как и для DatFrame возможна и логическая индексация. "
      ]
    },
    {
      "cell_type": "markdown",
      "metadata": {
        "id": "KaY3Zsp2gldN"
      },
      "source": [
        "### Регулярные выражения"
      ]
    },
    {
      "cell_type": "markdown",
      "metadata": {
        "id": "rd9ZmYoLgfNS"
      },
      "source": [
        "Из датасетов аналитик извлекает информацию, фильтрует неправдоподобные данные и ищет общие элементы. Здесь в ход идёт мощный инструмент поиска строк — регулярные выражения.\n",
        "> **Регулярное выражение** — правило для поиска подстрок (фрагментов текста внутри строк).\n",
        "\n",
        "Например, если небходимо найти сочетание букв «со» в предложении «Считается, что кроме трёх всем известных – мясо, просо, колесо – четвёртого такого слова в русском языке не существует», для Python это поиск подстроки \"со\" в строке 'Считается, что кроме трёх всем известных – мясо, просо, колесо – четвёртого такого слова в русском языке не существует'.\n",
        "\n",
        "Регулярные выражения позволяют создавать сложные правила, так что одно выражение вернёт несколько подстрок.\n",
        "\n",
        "Для работы с регулярными выражениями в Python импортируют библиотеку **re** (от англ. regular expressions — «регулярные выражения»). Дальше поиск ведётся в два этапа.\n",
        "\n",
        "Сначала создают шаблон регулярного выражения. Это алгоритм, по которому нужно искать строку в тексте.\n",
        "Затем готовый шаблон передают специальным методам библиотеки re, которые ищут, заменяют и удаляют нужные символы. Таким образом, шаблон определяет, что и как искать, а метод — что с этим потом делать.\n",
        "\n",
        "\n",
        "В таблице приведены простейшие шаблоны регулярных выражений. Сложные регулярные выражения состоят из их комбинаций.\n",
        "\n",
        "Регулярное выражение  | Описание | Пример  | Описание \n",
        "-------------------|------------------|-------------------|------------------\n",
        "[]       | Один из символов в скобках |[a-]       | a или - \n",
        "[^…]       | Отрицание |[^a]       | любой символ кроме «a»\n",
        "-|Интервал|[0-9]|интервал: любая цифра от 0 до 9\n",
        ".\t|Один любой символ, кроме перевода строки|\ta.|\tas, a1, a_ \n",
        "\\d| (аналог [0-9])\tЛюбая цифра\ta\\d  |a[0-9]\t|a1, a2, a3\n",
        "\\w| \tЛюбая буква, цифра или _\t| a\\w\t|a_, a1, ab\n",
        "[A-z]| \tЛюбая латинская буква|\ta[A-z]|\tот а до z\n",
        "[А-я]| \tЛюбая буква кириллицы|\ta[А-я]|\tот а до я\n",
        "?|\tНоль или одно вхождение\t|a?\t|a или ничего\n",
        "+\t|Одно и более вхождений|\t a+\t|a или aa, или aaa\n",
        "*\t|Ноль и более вхождений\t|a*\t|ничего или a, или aa\n",
        "^\t|Начало строки|\t^a\t|a1234, abcd\n",
        "```$```\t|Конец строки\t|a$\t|1a, ba\n"
      ]
    },
    {
      "cell_type": "markdown",
      "metadata": {
        "id": "rTOtqfD2medZ"
      },
      "source": [
        "Самые распространённые задачи с использованием регулярных выражений:\n",
        "-\tнайти подстроку в строке\n",
        "-\tразбить строки на подстроки на основании шаблона\n",
        "-\tзаменить части строки на другую строку\n",
        "\n",
        "Вот какие методы библиотеки re для этого понадобятся:\n",
        "\n",
        "\n",
        "**search(pattern, string)**\n",
        "\n",
        "\n",
        "(англ. «поиск») ищет шаблон pattern в строке string. Хотя search() ищет шаблон во всей строке, возвращает он только первую найденную подстроку:\n"
      ]
    },
    {
      "cell_type": "code",
      "metadata": {
        "id": "2jqrSYFYmsi_",
        "colab": {
          "base_uri": "https://localhost:8080/"
        },
        "outputId": "336efc89-bbb9-4d48-eeb7-98d02a5322c5"
      },
      "source": [
        "import re\n",
        "\n",
        "string = \"«Taxi Driver» 8 февраля 1976 года Нью-Йорк Роберт ДеНиро\"\n",
        "print(re.search('\\w+', string))"
      ],
      "execution_count": null,
      "outputs": [
        {
          "output_type": "stream",
          "text": [
            "<re.Match object; span=(1, 5), match='Taxi'>\n"
          ],
          "name": "stdout"
        }
      ]
    },
    {
      "cell_type": "markdown",
      "metadata": {
        "id": "pHSKozAPmvlC"
      },
      "source": [
        "Метод search() возвращает объект типа **match** (англ. «соответствовать»). Параметр span (англ. «диапазон») указывает диапазон индексов, подходящих под шаблон. В нашем случае открывающая кавычка « не отвечает правилу, которое игнорирует знаки препинания. Вот потому индексы идут с 1 по 8: от буквы «T» до буквы «i». В параметре match указано само значение подстроки.\n",
        "\n",
        "Шаблону '\\w+' соответствует любая подстрока, содержащая одну и более букв, цифр или символ нижнего подчёркивания _ . Метод search() нашёл, что этому шаблону соответствует первое слово в строке. Так как под правило '\\w+' не подходит пробел, метод вернул всё, что идёт до первого пробела.\n",
        "Если нам не нужны дополнительные сведения о диапазоне, выведем только найденную подстроку методом group():\n"
      ]
    },
    {
      "cell_type": "code",
      "metadata": {
        "id": "he6cFZRam6g5",
        "colab": {
          "base_uri": "https://localhost:8080/"
        },
        "outputId": "d31146de-a236-40c4-a430-1ebdfb27e92a"
      },
      "source": [
        "string = \"«Taxi Driver» 8 февраля 1976 года Нью-Йорк Роберт ДеНиро\"\n",
        "print(re.search('\\w+', string).group())"
      ],
      "execution_count": null,
      "outputs": [
        {
          "output_type": "stream",
          "text": [
            "Taxi\n"
          ],
          "name": "stdout"
        }
      ]
    },
    {
      "cell_type": "markdown",
      "metadata": {
        "id": "ez_zkrO7m7bo"
      },
      "source": [
        "Рассмотрим способ добыть информацию между определенными словами. Извлечем данные, содержащие буквы или пробел между символами \"«\" и \"»\""
      ]
    },
    {
      "cell_type": "code",
      "metadata": {
        "id": "xsoL6BCcm-IW",
        "colab": {
          "base_uri": "https://localhost:8080/"
        },
        "outputId": "f499e0b9-d15c-4cae-bb7b-93d1cb1e67f5"
      },
      "source": [
        "string = \"«Taxi Driver» 8 февраля 1976 года Нью-Йорк Роберт ДеНиро\"\n",
        "print(re.search('«[A-zА-я ]+»', string).group())"
      ],
      "execution_count": null,
      "outputs": [
        {
          "output_type": "stream",
          "text": [
            "«Taxi Driver»\n"
          ],
          "name": "stdout"
        }
      ]
    },
    {
      "cell_type": "markdown",
      "metadata": {
        "id": "NKulAaW5nEUP"
      },
      "source": [
        "Обратите внимание, что учтены все символы, содержащиеся в нужной подстроке, в том числе — пробел.\n",
        "\n",
        "**split(pattern, string)** \n",
        "\n",
        "(англ. «расщеплять, разбивать») разделяет строку string по границе шаблона pattern.\n"
      ]
    },
    {
      "cell_type": "code",
      "metadata": {
        "id": "wSU1vroZnMcj",
        "colab": {
          "base_uri": "https://localhost:8080/"
        },
        "outputId": "0f3d1965-2558-4243-8427-bcdfc7af9c5c"
      },
      "source": [
        "string = \"«Taxi Driver» 8 февраля 1976 года Нью-Йорк Роберт ДеНиро\"\n",
        "print(re.split('\\d+', string))"
      ],
      "execution_count": null,
      "outputs": [
        {
          "output_type": "stream",
          "text": [
            "['«Taxi Driver» ', ' февраля ', ' года Нью-Йорк Роберт ДеНиро']\n"
          ],
          "name": "stdout"
        }
      ]
    },
    {
      "cell_type": "markdown",
      "metadata": {
        "id": "yTjIxOLEnNSX"
      },
      "source": [
        "Строка разделена на три части. Границы деления строки проходят там, где метод встретил указанный в аргументе шаблон. В нашем случае шаблону регулярного выражения '\\d+' соответствует одна и более цифр. Поэтому строка поделилась натрое в тех местах, где split() обнаружил подстроки из цифр — 8 и 1976.\n",
        "Количеством делений строки можно управлять. За это отвечает параметр **maxsplit** метода split() (по умолчанию равен 0).\n"
      ]
    },
    {
      "cell_type": "code",
      "metadata": {
        "id": "fFLKh1gsnQgz",
        "colab": {
          "base_uri": "https://localhost:8080/"
        },
        "outputId": "94de716c-79b9-44fd-eeaa-e903a9fe216f"
      },
      "source": [
        "string = \"«Taxi Driver» 8 февраля 1976 года Нью-Йорк Роберт ДеНиро\"\n",
        "print(re.split('\\d+', string, maxsplit = 1))"
      ],
      "execution_count": null,
      "outputs": [
        {
          "output_type": "stream",
          "text": [
            "['«Taxi Driver» ', ' февраля 1976 года Нью-Йорк Роберт ДеНиро']\n"
          ],
          "name": "stdout"
        }
      ]
    },
    {
      "cell_type": "markdown",
      "metadata": {
        "id": "dc3Xby_3nTJP"
      },
      "source": [
        "Строка разделилась один раз по первому найденному шаблону.\n",
        "\n",
        "**sub(pattern, repl, string)** (от англ. substring, «подстрока») ищет подстроку pattern в строке string и заменяет его на подстроку repl (от англ. replace — «заменить»).\n"
      ]
    },
    {
      "cell_type": "code",
      "metadata": {
        "id": "JRpm16xWnZtp",
        "colab": {
          "base_uri": "https://localhost:8080/"
        },
        "outputId": "d21a0bd5-443c-432c-9069-620baebc15e8"
      },
      "source": [
        "string = \"«Taxi Driver» 8 февраля 1976 года Нью-Йорк Роберт ДеНиро\"\n",
        "print(re.sub('\\d+', '', string)) # Ищем числа и заменяем на пустоту"
      ],
      "execution_count": null,
      "outputs": [
        {
          "output_type": "stream",
          "text": [
            "«Taxi Driver»  февраля  года Нью-Йорк Роберт ДеНиро\n"
          ],
          "name": "stdout"
        }
      ]
    },
    {
      "cell_type": "markdown",
      "metadata": {
        "id": "Zq3ZMFv5neFy"
      },
      "source": [
        "Все подстроки с числами заменены на пустоту.\n",
        "\n",
        "Метод **findall(pattern, string)** возвращает список всех подстрок в string, удовлетворяющих шаблону pattern. А не только первую подходящую подстроку, как search(). Найдём все слова, оканчивающиеся на \"со\":\n"
      ]
    },
    {
      "cell_type": "code",
      "metadata": {
        "colab": {
          "base_uri": "https://localhost:8080/"
        },
        "id": "gaTXDZrEnlG9",
        "outputId": "7e957a47-04fc-4912-d3f1-d74e50a13c31"
      },
      "source": [
        "so = \"Считается, что кроме трёх всем известных – мясо, просо, колесо – четвёртого такого слова в русском языке не существует\"\n",
        "print(re.findall('[А-я]+со', so))"
      ],
      "execution_count": null,
      "outputs": [
        {
          "output_type": "stream",
          "text": [
            "['мясо', 'просо', 'колесо']\n"
          ],
          "name": "stdout"
        }
      ]
    },
    {
      "cell_type": "markdown",
      "metadata": {
        "id": "QkJZPYICnvFq"
      },
      "source": [
        "Метод **findall()** удобен тем, что можно сразу посчитать количество повторяющихся подстрок в строке функцией len():"
      ]
    },
    {
      "cell_type": "code",
      "metadata": {
        "id": "BnpFrof_n0QY",
        "colab": {
          "base_uri": "https://localhost:8080/"
        },
        "outputId": "83e0f672-f237-4c80-f839-b07b9559a5c3"
      },
      "source": [
        "string = \"«Taxi Driver» 8 февраля 1976 года Нью-Йорк Роберт ДеНиро\"\n",
        "print(len(re.findall('\\w+', string)))"
      ],
      "execution_count": null,
      "outputs": [
        {
          "output_type": "stream",
          "text": [
            "10\n"
          ],
          "name": "stdout"
        }
      ]
    },
    {
      "cell_type": "markdown",
      "metadata": {
        "id": "2g-Pf-x0n3mT"
      },
      "source": [
        "Функция len() вывела результат на единицу больше, чем ожидалось. Так произошло, потому что слово «Нью-Йорк» разбилось на два слова, ведь «-» не подходит под шаблон '\\w+'.\n",
        "Добавим '-' в шаблон регулярного выражения и учтем Нью-Йорк как одно слово.\n"
      ]
    },
    {
      "cell_type": "code",
      "metadata": {
        "id": "etfOBU0Pn63W",
        "colab": {
          "base_uri": "https://localhost:8080/"
        },
        "outputId": "1bbb6a68-9849-4709-c1f7-93f4e2bae59f"
      },
      "source": [
        "string = \"«Taxi Driver» 8 февраля 1976 года Нью-Йорк Роберт ДеНиро\"\n",
        "print(len(re.findall('[\\w-]+', string)))"
      ],
      "execution_count": null,
      "outputs": [
        {
          "output_type": "stream",
          "text": [
            "9\n"
          ],
          "name": "stdout"
        }
      ]
    },
    {
      "cell_type": "markdown",
      "metadata": {
        "id": "fC6gZk92hVj2"
      },
      "source": [
        "### Web Mining"
      ]
    },
    {
      "cell_type": "markdown",
      "metadata": {
        "id": "ACrZEAjjbb4o"
      },
      "source": [
        "Если данных мало, то может понадобиться обогащение данных. Это процесс добавления данных в уже готовую выборку. Сперва находят ценные для исследования веб-ресурсы, а затем извлекают из них нужные данные. Этот процесс называют **Web Mining** (от англ. web — «сеть»; mining — «добыча, разработка полезных ископаемых»). В результате удается не только учесть больше факторов, но и выявить новые закономерности, прийти к неожиданным выводам. \n",
        "\n",
        "\n",
        "Что добывают в процессе Web Mining:\n",
        "-\tКонтент сайтов. Текст, картинки, файлы, таблицы.\n",
        "-\tСтруктуры сайтов. Ссылки и взаимосвязи веб-страниц — всё, что даёт представление об устройстве сайта.\n",
        "-\tСведения о пользователях. Характеристики взаимодействия пользователя с сайтом. \n",
        "\n",
        "По-другому Web Mining называют парсинг (от англ. parse — «проводить разбор, анализ»). Аналитики на профессиональном жаргоне говорят, что «парсят» сайты.\n"
      ]
    },
    {
      "cell_type": "markdown",
      "metadata": {
        "id": "UmfuBNWihaWG"
      },
      "source": [
        "#### Get-запрос"
      ]
    },
    {
      "cell_type": "markdown",
      "metadata": {
        "id": "iv-RWErOhysa"
      },
      "source": [
        "\n",
        "\n",
        "Для получения данных с сервера понадобится метод **get()**. Для отправления HTTP-запросов подключают библиотеку requests (англ. «запросы»). Импортируем библиотеку:"
      ]
    },
    {
      "cell_type": "code",
      "metadata": {
        "id": "wh1hqEreh37h"
      },
      "source": [
        "import requests "
      ],
      "execution_count": null,
      "outputs": []
    },
    {
      "cell_type": "markdown",
      "metadata": {
        "id": "CxcXWQnqeE9D"
      },
      "source": [
        "Прежде всего, нужна ссылка на сайт. Сохраним ссылку в переменной URL (от англ. Uniform Resource Locator — «единый указатель ресурса»)."
      ]
    },
    {
      "cell_type": "code",
      "metadata": {
        "id": "96UEo5QSeJLy"
      },
      "source": [
        "URL='https://datasciencefefu.github.io/course/scorsese.html'"
      ],
      "execution_count": null,
      "outputs": []
    },
    {
      "cell_type": "markdown",
      "metadata": {
        "id": "0x68icuRc-3q"
      },
      "source": [
        "Метод get() библиотеки Requests выступает в роли браузера. Передадим ему ссылку на сайт как аргумент. Метод отправит get-запрос на сервер, обработает полученный оттуда результат и вернёт объект **response** (англ. «ответ») — специальный объект, содержащий ответ сервера на HTTP-запрос:"
      ]
    },
    {
      "cell_type": "code",
      "metadata": {
        "id": "TcMdm8i7gajO"
      },
      "source": [
        "req = requests.get(URL) "
      ],
      "execution_count": null,
      "outputs": []
    },
    {
      "cell_type": "markdown",
      "metadata": {
        "id": "dR6LnRsedDar"
      },
      "source": [
        "Объект response содержит ответ сервера: код состояния, содержание запроса и код самой HTML-страницы. Атрибуты объекта Response позволяют возвращать не все данные с сервера, а только нужные для анализа. Например, объект Response c атрибутом text вернет лишь текстовое содержание запроса:"
      ]
    },
    {
      "cell_type": "code",
      "metadata": {
        "colab": {
          "base_uri": "https://localhost:8080/"
        },
        "id": "Gio0J2l8dJnN",
        "outputId": "368d0cd7-b7f5-421b-f227-9b10dac6e67a"
      },
      "source": [
        "print(req.text) "
      ],
      "execution_count": null,
      "outputs": [
        {
          "output_type": "stream",
          "text": [
            "<!DOCTYPE HTML>\n",
            "\n",
            "<html>\n",
            "\t<head>\n",
            "\t<title>Содержимое курса</title>\n",
            "\t\t<meta charset=\"utf-8\" />\n",
            "\t\t<meta name=\"viewport\" content=\"width=device-width, initial-scale=1, user-scalable=no\" />\n",
            "\t\t<link rel=\"stylesheet\" href=\"assets/css/main.css\" />\n",
            "\t\t<link rel=\"icon\" href=\"images/pic0.ico\" type=\"image/x-icon\">\n",
            "\t\t<noscript><link rel=\"stylesheet\" href=\"assets/css/noscript.css\" /></noscript>\n",
            "\t</head>\n",
            "\t<body class=\"is-preload\">\n",
            "\n",
            "\t\t<!-- Page Wrapper -->\n",
            "\t\t\t<div id=\"page-wrapper\">\n",
            "\n",
            "\t\t\t\t<!-- Header -->\n",
            "\t\t\t\t\t<header id=\"header\" class=\"alt\">\n",
            "\t\t\t\t\t\t<h1><a href=\"info.html\">Содержимое курса</a></h1>\n",
            "\t\t\t\t\t\t<nav>\n",
            "\t\t\t\t\t\t\t<a href=\"#menu\">Навигация</a>\n",
            "\t\t\t\t\t\t</nav>\n",
            "\t\t\t\t\t</header>\n",
            "\n",
            "\t\t\t\t<!-- Menu -->\n",
            "\t\t\t\t\t<nav id=\"menu\">\n",
            "\t\t\t\t\t\t<div class=\"inner\">\n",
            "\t\t\t\t\t\t\t<h2>Навигация</h2>\n",
            "\t\t\t\t\t\t\t<ul class=\"links\">\n",
            "\t\t\t\t\t\t\t\t<li><a href=\"index.html\">Главная</a></li>\n",
            "\t\t\t\t\t\t\t\t<li><a href=\"info.html\">О курсе</a></li>\n",
            "\t\t\t\t\t\t\t\t<li><a href=\"extrainfo.html\">Дополнительные материалы</a></li>\n",
            "\t\t\t\t\t\t\t</ul>\n",
            "\t\t\t\t\t\t\t<a href=\"#\" class=\"close\">Close</a>\n",
            "\t\t\t\t\t\t</div>\n",
            "\t\t\t\t\t</nav>\n",
            "\n",
            "\t\t\t\t<!-- Wrapper -->\n",
            "\t\t\t\t\t<section id=\"wrapper\">\n",
            "\t\t\t\t\t\t<header>\n",
            "\t\t\t\t\t\t\t<div class=\"inner\">\n",
            "\t\t\t\t\t\t\t\t<h2>Содержимое курса</h2>\t\t\t\t\t\t\t\t\n",
            "\t\t\t\t\t\t\t</div>\n",
            "\t\t\t\t\t\t</header>\n",
            "\n",
            "\t\t\t\t\t\t<!-- Content -->\n",
            "\t\t\t\t\t\t\t<div class=\"wrapper\">\n",
            "\t\t\t\t\t\t\t\t<div class=\"inner\">\n",
            "\n",
            "\t\t\t\t\t\t\t\t\t<p>Мартин Скорсезе - американский кинорежиссёр, продюсер, сценарист и актёр. Фильмам Скорсезе присущи выразительная жестокость и насилие, в кинематографических кругах он известен как мастер гангстерских лент. Скорсезе неоднократно признавался одним из величайших и наиболее влиятельных кинорежиссёров современности. Посмотрим на некоторые награды знаменитого режиссера.</p>\n",
            "\t\t\t\t\t\t\t\t\t<section>\n",
            "\t\t\t\t\t\t\t\t\t\t<h3 class=\"major\">Награды Каннского и Берлинского кинофестивалей</h3>\n",
            "\t\t\t\t\t\t\t\t\t\t<h4></h4>\n",
            "\t\t\t\t\t\t\t\t\t\t<div class=\"table-wrapper\">\n",
            "\t\t\t\t\t\t\t\t\t\t\t<table id=\"cannes_berlin_film_festival\">\n",
            "\t\t\t\t\t\t\t\t\t\t\t\t<thead>\n",
            "\t\t\t\t\t\t\t\t\t\t\t\t\t<tr>\n",
            "\t\t\t\t\t\t\t\t\t\t\t\t\t\t<th>Название фильма</th>\n",
            "\t\t\t\t\t\t\t\t\t\t\t\t\t\t<th>Дата американской премьеры</th>\n",
            "\t\t\t\t\t\t\t\t\t\t\t\t\t\t<th>Основное место съемок</th>\n",
            "\t\t\t\t\t\t\t\t\t\t\t\t\t\t<th>Главный актер</th>\n",
            "\t\t\t\t\t\t\t\t\t\t\t\t\t</tr>\n",
            "\t\t\t\t\t\t\t\t\t\t\t\n",
            "\t\t\t\t\t\t\t\t\t\t\t\t</thead>\n",
            "\t\t\t\t\t\t\t\t\t\t\t\t<tbody>\n",
            "\t\t\t\t\t\t\t\t\t\t\t\t\t<tr>\n",
            "\t\t\t\t\t\t\t\t\t\t\t\t\t\t<td>«Taxi Driver»</td>\n",
            "\t\t\t\t\t\t\t\t\t\t\t\t\t\t<td>8 февраля 1976 года</td>\n",
            "\t\t\t\t\t\t\t\t\t\t\t\t\t\t<td>Нью-Йорк</td>\n",
            "\t\t\t\t\t\t\t\t\t\t\t\t\t\t<td>Роберт ДеНиро</td>\n",
            "\t\t\t\t\t\t\t\t\t\t\t\t\t</tr>\n",
            "\t\t\t\t\t\t\t\t\t\t\t\t\t<tr>\n",
            "\t\t\t\t\t\t\t\t\t\t\t\t\t\t<td>«After Hours»</td>\n",
            "\t\t\t\t\t\t\t\t\t\t\t\t\t\t<td>11 сентября 1985 года</td>\n",
            "\t\t\t\t\t\t\t\t\t\t\t\t\t\t<td>Нью-Йорк</td>\n",
            "\t\t\t\t\t\t\t\t\t\t\t\t\t\t<td>Гриффин Данн</td>\n",
            "\t\t\t\t\t\t\t\t\t\t\t\t\t</tr>\n",
            "\t\t\t\t\t\t\t\t\t\t\t\t\t<tr>\n",
            "\t\t\t\t\t\t\t\t\t\t\t\t\t\t<td>«Goodfellas»</td>\n",
            "\t\t\t\t\t\t\t\t\t\t\t\t\t\t<td>9 сентября 1990 года</td>\n",
            "\t\t\t\t\t\t\t\t\t\t\t\t\t\t<td>Нью-Йорк</td>\n",
            "\t\t\t\t\t\t\t\t\t\t\t\t\t\t<td>Роберт ДеНиро</td>\n",
            "\t\t\t\t\t\t\t\t\t\t\t\t\t</tr>\n",
            "\t\t\t\t\t\t\t\t\t\t\t\t\t\n",
            "\t\t\t\t\t\t\t\t\t\t\t\t</tbody>\n",
            "\t\t\t\t\t\t\t\t\t\t\t\n",
            "\t\t\t\t\t\t\t\t\t\t\t</table>\n",
            "\t\t\t\t\t\t\t\t\t\t</div>\t\n",
            "\t\t\t\t\t\t\t\t\t</section>\n",
            "\n",
            "\t\t\t\t\t\t\t\t\t<section>\n",
            "\t\t\t\t\t\t\t\t\t\t<h3 class=\"major\">Номинации на Оскар</h3>\n",
            "\t\t\t\t\t\t\t\t\t\t<h4></h4>\n",
            "\t\t\t\t\t\t\t\t\t\t<div class=\"table-wrapper\">\n",
            "\t\t\t\t\t\t\t\t\t\t\t<table id=\"oscar\">\n",
            "\t\t\t\t\t\t\t\t\t\t\t\t<thead>\n",
            "\t\t\t\t\t\t\t\t\t\t\t\t\t<tr>\n",
            "\t\t\t\t\t\t\t\t\t\t\t\t\t\t<th>Название фильма</th>\n",
            "\t\t\t\t\t\t\t\t\t\t\t\t\t\t<th>Дата американской премьеры</th>\n",
            "\t\t\t\t\t\t\t\t\t\t\t\t\t\t<th>Основное место съемок</th>\n",
            "\t\t\t\t\t\t\t\t\t\t\t\t\t\t<th>Главный актер</th>\n",
            "\t\t\t\t\t\t\t\t\t\t\t\t\t</tr>\n",
            "\t\t\t\t\t\t\t\t\t\t\t\n",
            "\t\t\t\t\t\t\t\t\t\t\t\t</thead>\n",
            "\t\t\t\t\t\t\t\t\t\t\t\t<tbody>\n",
            "\t\t\t\t\t\t\t\t\t\t\t\t\t<tr>\n",
            "\t\t\t\t\t\t\t\t\t\t\t\t\t\t<td>«Raging Bull»</td>\n",
            "\t\t\t\t\t\t\t\t\t\t\t\t\t\t<td>14 ноября 1980 года</td>\n",
            "\t\t\t\t\t\t\t\t\t\t\t\t\t\t<td>Нью-Йорк</td>\n",
            "\t\t\t\t\t\t\t\t\t\t\t\t\t\t<td>Роберт ДеНиро</td>\n",
            "\t\t\t\t\t\t\t\t\t\t\t\t\t</tr>\n",
            "\t\t\t\t\t\t\t\t\t\t\t\t\t<tr>\n",
            "\t\t\t\t\t\t\t\t\t\t\t\t\t\t<td>«The Last Temptation of Christ»</td>\n",
            "\t\t\t\t\t\t\t\t\t\t\t\t\t\t<td>12 августа 1988 года</td>\n",
            "\t\t\t\t\t\t\t\t\t\t\t\t\t\t<td>Уарзазат</td>\n",
            "\t\t\t\t\t\t\t\t\t\t\t\t\t\t<td>Уиллем Дефо</td>\n",
            "\t\t\t\t\t\t\t\t\t\t\t\t\t</tr>\n",
            "\t\t\t\t\t\t\t\t\t\t\t\t\t<tr>\n",
            "\t\t\t\t\t\t\t\t\t\t\t\t\t\t<td>«Gangs of New York»</td>\n",
            "\t\t\t\t\t\t\t\t\t\t\t\t\t\t<td>27 марта 2003 года</td>\n",
            "\t\t\t\t\t\t\t\t\t\t\t\t\t\t<td>Студия Чинечитта</td>\n",
            "\t\t\t\t\t\t\t\t\t\t\t\t\t\t<td>Леонардо ДиКаприо</td>\n",
            "\t\t\t\t\t\t\t\t\t\t\t\t\t</tr>\n",
            "\t\t\t\t\t\t\t\t\t\t\t\t\t<tr>\n",
            "\t\t\t\t\t\t\t\t\t\t\t\t\t\t<td>«The Aviator»</td>\n",
            "\t\t\t\t\t\t\t\t\t\t\t\t\t\t<td>25 декабря 2004 года</td>\n",
            "\t\t\t\t\t\t\t\t\t\t\t\t\t\t<td>Монреаль</td>\n",
            "\t\t\t\t\t\t\t\t\t\t\t\t\t\t<td>Леонардо ДиКаприо</td>\n",
            "\t\t\t\t\t\t\t\t\t\t\t\t\t</tr>\n",
            "\t\t\t\t\t\t\t\t\t\t\t\t\t<tr>\n",
            "\t\t\t\t\t\t\t\t\t\t\t\t\t\t<td>«Hugo»</td>\n",
            "\t\t\t\t\t\t\t\t\t\t\t\t\t\t<td>5 января 2012 года</td>\n",
            "\t\t\t\t\t\t\t\t\t\t\t\t\t\t<td>Париж</td>\n",
            "\t\t\t\t\t\t\t\t\t\t\t\t\t\t<td>Эйса Баттерфилд</td>\n",
            "\t\t\t\t\t\t\t\t\t\t\t\t\t</tr>\n",
            "\t\t\t\t\t\t\t\t\t\t\t\t\t<tr>\n",
            "\t\t\t\t\t\t\t\t\t\t\t\t\t\t<td>«The Wolf of Wall Street»</td>\n",
            "\t\t\t\t\t\t\t\t\t\t\t\t\t\t<td>6 февраля 2014 года</td>\n",
            "\t\t\t\t\t\t\t\t\t\t\t\t\t\t<td>Нью-Йорк</td>\n",
            "\t\t\t\t\t\t\t\t\t\t\t\t\t\t<td>Леонардо ДиКаприо</td>\n",
            "\t\t\t\t\t\t\t\t\t\t\t\t\t</tr>\n",
            "\t\t\t\t\t\t\t\t\t\t\t\t\t<tr>\n",
            "\t\t\t\t\t\t\t\t\t\t\t\t\t\t<td>«The Irishman»</td>\n",
            "\t\t\t\t\t\t\t\t\t\t\t\t\t\t<td>1 ноября 2019 года</td>\n",
            "\t\t\t\t\t\t\t\t\t\t\t\t\t\t<td>Нью-Йорк</td>\n",
            "\t\t\t\t\t\t\t\t\t\t\t\t\t\t<td>Роберт ДеНиро</td>\n",
            "\t\t\t\t\t\t\t\t\t\t\t\t\t</tr>\n",
            "\t\t\t\t\t\t\t\t\t\t\t\t</tbody>\n",
            "\t\t\t\t\t\t\t\t\t\t\t\n",
            "\t\t\t\t\t\t\t\t\t\t\t</table>\n",
            "\t\t\t\t\t\t\t\t\t\t</div>\t\n",
            "\t\t\t\t\t\t\t\t\t</section>\n",
            "</section>\n",
            "\t\t\t\t\n",
            "\n",
            "\t\t\t\t<!-- Footer -->\n",
            "\t\t\t\t\t<section id=\"footer\">\n",
            "\t\t\t\t\t\t<div class=\"inner\">\n",
            "\t\t\t\t\t\t\t<h2 class=\"major\">Контакты</h2>\n",
            "\t\t\t\t\t\t<!-- \t<p>Cras mattis ante fermentum, malesuada neque vitae, eleifend erat. Phasellus non pulvinar erat. Fusce tincidunt, nisl eget mattis egestas, purus ipsum consequat orci, sit amet lobortis lorem lacus in tellus. Sed ac elementum arcu. Quisque placerat auctor laoreet.</p> -->\n",
            "\t\t\t\t\t\t\t\n",
            "\t\t\t\t\t\t\t<ul class=\"contact\">\n",
            "\t\t\t\t\t\t\t\t<li class=\"icon solid fa-home\">\n",
            "\t\t\t\t\t\t\t\t\t<a href=\"https://www.dvfu.ru\">Дальневосточный федеральный университет</a>\n",
            "\t\t\t\t\t\t\t\t</li>\n",
            "\t\t\t\t\t\t\t\t<li class=\"icon solid fa-phone\">+7 (951) 002-36-52</li>\n",
            "\t\t\t\t\t\t\t\t<li class=\"icon solid fa-envelope\">kovalchuk.ao@students.dvfu.ru</a></li>\n",
            "\t\t\t\t\t\t\t\t\n",
            "\t\t\t\t\t\t\t</ul>\n",
            "\t\t\t\t\t\t\t<ul class=\"copyright\">\n",
            "\t\t\t\t\t\t\t\t<li>&copy;<a href=\"https://github.com/bogdaline\">Alina Kovalchuk</a></li>\n",
            "\t\t\t\t\t\t\t</ul>\n",
            "\t\t\t\t\t\t</div>\n",
            "\t\t\t\t\t</section>\n",
            "\n",
            "\t\t\t</div>\n",
            "\t\t<!-- Scripts -->\n",
            "\t\t\t<script src=\"assets/js/jquery.min.js\"></script>\n",
            "\t\t\t<script src=\"assets/js/jquery.scrollex.min.js\"></script>\n",
            "\t\t\t<script src=\"assets/js/browser.min.js\"></script>\n",
            "\t\t\t<script src=\"assets/js/breakpoints.min.js\"></script>\n",
            "\t\t\t<script src=\"assets/js/util.js\"></script>\n",
            "\t\t\t<script src=\"assets/js/main.js\"></script>\n",
            "\n",
            "\t</body>\n",
            "</html>\n"
          ],
          "name": "stdout"
        }
      ]
    },
    {
      "cell_type": "markdown",
      "metadata": {
        "id": "2Ks7JRmpdGgc"
      },
      "source": [
        "Атрибут status_code (от англ. «код состояния») позволяет понять отправил ли сервер ответ или возникла какая-то ошибка."
      ]
    },
    {
      "cell_type": "code",
      "metadata": {
        "colab": {
          "base_uri": "https://localhost:8080/"
        },
        "id": "qQQEELWXhs3i",
        "outputId": "6fdcca57-6d3f-4418-8e5e-30428bbaa63f"
      },
      "source": [
        "print(req.status_code) "
      ],
      "execution_count": null,
      "outputs": [
        {
          "output_type": "stream",
          "text": [
            "200\n"
          ],
          "name": "stdout"
        }
      ]
    },
    {
      "cell_type": "markdown",
      "metadata": {
        "id": "uhlQUSo_dQcG"
      },
      "source": [
        "Не все запросы возвращаются с данными. Иногда результатом запроса бывает ошибка: в зависимости от типа её обозначают специальным кодом. \n",
        "\n",
        "Код ошибки\t|Название\t|Значение\n",
        "---|---------|------------\n",
        "200\t|ОК\t|Всё отлично\n",
        "302\t|Found\t|Расположение ресурса изменилось\n",
        "400\t|Bad Request\t|Синтаксическая ошибка в запросе\n",
        "404\t|Not Found\t|Ресурс не найден\n",
        "500\t|Internal Server Error\t|Внутренняя ошибка сервера\n",
        "502\t|Bad Gateway\t|Ошибка при обмене данных между серверами\n",
        "503\t|Server Unvailable\t|Сервер временно не может обрабатывать запросы\n"
      ]
    },
    {
      "cell_type": "markdown",
      "metadata": {
        "id": "as5GjAlojFKx"
      },
      "source": [
        "#### Парсинг HTML"
      ]
    },
    {
      "cell_type": "markdown",
      "metadata": {
        "id": "8VN1kFRTjJrj"
      },
      "source": [
        "После того как мы отправили get-запрос и добыли код страницы, необходимо добыть чистые данные. Вручную это делать достаточно долго и сложно, поэтому следует\n",
        "обратиться к возможностям библиотеки **BeautifulSoup** (от англ. beautiful soup, «красивый суп»). Имя библиотеки выбрано в противовес tag soup (англ. «суп из тегов»), как уничижительно называют неструктурированный, небрежно написанный код веб-страницы.\n",
        "\n",
        "Методы библиотеки BeautifulSoup превращают HTML-файл в древовидную структуру. После этого нужный контент легко отыскать по тегам и атрибутам.\n",
        "\n",
        "\n"
      ]
    },
    {
      "cell_type": "markdown",
      "metadata": {
        "id": "kUlOTXoGjS_q"
      },
      "source": [
        "Импортируем библиотеку и создадим объект BeautifulSoup:"
      ]
    },
    {
      "cell_type": "code",
      "metadata": {
        "id": "HmM-G2d5jTvl"
      },
      "source": [
        "from bs4 import BeautifulSoup\n",
        "\n",
        "soup = BeautifulSoup(req.text, 'lxml') "
      ],
      "execution_count": null,
      "outputs": []
    },
    {
      "cell_type": "markdown",
      "metadata": {
        "id": "IZVRHYQfjauC"
      },
      "source": [
        "Первый аргумент — это данные, из которых будет собираться древовидная структура. Второй аргумент — синтаксический анализатор, или парсер. Он отвечает за то, как именно из кода веб-страницы получается «дерево». Парсеров много, они создают разные структуры из одного и того же HTML-документа. За высокую скорость работы часто выбирают анализатор lxml. Есть и другие, например, html.parser или xml."
      ]
    },
    {
      "cell_type": "markdown",
      "metadata": {
        "id": "MmSUYSJmgzcF"
      },
      "source": [
        "Первый метод поиска называется **find()** (англ. «найти»). В HTML-документе он находит первый элемент, имя которого ему передали в качестве аргумента, и возвращает его весь, с тегами и контентом. Найдём, к примеру, первый заголовок третьего уровня:"
      ]
    },
    {
      "cell_type": "code",
      "metadata": {
        "colab": {
          "base_uri": "https://localhost:8080/"
        },
        "id": "qr-USLj5g_Lq",
        "outputId": "a4e42e0a-bebd-45c3-b8aa-146c4d351d49"
      },
      "source": [
        "heading_3=soup.find('h3')\n",
        "print(heading_3) "
      ],
      "execution_count": null,
      "outputs": [
        {
          "output_type": "stream",
          "text": [
            "<h3 class=\"major\">Награды Каннского и Берлинского кинофестивалей</h3>\n"
          ],
          "name": "stdout"
        }
      ]
    },
    {
      "cell_type": "markdown",
      "metadata": {
        "id": "nPqO00KjhFwG"
      },
      "source": [
        "Чтобы посмотреть контент без тега, вызывают метод **text**. Результат возвращается в виде строки:"
      ]
    },
    {
      "cell_type": "code",
      "metadata": {
        "colab": {
          "base_uri": "https://localhost:8080/"
        },
        "id": "mCTSPJpjhGgJ",
        "outputId": "5f902395-c93c-4eef-b5c8-8dd5cc134066"
      },
      "source": [
        "print(heading_3.text) "
      ],
      "execution_count": null,
      "outputs": [
        {
          "output_type": "stream",
          "text": [
            "Награды Каннского и Берлинского кинофестивалей\n"
          ],
          "name": "stdout"
        }
      ]
    },
    {
      "cell_type": "markdown",
      "metadata": {
        "id": "galuhem6hMKE"
      },
      "source": [
        "Существует и другой метод поиска — **find_all** (англ. «найти всё»). В отличие от предыдущего метода, find_all() находит все вхождения определённого элемента в HTML-документе и возвращает список:"
      ]
    },
    {
      "cell_type": "code",
      "metadata": {
        "colab": {
          "base_uri": "https://localhost:8080/"
        },
        "id": "MFUXlUvHhP4U",
        "outputId": "bc03c31a-13e3-4f6f-dc82-82182e9b0f25"
      },
      "source": [
        "paragraph=soup.find_all('p') # напомним, p - это параграф, текст между тегами <p> и </p>\n",
        "print(paragraph) "
      ],
      "execution_count": null,
      "outputs": [
        {
          "output_type": "stream",
          "text": [
            "[<p>Мартин Скорсезе - американский кинорежиссёр, продюсер, сценарист и актёр. Фильмам Скорсезе присущи выразительная жестокость и насилие, в кинематографических кругах он известен как мастер гангстерских лент. Скорсезе неоднократно признавался одним из величайших и наиболее влиятельных кинорежиссёров современности. Посмотрим на некоторые награды знаменитого режиссера.</p>]\n"
          ],
          "name": "stdout"
        }
      ]
    },
    {
      "cell_type": "markdown",
      "metadata": {
        "id": "1sjBFtYthghd"
      },
      "source": [
        "Методом text вычленим только контент из параграфов:"
      ]
    },
    {
      "cell_type": "code",
      "metadata": {
        "colab": {
          "base_uri": "https://localhost:8080/"
        },
        "id": "1VVpvbpRhhYf",
        "outputId": "5fd04cc5-d944-4b43-fda7-1e4b26d18047"
      },
      "source": [
        "for paragraph in soup.find_all('p'):\n",
        "    print(paragraph.text) "
      ],
      "execution_count": null,
      "outputs": [
        {
          "output_type": "stream",
          "text": [
            "Мартин Скорсезе - американский кинорежиссёр, продюсер, сценарист и актёр. Фильмам Скорсезе присущи выразительная жестокость и насилие, в кинематографических кругах он известен как мастер гангстерских лент. Скорсезе неоднократно признавался одним из величайших и наиболее влиятельных кинорежиссёров современности. Посмотрим на некоторые награды знаменитого режиссера.\n"
          ],
          "name": "stdout"
        }
      ]
    },
    {
      "cell_type": "markdown",
      "metadata": {
        "id": "K7qDysQhhnYt"
      },
      "source": [
        "У методов **find()** и **find_all()** есть дополнительный фильтр поиска элементов страницы — параметр **attrs** (от англ. attributes, «атрибуты»). Он находит индентификаторы и их классы. \n",
        "Параметру attrs передают словарь с именами и значениями атрибутов. Например, найдем элемент с идентификатором 'oscar':"
      ]
    },
    {
      "cell_type": "code",
      "metadata": {
        "colab": {
          "base_uri": "https://localhost:8080/"
        },
        "id": "5s6c7uMui6u7",
        "outputId": "ac71da38-8611-4375-df61-15dc0c3f1f3f"
      },
      "source": [
        "print(soup.find('table',attrs={'id': 'oscar'})) "
      ],
      "execution_count": null,
      "outputs": [
        {
          "output_type": "stream",
          "text": [
            "<table id=\"oscar\">\n",
            "<thead>\n",
            "<tr>\n",
            "<th>Название фильма</th>\n",
            "<th>Дата американской премьеры</th>\n",
            "<th>Основное место съемок</th>\n",
            "<th>Главный актер</th>\n",
            "</tr>\n",
            "</thead>\n",
            "<tbody>\n",
            "<tr>\n",
            "<td>«Raging Bull»</td>\n",
            "<td>14 ноября 1980 года</td>\n",
            "<td>Нью-Йорк</td>\n",
            "<td>Роберт ДеНиро</td>\n",
            "</tr>\n",
            "<tr>\n",
            "<td>«The Last Temptation of Christ»</td>\n",
            "<td>12 августа 1988 года</td>\n",
            "<td>Уарзазат</td>\n",
            "<td>Уиллем Дефо</td>\n",
            "</tr>\n",
            "<tr>\n",
            "<td>«Gangs of New York»</td>\n",
            "<td>27 марта 2003 года</td>\n",
            "<td>Студия Чинечитта</td>\n",
            "<td>Леонардо ДиКаприо</td>\n",
            "</tr>\n",
            "<tr>\n",
            "<td>«The Aviator»</td>\n",
            "<td>25 декабря 2004 года</td>\n",
            "<td>Монреаль</td>\n",
            "<td>Леонардо ДиКаприо</td>\n",
            "</tr>\n",
            "<tr>\n",
            "<td>«Hugo»</td>\n",
            "<td>5 января 2012 года</td>\n",
            "<td>Париж</td>\n",
            "<td>Эйса Баттерфилд</td>\n",
            "</tr>\n",
            "<tr>\n",
            "<td>«The Wolf of Wall Street»</td>\n",
            "<td>6 февраля 2014 года</td>\n",
            "<td>Нью-Йорк</td>\n",
            "<td>Леонардо ДиКаприо</td>\n",
            "</tr>\n",
            "<tr>\n",
            "<td>«The Irishman»</td>\n",
            "<td>1 ноября 2019 года</td>\n",
            "<td>Нью-Йорк</td>\n",
            "<td>Роберт ДеНиро</td>\n",
            "</tr>\n",
            "</tbody>\n",
            "</table>\n"
          ],
          "name": "stdout"
        }
      ]
    },
    {
      "cell_type": "markdown",
      "metadata": {
        "id": "rz-wkOvijQx_"
      },
      "source": [
        "Усложним задачу. Достанем таблицу с номинациями Мартина Скорсезе на Оскар и превратим её в датафрейм:"
      ]
    },
    {
      "cell_type": "code",
      "metadata": {
        "colab": {
          "base_uri": "https://localhost:8080/"
        },
        "id": "XVPFcSq-jYwr",
        "outputId": "d4d4e3fb-f679-4e65-cca7-f15660ef877a"
      },
      "source": [
        "table = soup.find('table',attrs={'id': 'oscar'})\n",
        "# Применим метод find к тегу table\n",
        "# Укажем атрибут первой таблицы: oscar \n",
        "print(table) "
      ],
      "execution_count": null,
      "outputs": [
        {
          "output_type": "stream",
          "text": [
            "<table id=\"oscar\">\n",
            "<thead>\n",
            "<tr>\n",
            "<th>Название фильма</th>\n",
            "<th>Дата американской премьеры</th>\n",
            "<th>Основное место съемок</th>\n",
            "<th>Главный актер</th>\n",
            "</tr>\n",
            "</thead>\n",
            "<tbody>\n",
            "<tr>\n",
            "<td>«Raging Bull»</td>\n",
            "<td>14 ноября 1980 года</td>\n",
            "<td>Нью-Йорк</td>\n",
            "<td>Роберт ДеНиро</td>\n",
            "</tr>\n",
            "<tr>\n",
            "<td>«The Last Temptation of Christ»</td>\n",
            "<td>12 августа 1988 года</td>\n",
            "<td>Уарзазат</td>\n",
            "<td>Уиллем Дефо</td>\n",
            "</tr>\n",
            "<tr>\n",
            "<td>«Gangs of New York»</td>\n",
            "<td>27 марта 2003 года</td>\n",
            "<td>Студия Чинечитта</td>\n",
            "<td>Леонардо ДиКаприо</td>\n",
            "</tr>\n",
            "<tr>\n",
            "<td>«The Aviator»</td>\n",
            "<td>25 декабря 2004 года</td>\n",
            "<td>Монреаль</td>\n",
            "<td>Леонардо ДиКаприо</td>\n",
            "</tr>\n",
            "<tr>\n",
            "<td>«Hugo»</td>\n",
            "<td>5 января 2012 года</td>\n",
            "<td>Париж</td>\n",
            "<td>Эйса Баттерфилд</td>\n",
            "</tr>\n",
            "<tr>\n",
            "<td>«The Wolf of Wall Street»</td>\n",
            "<td>6 февраля 2014 года</td>\n",
            "<td>Нью-Йорк</td>\n",
            "<td>Леонардо ДиКаприо</td>\n",
            "</tr>\n",
            "<tr>\n",
            "<td>«The Irishman»</td>\n",
            "<td>1 ноября 2019 года</td>\n",
            "<td>Нью-Йорк</td>\n",
            "<td>Роберт ДеНиро</td>\n",
            "</tr>\n",
            "</tbody>\n",
            "</table>\n"
          ],
          "name": "stdout"
        }
      ]
    },
    {
      "cell_type": "markdown",
      "metadata": {
        "id": "EyDkCrASjlSv"
      },
      "source": [
        "Напомним, что открывающий тег `<table>` указывает начало таблицы, а закрывающий `</table>` — её конец. Внутри теги строк — `<tr>`; ячеек — `<td>` и заголовков столбцов — `<th>`.\n",
        "\n",
        "Создадим пустой список heading_table, где сохраним названия столбцов. В цикле методом find_all() найдём все элементы `th`. Методом text добудем их контент и добавим его в список heading_table:\n"
      ]
    },
    {
      "cell_type": "code",
      "metadata": {
        "colab": {
          "base_uri": "https://localhost:8080/"
        },
        "id": "DASictMIjsGC",
        "outputId": "5a53c1c0-4ef9-4563-e813-8b51eedea178"
      },
      "source": [
        "heading_table = []  # Список, в котором будут храниться названия столбцов\n",
        "for row in table.find_all('th'):  # Названия столбцов прячутся в элементах th, \n",
        "    # поэтому будем искать все элементы th внутри table и пробегать по ним в цикле\n",
        "    heading_table.append(row.text)  # Добавляем контент из тега th в список heading_table\n",
        "print(heading_table)"
      ],
      "execution_count": null,
      "outputs": [
        {
          "output_type": "stream",
          "text": [
            "['Название фильма', 'Дата американской премьеры', 'Основное место съемок', 'Главный актер']\n"
          ],
          "name": "stdout"
        }
      ]
    },
    {
      "cell_type": "markdown",
      "metadata": {
        "id": "xGzFn-BQj3Fq"
      },
      "source": [
        "Создадим пустой список content, сохраним там данные таблицы. В цикле обратимся к каждой строке по имени элемента tr.\n",
        "\n",
        "Отдельно отметим, что самая первая строка таблицы с заголовками в тегах `<th> </th>`, нас не интересует. Потому перед тем, как в цикле добавлять значения в пустой список, укажем, что это не касается строки с заголовками: `if not row.find_all('th')`.\n",
        "\n",
        "Применим метод find_all() к элементам `<td>`. Методом text очистим полученные ячейки от тегов и сложим в список content.\n"
      ]
    },
    {
      "cell_type": "code",
      "metadata": {
        "colab": {
          "base_uri": "https://localhost:8080/"
        },
        "id": "FH2x0q5Zj77D",
        "outputId": "cf02d87f-7bc6-4ed3-a80b-2bd6c50b7f52"
      },
      "source": [
        "content = []  # Список, в котором будут храниться данные из таблицы\n",
        "for row in table.find_all('tr'):\n",
        "    # Каждая строка обрамляется тегом tr, необходимо пробежаться в цикле по всем строкам\n",
        "    if not row.find_all('th'):\n",
        "        # Эта проверка необходима, чтобы пропустить первую строку таблицы с заголовками\n",
        "        content.append([element.text.replace('\\xa0', ' ') for element in row.find_all('td')])\n",
        "        # В каждой строке контент ячейки обрамляется тегами <td> </td>\n",
        "        # Необходимо пройти в цикле по всем элементам td, вычленить контент из ячеек \n",
        "        # и добавить его в список \n",
        "        # Затем добавить каждый из списков в список content \n",
        "print(content)"
      ],
      "execution_count": null,
      "outputs": [
        {
          "output_type": "stream",
          "text": [
            "[['«Raging Bull»', '14 ноября 1980 года', 'Нью-Йорк', 'Роберт ДеНиро'], ['«The Last Temptation of Christ»', '12 августа 1988 года', 'Уарзазат', 'Уиллем Дефо'], ['«Gangs of New York»', '27 марта 2003 года', 'Студия Чинечитта', 'Леонардо ДиКаприо'], ['«The Aviator»', '25 декабря 2004 года', 'Монреаль', 'Леонардо ДиКаприо'], ['«Hugo»', '5 января 2012 года', 'Париж', 'Эйса Баттерфилд'], ['«The Wolf of Wall Street»', '6 февраля 2014 года', 'Нью-Йорк', 'Леонардо ДиКаприо'], ['«The Irishman»', '1 ноября 2019 года', 'Нью-Йорк', 'Роберт ДеНиро']]\n"
          ],
          "name": "stdout"
        }
      ]
    },
    {
      "cell_type": "markdown",
      "metadata": {
        "id": "B8_JGeRnm-qJ"
      },
      "source": [
        "В результате получены 2 списка. В списке heading_table сохранили названия столбцов. В content — наполнение таблицы в виде двумерного массива."
      ]
    },
    {
      "cell_type": "code",
      "metadata": {
        "colab": {
          "base_uri": "https://localhost:8080/"
        },
        "id": "v_r-twNpm_wY",
        "outputId": "ef6ae9f1-14b7-403f-8af1-ccb2a80bf7b5"
      },
      "source": [
        "oscar_nomination = pd.DataFrame(content, columns=heading_table) \n",
        "# В качестве данных передаем двумерный список content, а в качестве заголовков - heading_table\n",
        "print(oscar_nomination.head()) "
      ],
      "execution_count": null,
      "outputs": [
        {
          "output_type": "stream",
          "text": [
            "                   Название фильма  ...      Главный актер\n",
            "0                    «Raging Bull»  ...      Роберт ДеНиро\n",
            "1  «The Last Temptation of Christ»  ...        Уиллем Дефо\n",
            "2              «Gangs of New York»  ...  Леонардо ДиКаприо\n",
            "3                    «The Aviator»  ...  Леонардо ДиКаприо\n",
            "4                           «Hugo»  ...    Эйса Баттерфилд\n",
            "\n",
            "[5 rows x 4 columns]\n"
          ],
          "name": "stdout"
        }
      ]
    },
    {
      "cell_type": "markdown",
      "metadata": {
        "id": "0NadLK8-nKxB"
      },
      "source": [
        "Теперь таблица с сайта преобразована в удобный для анализа датафрейм. "
      ]
    },
    {
      "cell_type": "markdown",
      "metadata": {
        "id": "vNW_rtLZmDTY"
      },
      "source": [
        "#### JSON"
      ]
    },
    {
      "cell_type": "markdown",
      "metadata": {
        "id": "iys_PH4PvqZi"
      },
      "source": [
        "Отвечая на запрос, сервер возвращает структурированные данные в одном из специальных форматов. Самый распространённый из них — **JSON**.  \n",
        "\n",
        "JSON расшифровывается как JavaScript Object Notation (англ. «объектная запись JavaScript»).\n",
        "Вот так выглядят данные в этом формате:\n"
      ]
    },
    {
      "cell_type": "code",
      "metadata": {
        "id": "GxBxFozDvrHI",
        "colab": {
          "base_uri": "https://localhost:8080/"
        },
        "outputId": "1236c9c6-5bc1-4c2d-a64f-f63760b15391"
      },
      "source": [
        "[\n",
        "  {\n",
        "    \"Название фильма\": \"«Taxi Driver»\",\n",
        "    \"Дата американской премьеры\": \"8 февраля 1976 года\",\n",
        "    \"Основное место съемок\": \"Нью-Йорк\",\n",
        "    \"Главный актер\": \"Роберт ДеНиро\"\n",
        "  },\n",
        "  {\n",
        "    \"Название фильма\": \"«After Hours»\",\n",
        "    \"Дата американской премьеры\": \"11 сентября 1985 года\",\n",
        "    \"Основное место съемок\": \"Нью-Йорк\",\n",
        "    \"Главный актер\": \"Гриффин Данн\"\n",
        "  },\n",
        "  {\n",
        "    \"Название фильма\": \"«Goodfellas»\",\n",
        "    \"Дата американской премьеры\": \"9 сентября 1990 года\",\n",
        "    \"Основное место съемок\": \"Нью-Йорк\",\n",
        "    \"Главный актер\": \"Роберт ДеНиро\"\n",
        "  }\n",
        "]"
      ],
      "execution_count": null,
      "outputs": [
        {
          "output_type": "execute_result",
          "data": {
            "text/plain": [
              "[{'Главный актер': 'Роберт ДеНиро',\n",
              "  'Дата американской премьеры': '8 февраля 1976 года',\n",
              "  'Название фильма': '«Taxi Driver»',\n",
              "  'Основное место съемок': 'Нью-Йорк'},\n",
              " {'Главный актер': 'Гриффин Данн',\n",
              "  'Дата американской премьеры': '11 сентября 1985 года',\n",
              "  'Название фильма': '«After Hours»',\n",
              "  'Основное место съемок': 'Нью-Йорк'},\n",
              " {'Главный актер': 'Роберт ДеНиро',\n",
              "  'Дата американской премьеры': '9 сентября 1990 года',\n",
              "  'Название фильма': '«Goodfellas»',\n",
              "  'Основное место съемок': 'Нью-Йорк'}]"
            ]
          },
          "metadata": {
            "tags": []
          },
          "execution_count": 34
        }
      ]
    },
    {
      "cell_type": "markdown",
      "metadata": {
        "id": "43Kp56D2vwuf"
      },
      "source": [
        "Если JSON содержит несколько элементов, их перечисляют внутри квадратных скобок: `[ ... ]` — как в списках. Каждый элемент JSON похож на словарь — он записан в фигурных скобках, внутри которых пары `ключ : значение.`\n",
        "\n",
        "Поскольку данные записаны в строго определённой форме, их можно превратить в строку и передать в HTTP-запросе. В этом и заключается смысл JSON: он позволяет собирать данные в объект (список пар `ключ : значение`), затем преобразовывать этот объект в строку для передачи в запросе. Получатель превращает эту строку обратно в объект.\n",
        "\n",
        "Ключи обрамлены двойными кавычками. Значениями ключей могут быть строки, числа, булевы значения, null, массивы, объекты.\n"
      ]
    },
    {
      "cell_type": "markdown",
      "metadata": {
        "id": "rjKA6ZCDvy3g"
      },
      "source": [
        "JSON начинается либо с фигурных скобок, если содержит один объект, либо с квадратных — если список объектов. JSON не может содержать функций, переменных или комментариев.\n",
        "\n",
        "В Python есть встроенный модуль для работы с данными в формате JSON:\n"
      ]
    },
    {
      "cell_type": "code",
      "metadata": {
        "id": "c-yIooR9v3Z6"
      },
      "source": [
        "import json"
      ],
      "execution_count": null,
      "outputs": []
    },
    {
      "cell_type": "markdown",
      "metadata": {
        "id": "8w65HS_Jv53N"
      },
      "source": [
        "Метод **json.loads()** (от англ. loads — «загрузки») конвертирует строки в формате JSON:"
      ]
    },
    {
      "cell_type": "code",
      "metadata": {
        "id": "A_UUcms6v8GY",
        "colab": {
          "base_uri": "https://localhost:8080/"
        },
        "outputId": "c8bca9d1-01c0-4143-e6ed-b0c3c852597d"
      },
      "source": [
        "x = '{\"Название фильма\": \"«Taxi Driver»\", \"Дата американской премьеры\": \"8 февраля 1976 года\"}'\n",
        "y = json.loads(x)\n",
        "\n",
        "print('Название фильма : {0}, Дата американской премьеры : {1}'.format(y['Название фильма'], y['Дата американской премьеры']))"
      ],
      "execution_count": null,
      "outputs": [
        {
          "output_type": "stream",
          "text": [
            "Название фильма : «Taxi Driver», Дата американской премьеры : 8 февраля 1976 года\n"
          ],
          "name": "stdout"
        }
      ]
    },
    {
      "cell_type": "markdown",
      "metadata": {
        "id": "zL5amtbkozBE"
      },
      "source": [
        "Напечатали название фильма и дату премьеры. Метод json.loads() преобразовал строку так, что к значениям 'Название фильма' и 'Дата американской премьеры' теперь возможно обратиться из функции print().\n",
        "\n",
        "Однако в этом случае в JSON была информация только по одному объекту. Чаще передают целый список:\n"
      ]
    },
    {
      "cell_type": "code",
      "metadata": {
        "colab": {
          "base_uri": "https://localhost:8080/"
        },
        "id": "bRafQKtppElx",
        "outputId": "04e1abe2-e647-455c-e39f-11d58d30e2a0"
      },
      "source": [
        "x = '[{\"Название фильма\": \"«Taxi Driver»\", \"Дата американской премьеры\": \"8 февраля 1976 года\"}, {\"Название фильма\": \"«After Hours»\", \"Дата американской премьеры\": \"11 сентября 1985 года\"}, {\"Название фильма\": \"«Goodfellas»\", \"Дата американской премьеры\": \"9 сентября 1990 года\"}]'\n",
        "y = json.loads(x)\n",
        "for i in y:\n",
        "    print('Название фильма : {0}, Дата американской премьеры : {1}'.format(i['Название фильма'], i['Дата американской премьеры']))"
      ],
      "execution_count": null,
      "outputs": [
        {
          "output_type": "stream",
          "text": [
            "Название фильма : «Taxi Driver», Дата американской премьеры : 8 февраля 1976 года\n",
            "Название фильма : «After Hours», Дата американской премьеры : 11 сентября 1985 года\n",
            "Название фильма : «Goodfellas», Дата американской премьеры : 9 сентября 1990 года\n"
          ],
          "name": "stdout"
        }
      ]
    },
    {
      "cell_type": "markdown",
      "metadata": {
        "id": "uQzApw0Jv-oQ"
      },
      "source": [
        "Метод **json.dumps()** (от англ. dumps — «разгрузки»), наоборот, конвертирует данные из Python в формат JSON. При работе с буквами кириллицы указывают аргумент ensure_ascii=False (строки запишутся как есть). Если ensure_ascii = True, все не ASCII символы в выводе будут экранированы последовательностями \\uXXXX, и результатом будет строка, содержащая только ASCII символы."
      ]
    },
    {
      "cell_type": "code",
      "metadata": {
        "id": "xnLWyNQWwUmF",
        "colab": {
          "base_uri": "https://localhost:8080/"
        },
        "outputId": "ad9e0671-1f03-4a56-d378-09c04851f0b8"
      },
      "source": [
        "out = json.dumps(y, ensure_ascii=False)\n",
        "print(out)"
      ],
      "execution_count": null,
      "outputs": [
        {
          "output_type": "stream",
          "text": [
            "[{\"Название фильма\": \"«Taxi Driver»\", \"Дата американской премьеры\": \"8 февраля 1976 года\"}, {\"Название фильма\": \"«After Hours»\", \"Дата американской премьеры\": \"11 сентября 1985 года\"}, {\"Название фильма\": \"«Goodfellas»\", \"Дата американской премьеры\": \"9 сентября 1990 года\"}]\n"
          ],
          "name": "stdout"
        }
      ]
    },
    {
      "cell_type": "markdown",
      "metadata": {
        "id": "uw2k4kKrz563"
      },
      "source": [
        "## Предобработка данных"
      ]
    },
    {
      "cell_type": "markdown",
      "metadata": {
        "id": "C6YHR-koqGaq"
      },
      "source": [
        "Перед тем как приступить к работе над аналитической задачей, следует предварительно подготовить сами данные.\n",
        "Процесс подготовки данных для дальнейшего анализа называется **предобработка**. Заключается она в поиске проблем, которые могут быть в данных, и в решении этих проблем.\n",
        "\n",
        "В программировании работает принцип GIGO (от англ. garbage in — garbage out, буквально «мусор на входе — мусор на выходе»). Это значит, что при ошибках во входных данных даже правильный алгоритм работы выдаёт неверные результаты.\n",
        "\n",
        "Получаемые аналитиком данные не всегда соответствуют ожидаемому уровню качества. Человеческий фактор, ошибки системы или процесса выгрузки могут «испортить» их, то есть сделать непригодными для анализа.\n",
        "\n",
        "Аналитики всегда готовят данные к дальнейшей работе с ними, так как в исходном виде они практически всегда содержат:\n",
        "-\tошибки ввода;\n",
        "-\tтехнические ошибки;\n",
        "-\tпропущенные значения;\n",
        "-\tдубликаты;\n",
        "-\tинформационный шум и ненужную информацию.\n",
        "\n",
        "Такие проблемы не позволят извлечь полезную информацию из данных, поэтому предобработка — важная часть работы аналитиков. Порой подготовка данных занимает больше времени, чем сам анализ.\n",
        "\n",
        "\n"
      ]
    },
    {
      "cell_type": "markdown",
      "metadata": {
        "id": "lpQrcFpUlyzT"
      },
      "source": [
        "Изучать методы предобработки данных лучше на практике. Основой для примеров предобратки данных будут две таблицы: ratings.csv и movies.csv.\n"
      ]
    },
    {
      "cell_type": "markdown",
      "metadata": {
        "id": "da1Wm1hfrAZh"
      },
      "source": [
        "Зачастую необходимая информация находится не в одной, а в сразу нескольких таблицах и вот почему:\n",
        "1. Данные формируются в нескольких независимых процессах и хранятся в отдельных таблицах.\n",
        "Например, у нас есть сеть кинотеатров, которая работает в нескольких городах. Скорее всего, данные по кинотеатрам по каждому отдельному городу будут храниться в разных таблицах, которые будут формироваться независимо друг от друга. И объединять их в единую таблицу придется тебе.\n",
        "2. Хранить все данные в одной таблице накладно для ёмкости диска.\n",
        "Например, названия фильмов из наших данных хранятся в отдельной небольшой таблице, а в логах стоит идентификатор фильма. Это делается для того, чтобы уменьшить объем занимаемой памяти на диске. Названия могут растягиваться на миллионы строк, а числовой идентификатор фильма занимает гораздо меньше места. Именно поэтому логи с идентификаторами выигрывают у единой таблицы с названиями.\n"
      ]
    },
    {
      "cell_type": "markdown",
      "metadata": {
        "id": "DIyYyksvroTQ"
      },
      "source": [
        "Подробнее опишем имеющиеся датасеты."
      ]
    },
    {
      "cell_type": "markdown",
      "metadata": {
        "id": "PKBjkKRcqkst"
      },
      "source": [
        "Таблица movies.csv — расшифровка идентификаторов фильмов\n",
        " \n",
        "Описание столбцов:\n",
        "-\tmovieId — идентификатор фильма;\n",
        "-\ttitle — название фильма и год производства;\n",
        "-\tgenres — список жанров, к которым относится фильм.\n"
      ]
    },
    {
      "cell_type": "markdown",
      "metadata": {
        "id": "iBTKpjDgsXM2"
      },
      "source": [
        "Прочитаем датасеты в формате csv, где все значения разделены точкой с запятой в movies и запятой в ratings. Это наши исходные данные. Чтобы применить к ним все возможности языка Python и библиотеки Pandas, надо импортировать эту библиотеку и сохранить её в переменной. По сокращённому названию панельных данных (panel data), с которых начиналась Pandas, эту переменную принято называть pd:"
      ]
    },
    {
      "cell_type": "code",
      "metadata": {
        "id": "5ejZhgK9HNeV",
        "colab": {
          "base_uri": "https://localhost:8080/",
          "height": 194
        },
        "outputId": "e9a4f049-32e9-46a9-ba63-e0121377eeea"
      },
      "source": [
        "movies = pd.read_csv('https://raw.githubusercontent.com/datasciencefefu/course/main/data/movies.csv', sep=\";\")\n",
        "movies.head()"
      ],
      "execution_count": null,
      "outputs": [
        {
          "output_type": "execute_result",
          "data": {
            "text/html": [
              "<div>\n",
              "<style scoped>\n",
              "    .dataframe tbody tr th:only-of-type {\n",
              "        vertical-align: middle;\n",
              "    }\n",
              "\n",
              "    .dataframe tbody tr th {\n",
              "        vertical-align: top;\n",
              "    }\n",
              "\n",
              "    .dataframe thead th {\n",
              "        text-align: right;\n",
              "    }\n",
              "</style>\n",
              "<table border=\"1\" class=\"dataframe\">\n",
              "  <thead>\n",
              "    <tr style=\"text-align: right;\">\n",
              "      <th></th>\n",
              "      <th>movieId</th>\n",
              "      <th>title</th>\n",
              "      <th>genres</th>\n",
              "    </tr>\n",
              "  </thead>\n",
              "  <tbody>\n",
              "    <tr>\n",
              "      <th>0</th>\n",
              "      <td>1</td>\n",
              "      <td>Toy Story (1995)</td>\n",
              "      <td>Adventure|Animation|Children|Comedy|Fantasy</td>\n",
              "    </tr>\n",
              "    <tr>\n",
              "      <th>1</th>\n",
              "      <td>2</td>\n",
              "      <td>Jumanji (1995)</td>\n",
              "      <td>Adventure|Children|Fantasy</td>\n",
              "    </tr>\n",
              "    <tr>\n",
              "      <th>2</th>\n",
              "      <td>3</td>\n",
              "      <td>Grumpier Old Men (1995)</td>\n",
              "      <td>Comedy|Romance</td>\n",
              "    </tr>\n",
              "    <tr>\n",
              "      <th>3</th>\n",
              "      <td>4</td>\n",
              "      <td>Waiting to Exhale (1995)</td>\n",
              "      <td>Comedy|Drama|Romance</td>\n",
              "    </tr>\n",
              "    <tr>\n",
              "      <th>4</th>\n",
              "      <td>5</td>\n",
              "      <td>Father of the Bride Part II (1995)</td>\n",
              "      <td>Comedy</td>\n",
              "    </tr>\n",
              "  </tbody>\n",
              "</table>\n",
              "</div>"
            ],
            "text/plain": [
              "   movieId  ...                                       genres\n",
              "0        1  ...  Adventure|Animation|Children|Comedy|Fantasy\n",
              "1        2  ...                   Adventure|Children|Fantasy\n",
              "2        3  ...                               Comedy|Romance\n",
              "3        4  ...                         Comedy|Drama|Romance\n",
              "4        5  ...                                       Comedy\n",
              "\n",
              "[5 rows x 3 columns]"
            ]
          },
          "metadata": {
            "tags": []
          },
          "execution_count": 39
        }
      ]
    },
    {
      "cell_type": "markdown",
      "metadata": {
        "id": "mzsJnEFyqf4s"
      },
      "source": [
        "Таблица ratings.csv — данные о выставленных фильмам оценках\n",
        "      \n",
        "Описание столбцов таблицы:\n",
        "-\tuserId — идентификатор пользователя, который поставил фильму оценку;\n",
        "-\tmovieId — идентификатор фильма;\n",
        "-\trating — выставленная оценка;\n",
        "-\ttimestamp — время (в формате unix time), когда была выставлена оценка."
      ]
    },
    {
      "cell_type": "code",
      "metadata": {
        "colab": {
          "base_uri": "https://localhost:8080/",
          "height": 194
        },
        "id": "tr5W3HHsp-qI",
        "outputId": "6e535b95-5ade-4a69-f450-c6824c08c4cc"
      },
      "source": [
        "ratings = pd.read_csv('https://raw.githubusercontent.com/datasciencefefu/course/main/data/ratings.csv', sep=\",\")\n",
        "ratings.head()"
      ],
      "execution_count": null,
      "outputs": [
        {
          "output_type": "execute_result",
          "data": {
            "text/html": [
              "<div>\n",
              "<style scoped>\n",
              "    .dataframe tbody tr th:only-of-type {\n",
              "        vertical-align: middle;\n",
              "    }\n",
              "\n",
              "    .dataframe tbody tr th {\n",
              "        vertical-align: top;\n",
              "    }\n",
              "\n",
              "    .dataframe thead th {\n",
              "        text-align: right;\n",
              "    }\n",
              "</style>\n",
              "<table border=\"1\" class=\"dataframe\">\n",
              "  <thead>\n",
              "    <tr style=\"text-align: right;\">\n",
              "      <th></th>\n",
              "      <th>userId</th>\n",
              "      <th>movieId</th>\n",
              "      <th>rating</th>\n",
              "      <th>timestamp</th>\n",
              "    </tr>\n",
              "  </thead>\n",
              "  <tbody>\n",
              "    <tr>\n",
              "      <th>0</th>\n",
              "      <td>1</td>\n",
              "      <td>1</td>\n",
              "      <td>4.0</td>\n",
              "      <td>964982703</td>\n",
              "    </tr>\n",
              "    <tr>\n",
              "      <th>1</th>\n",
              "      <td>1</td>\n",
              "      <td>3</td>\n",
              "      <td>4.0</td>\n",
              "      <td>964981247</td>\n",
              "    </tr>\n",
              "    <tr>\n",
              "      <th>2</th>\n",
              "      <td>1</td>\n",
              "      <td>6</td>\n",
              "      <td>4.0</td>\n",
              "      <td>964982224</td>\n",
              "    </tr>\n",
              "    <tr>\n",
              "      <th>3</th>\n",
              "      <td>1</td>\n",
              "      <td>47</td>\n",
              "      <td>5.0</td>\n",
              "      <td>964983815</td>\n",
              "    </tr>\n",
              "    <tr>\n",
              "      <th>4</th>\n",
              "      <td>1</td>\n",
              "      <td>50</td>\n",
              "      <td>5.0</td>\n",
              "      <td>964982931</td>\n",
              "    </tr>\n",
              "  </tbody>\n",
              "</table>\n",
              "</div>"
            ],
            "text/plain": [
              "   userId  movieId  rating  timestamp\n",
              "0       1        1     4.0  964982703\n",
              "1       1        3     4.0  964981247\n",
              "2       1        6     4.0  964982224\n",
              "3       1       47     5.0  964983815\n",
              "4       1       50     5.0  964982931"
            ]
          },
          "metadata": {
            "tags": []
          },
          "execution_count": 40
        }
      ]
    },
    {
      "cell_type": "markdown",
      "metadata": {
        "id": "YBd_ORpLqzgP"
      },
      "source": [
        "**unix time** — формат описания моментов во времени, определяется как количество секунд, прошедших с полуночи (00:00:00) 1 января 1970 года.\n",
        "Можно воспользоваться методом to_datetime для приведения времени к стандартному виду. Первый аргумент — это столбик для преобразования, второй — это единицы, в которых указано время (в нашем случае это секунды — “s”):\n"
      ]
    },
    {
      "cell_type": "code",
      "metadata": {
        "colab": {
          "base_uri": "https://localhost:8080/",
          "height": 194
        },
        "id": "_LfzDp57q4uj",
        "outputId": "4e7d41f8-cd11-4784-de85-a27be54bea40"
      },
      "source": [
        "time = pd.to_datetime(ratings['timestamp'],unit='s')\n",
        "ratings['timestamp'] = time\n",
        "ratings.tail()"
      ],
      "execution_count": null,
      "outputs": [
        {
          "output_type": "execute_result",
          "data": {
            "text/html": [
              "<div>\n",
              "<style scoped>\n",
              "    .dataframe tbody tr th:only-of-type {\n",
              "        vertical-align: middle;\n",
              "    }\n",
              "\n",
              "    .dataframe tbody tr th {\n",
              "        vertical-align: top;\n",
              "    }\n",
              "\n",
              "    .dataframe thead th {\n",
              "        text-align: right;\n",
              "    }\n",
              "</style>\n",
              "<table border=\"1\" class=\"dataframe\">\n",
              "  <thead>\n",
              "    <tr style=\"text-align: right;\">\n",
              "      <th></th>\n",
              "      <th>userId</th>\n",
              "      <th>movieId</th>\n",
              "      <th>rating</th>\n",
              "      <th>timestamp</th>\n",
              "    </tr>\n",
              "  </thead>\n",
              "  <tbody>\n",
              "    <tr>\n",
              "      <th>100831</th>\n",
              "      <td>610</td>\n",
              "      <td>166534</td>\n",
              "      <td>4.0</td>\n",
              "      <td>2017-05-03 21:53:22</td>\n",
              "    </tr>\n",
              "    <tr>\n",
              "      <th>100832</th>\n",
              "      <td>610</td>\n",
              "      <td>168248</td>\n",
              "      <td>5.0</td>\n",
              "      <td>2017-05-03 22:21:31</td>\n",
              "    </tr>\n",
              "    <tr>\n",
              "      <th>100833</th>\n",
              "      <td>610</td>\n",
              "      <td>168250</td>\n",
              "      <td>5.0</td>\n",
              "      <td>2017-05-08 19:50:47</td>\n",
              "    </tr>\n",
              "    <tr>\n",
              "      <th>100834</th>\n",
              "      <td>610</td>\n",
              "      <td>168252</td>\n",
              "      <td>5.0</td>\n",
              "      <td>2017-05-03 21:19:12</td>\n",
              "    </tr>\n",
              "    <tr>\n",
              "      <th>100835</th>\n",
              "      <td>610</td>\n",
              "      <td>170875</td>\n",
              "      <td>3.0</td>\n",
              "      <td>2017-05-03 21:20:15</td>\n",
              "    </tr>\n",
              "  </tbody>\n",
              "</table>\n",
              "</div>"
            ],
            "text/plain": [
              "        userId  movieId  rating           timestamp\n",
              "100831     610   166534     4.0 2017-05-03 21:53:22\n",
              "100832     610   168248     5.0 2017-05-03 22:21:31\n",
              "100833     610   168250     5.0 2017-05-08 19:50:47\n",
              "100834     610   168252     5.0 2017-05-03 21:19:12\n",
              "100835     610   170875     3.0 2017-05-03 21:20:15"
            ]
          },
          "metadata": {
            "tags": []
          },
          "execution_count": 41
        }
      ]
    },
    {
      "cell_type": "markdown",
      "metadata": {
        "id": "XJfWCFXHLc7L"
      },
      "source": [
        "Прежде чем приступить к предобработке данных, изучим общую информацию о датасетах:"
      ]
    },
    {
      "cell_type": "code",
      "metadata": {
        "colab": {
          "base_uri": "https://localhost:8080/"
        },
        "id": "vcgUK_nkLkwP",
        "outputId": "2fd0ebb4-d60e-486c-8e37-95a3dede0ea1"
      },
      "source": [
        "movies.info()"
      ],
      "execution_count": null,
      "outputs": [
        {
          "output_type": "stream",
          "text": [
            "<class 'pandas.core.frame.DataFrame'>\n",
            "RangeIndex: 9757 entries, 0 to 9756\n",
            "Data columns (total 3 columns):\n",
            " #   Column   Non-Null Count  Dtype \n",
            "---  ------   --------------  ----- \n",
            " 0   movieId  9757 non-null   int64 \n",
            " 1   title    9751 non-null   object\n",
            " 2   genres   9757 non-null   object\n",
            "dtypes: int64(1), object(2)\n",
            "memory usage: 228.8+ KB\n"
          ],
          "name": "stdout"
        }
      ]
    },
    {
      "cell_type": "markdown",
      "metadata": {
        "id": "amFed35UbqlJ"
      },
      "source": [
        "Заметим, что количество строк в столбцах различно - значит, в данных есть пропуски. И прежде чем анализировать такие данные, их нужно обработать (см. Работа с пропусками)."
      ]
    },
    {
      "cell_type": "code",
      "metadata": {
        "colab": {
          "base_uri": "https://localhost:8080/"
        },
        "id": "IV8xsmpYLulg",
        "outputId": "f6f20100-5808-4c64-a1ac-6856f825a932"
      },
      "source": [
        "ratings.info()"
      ],
      "execution_count": null,
      "outputs": [
        {
          "output_type": "stream",
          "text": [
            "<class 'pandas.core.frame.DataFrame'>\n",
            "RangeIndex: 100836 entries, 0 to 100835\n",
            "Data columns (total 4 columns):\n",
            " #   Column     Non-Null Count   Dtype         \n",
            "---  ------     --------------   -----         \n",
            " 0   userId     100836 non-null  int64         \n",
            " 1   movieId    100836 non-null  int64         \n",
            " 2   rating     100836 non-null  float64       \n",
            " 3   timestamp  100836 non-null  datetime64[ns]\n",
            "dtypes: datetime64[ns](1), float64(1), int64(2)\n",
            "memory usage: 3.1 MB\n"
          ],
          "name": "stdout"
        }
      ]
    },
    {
      "cell_type": "markdown",
      "metadata": {
        "id": "b-OIKaQxbjA0"
      },
      "source": [
        "А в таблице ratings.csv количество строк во всех столбцах одинаковое - скорее всего, пропущенных значений нет."
      ]
    },
    {
      "cell_type": "markdown",
      "metadata": {
        "id": "porr_tBHKSt8"
      },
      "source": [
        "### Работа с пропусками\n",
        "Аналитикам часто приходится работать с данными, в которых есть пропуски. Пропуски в данных появляются по разным причинам. Некоторые пропуски возникают случайно, например, автоматизированная система сбора информации дала сбой или пользователи забыли внести данные. Другие пропуски остаются в таблицах умышленно - для заполнения спецсимволами.\n",
        "\n",
        "\n",
        "Способ работы с пропущенными значениями зависит от их типа. В датафрейме pandas столбцы могут содержать **категориальные** или **количественные** данные. Они соотносятся с типами переменных в статистике. Категориальная принимает одно значение из ограниченного набора, а количественная — любое числовое значение в диапазоне (см. Гл. 1).\n",
        "\n"
      ]
    },
    {
      "cell_type": "markdown",
      "metadata": {
        "id": "ACJSf0pROzMT"
      },
      "source": [
        "Посмотрим сколько пропусков в нашем датасете"
      ]
    },
    {
      "cell_type": "code",
      "metadata": {
        "colab": {
          "base_uri": "https://localhost:8080/"
        },
        "id": "JiOgE-AOMjKi",
        "outputId": "2c478a40-cca3-4deb-a681-502ccd6c9fec"
      },
      "source": [
        "ratings.isnull().sum()"
      ],
      "execution_count": null,
      "outputs": [
        {
          "output_type": "execute_result",
          "data": {
            "text/plain": [
              "userId       0\n",
              "movieId      0\n",
              "rating       0\n",
              "timestamp    0\n",
              "dtype: int64"
            ]
          },
          "metadata": {
            "tags": []
          },
          "execution_count": 44
        }
      ]
    },
    {
      "cell_type": "markdown",
      "metadata": {
        "id": "6xhuAX9okD28"
      },
      "source": [
        "В данных о выставленных фильмам оценках пропущенных значений нет"
      ]
    },
    {
      "cell_type": "code",
      "metadata": {
        "colab": {
          "base_uri": "https://localhost:8080/"
        },
        "id": "iVOJYODpK7wP",
        "outputId": "0f074674-9cce-4eda-810f-4a87805501c1"
      },
      "source": [
        "movies.isnull().sum()"
      ],
      "execution_count": null,
      "outputs": [
        {
          "output_type": "execute_result",
          "data": {
            "text/plain": [
              "movieId    0\n",
              "title      6\n",
              "genres     0\n",
              "dtype: int64"
            ]
          },
          "metadata": {
            "tags": []
          },
          "execution_count": 45
        }
      ]
    },
    {
      "cell_type": "markdown",
      "metadata": {
        "id": "1ifvvujlOuCX"
      },
      "source": [
        "Восстановить значения в столбце 'title' не представляется возможным, но так как пропущенных значений мало - то следует удалить с помощью метода .dropna()"
      ]
    },
    {
      "cell_type": "code",
      "metadata": {
        "id": "vwoyj_e-k10z"
      },
      "source": [
        "movies.dropna(subset=['title'], inplace=True)"
      ],
      "execution_count": null,
      "outputs": []
    },
    {
      "cell_type": "markdown",
      "metadata": {
        "id": "MRQ3gBEjsI5W"
      },
      "source": [
        "\n",
        "\n",
        "---\n",
        "\n",
        "\n",
        "Чтобы программа правильно интерпретировала пропуски, при чтении файла с помощью метода read_csv можно передать в параметр na_values значение или список значений, которые при чтении будут помечены как пропуски."
      ]
    },
    {
      "cell_type": "markdown",
      "metadata": {
        "id": "Cnbfv5R1sCB0"
      },
      "source": [
        "### Удаление дубликатов\n"
      ]
    },
    {
      "cell_type": "markdown",
      "metadata": {
        "id": "NMD3gcKufRTC"
      },
      "source": [
        "Посмотрим сколько дубликатов фильмов в таблице movies."
      ]
    },
    {
      "cell_type": "code",
      "metadata": {
        "colab": {
          "base_uri": "https://localhost:8080/"
        },
        "id": "JmwiFbH6JmhD",
        "outputId": "8f644829-5893-4870-b260-d45f9166220e"
      },
      "source": [
        "print('Дубликатов в таблице:', movies.duplicated(['movieId']).sum())"
      ],
      "execution_count": null,
      "outputs": [
        {
          "output_type": "stream",
          "text": [
            "Дубликатов в таблице: 9\n"
          ],
          "name": "stdout"
        }
      ]
    },
    {
      "cell_type": "markdown",
      "metadata": {
        "id": "abViWgAxsOZ6"
      },
      "source": [
        "Для удаления дубликатов используем метод drop_duplicates. Рассмотрим подробнее параметры данного метода: \n",
        "- В параметре subset указываем один или несколько столбцов, по комбинации которых хотим удалить дубликаты. \n",
        "- С помощью параметра keep указываем, какой из дубликатов оставить (например, первый или последний). \n",
        "- Параметр inplace указывает, что изменения нужно сохранить в датафрейме, к которому применяется метод (в нашем случае — в датафрейме movies):"
      ]
    },
    {
      "cell_type": "code",
      "metadata": {
        "colab": {
          "base_uri": "https://localhost:8080/",
          "height": 194
        },
        "id": "DjRsq8wSsQ2J",
        "outputId": "42646331-576d-475d-8c45-4f0d07d13bc1"
      },
      "source": [
        "movies.drop_duplicates(subset = 'movieId', keep = 'first', inplace = True)\n",
        "movies.head()"
      ],
      "execution_count": null,
      "outputs": [
        {
          "output_type": "execute_result",
          "data": {
            "text/html": [
              "<div>\n",
              "<style scoped>\n",
              "    .dataframe tbody tr th:only-of-type {\n",
              "        vertical-align: middle;\n",
              "    }\n",
              "\n",
              "    .dataframe tbody tr th {\n",
              "        vertical-align: top;\n",
              "    }\n",
              "\n",
              "    .dataframe thead th {\n",
              "        text-align: right;\n",
              "    }\n",
              "</style>\n",
              "<table border=\"1\" class=\"dataframe\">\n",
              "  <thead>\n",
              "    <tr style=\"text-align: right;\">\n",
              "      <th></th>\n",
              "      <th>movieId</th>\n",
              "      <th>title</th>\n",
              "      <th>genres</th>\n",
              "    </tr>\n",
              "  </thead>\n",
              "  <tbody>\n",
              "    <tr>\n",
              "      <th>0</th>\n",
              "      <td>1</td>\n",
              "      <td>Toy Story (1995)</td>\n",
              "      <td>Adventure|Animation|Children|Comedy|Fantasy</td>\n",
              "    </tr>\n",
              "    <tr>\n",
              "      <th>1</th>\n",
              "      <td>2</td>\n",
              "      <td>Jumanji (1995)</td>\n",
              "      <td>Adventure|Children|Fantasy</td>\n",
              "    </tr>\n",
              "    <tr>\n",
              "      <th>2</th>\n",
              "      <td>3</td>\n",
              "      <td>Grumpier Old Men (1995)</td>\n",
              "      <td>Comedy|Romance</td>\n",
              "    </tr>\n",
              "    <tr>\n",
              "      <th>3</th>\n",
              "      <td>4</td>\n",
              "      <td>Waiting to Exhale (1995)</td>\n",
              "      <td>Comedy|Drama|Romance</td>\n",
              "    </tr>\n",
              "    <tr>\n",
              "      <th>4</th>\n",
              "      <td>5</td>\n",
              "      <td>Father of the Bride Part II (1995)</td>\n",
              "      <td>Comedy</td>\n",
              "    </tr>\n",
              "  </tbody>\n",
              "</table>\n",
              "</div>"
            ],
            "text/plain": [
              "   movieId  ...                                       genres\n",
              "0        1  ...  Adventure|Animation|Children|Comedy|Fantasy\n",
              "1        2  ...                   Adventure|Children|Fantasy\n",
              "2        3  ...                               Comedy|Romance\n",
              "3        4  ...                         Comedy|Drama|Romance\n",
              "4        5  ...                                       Comedy\n",
              "\n",
              "[5 rows x 3 columns]"
            ]
          },
          "metadata": {
            "tags": []
          },
          "execution_count": 48
        }
      ]
    },
    {
      "cell_type": "markdown",
      "metadata": {
        "id": "bOVAeI_Auvxq"
      },
      "source": [
        "Убедимся, что теперь в нашем датасете нет дубликатов:"
      ]
    },
    {
      "cell_type": "code",
      "metadata": {
        "colab": {
          "base_uri": "https://localhost:8080/"
        },
        "id": "1lOeswretRQS",
        "outputId": "9c0d535b-87ff-4479-92ed-3e05325ed4c8"
      },
      "source": [
        "print('Дубликатов в таблице:', movies.duplicated(['movieId']).sum())"
      ],
      "execution_count": null,
      "outputs": [
        {
          "output_type": "stream",
          "text": [
            "Дубликатов в таблице: 0\n"
          ],
          "name": "stdout"
        }
      ]
    },
    {
      "cell_type": "markdown",
      "metadata": {
        "id": "uHIK2IukruaT"
      },
      "source": [
        "### Объединение таблиц\n",
        "Объединение датафреймов с помощью метода merge имеет особенности: есть ситуации, которые в результате приводят к дублированию строк в объединенном датасете. Поэтому ранее мы избавились от дупликатов.\n",
        "\n",
        "Метод **merge()** применяют к таблице, к которой присоединяют другую.\n",
        "\n",
        "```\n",
        "joined = left_df.merge(right_df, on='', how='')\n",
        "```\n",
        "\n",
        " У метода следующие аргументы:\n",
        "-\tleft_df / right_df  — имена объединяемых DataFrame или Series. К \"правому\" датафрейму присоединяем \"левый\" (в нашем примере \"левый\" датафрейм — ratings, \"правый\" — movies).\n",
        "-\ton — название общего столбца в двух соединяемых таблицах: по нему происходит слияние Для объединения по нескольким столбцам используют ```on = ['col1', 'col2']```\n",
        "-\thow — параметр объединения записей. Он может иметь четыре значения: left, right, inner и outer. Если аргумент how принимает значение left: тогда в итоговую таблицу будут включены id из левой таблицы. Если же how принимает значение right, тогда итоговая таблица включает id из правой таблицы.\n",
        "\n",
        "Рассмотрим датафреймы внимательнее: у ratings и movies есть общий столбец movieId. Значит, можно объединить эти датафреймы в одну таблицу, используя метод merge.\n",
        "\n",
        "Объединим таблицы ratings и movies со следующими условиями:\n",
        "-\tratings — таблица, к которой будем присоединять другую таблицу\n",
        "-\tmovies — таблица, которую присоединяем к ratings\n",
        "-\t'movieId' — общий столбец в двух таблицах, по нему будем объединять\n",
        "-\thow='left' — movieId таблицы ratings включены в итоговую таблицу joined\n",
        "\n",
        "\n"
      ]
    },
    {
      "cell_type": "code",
      "metadata": {
        "colab": {
          "base_uri": "https://localhost:8080/",
          "height": 278
        },
        "id": "lQVf9ORvcCF7",
        "outputId": "1d90c3e4-fcde-4acd-88af-a70badd3e8ea"
      },
      "source": [
        "joined = ratings.merge(movies, on='movieId', how='left')\n",
        "joined.head()"
      ],
      "execution_count": null,
      "outputs": [
        {
          "output_type": "execute_result",
          "data": {
            "text/html": [
              "<div>\n",
              "<style scoped>\n",
              "    .dataframe tbody tr th:only-of-type {\n",
              "        vertical-align: middle;\n",
              "    }\n",
              "\n",
              "    .dataframe tbody tr th {\n",
              "        vertical-align: top;\n",
              "    }\n",
              "\n",
              "    .dataframe thead th {\n",
              "        text-align: right;\n",
              "    }\n",
              "</style>\n",
              "<table border=\"1\" class=\"dataframe\">\n",
              "  <thead>\n",
              "    <tr style=\"text-align: right;\">\n",
              "      <th></th>\n",
              "      <th>userId</th>\n",
              "      <th>movieId</th>\n",
              "      <th>rating</th>\n",
              "      <th>timestamp</th>\n",
              "      <th>title</th>\n",
              "      <th>genres</th>\n",
              "    </tr>\n",
              "  </thead>\n",
              "  <tbody>\n",
              "    <tr>\n",
              "      <th>0</th>\n",
              "      <td>1</td>\n",
              "      <td>1</td>\n",
              "      <td>4.0</td>\n",
              "      <td>2000-07-30 18:45:03</td>\n",
              "      <td>Toy Story (1995)</td>\n",
              "      <td>Adventure|Animation|Children|Comedy|Fantasy</td>\n",
              "    </tr>\n",
              "    <tr>\n",
              "      <th>1</th>\n",
              "      <td>1</td>\n",
              "      <td>3</td>\n",
              "      <td>4.0</td>\n",
              "      <td>2000-07-30 18:20:47</td>\n",
              "      <td>Grumpier Old Men (1995)</td>\n",
              "      <td>Comedy|Romance</td>\n",
              "    </tr>\n",
              "    <tr>\n",
              "      <th>2</th>\n",
              "      <td>1</td>\n",
              "      <td>6</td>\n",
              "      <td>4.0</td>\n",
              "      <td>2000-07-30 18:37:04</td>\n",
              "      <td>Heat (1995)</td>\n",
              "      <td>Action|Crime|Thriller</td>\n",
              "    </tr>\n",
              "    <tr>\n",
              "      <th>3</th>\n",
              "      <td>1</td>\n",
              "      <td>47</td>\n",
              "      <td>5.0</td>\n",
              "      <td>2000-07-30 19:03:35</td>\n",
              "      <td>Usual Suspects, The (1995)</td>\n",
              "      <td>Crime|Mystery|Thriller</td>\n",
              "    </tr>\n",
              "    <tr>\n",
              "      <th>4</th>\n",
              "      <td>1</td>\n",
              "      <td>50</td>\n",
              "      <td>5.0</td>\n",
              "      <td>2000-07-30 18:48:51</td>\n",
              "      <td>Big Green, The (1995)</td>\n",
              "      <td>Children|Comedy</td>\n",
              "    </tr>\n",
              "  </tbody>\n",
              "</table>\n",
              "</div>"
            ],
            "text/plain": [
              "   userId  ...                                       genres\n",
              "0       1  ...  Adventure|Animation|Children|Comedy|Fantasy\n",
              "1       1  ...                               Comedy|Romance\n",
              "2       1  ...                        Action|Crime|Thriller\n",
              "3       1  ...                       Crime|Mystery|Thriller\n",
              "4       1  ...                              Children|Comedy\n",
              "\n",
              "[5 rows x 6 columns]"
            ]
          },
          "metadata": {
            "tags": []
          },
          "execution_count": 50
        }
      ]
    }
  ]
}