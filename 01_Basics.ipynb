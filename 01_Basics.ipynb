{
  "nbformat": 4,
  "nbformat_minor": 0,
  "metadata": {
    "colab": {
      "name": "01_Basics.ipynb",
      "provenance": [],
      "collapsed_sections": [],
      "authorship_tag": "ABX9TyMM4ObI//N5lwcCGB9dKfWc",
      "include_colab_link": true
    },
    "kernelspec": {
      "name": "python3",
      "display_name": "Python 3"
    }
  },
  "cells": [
    {
      "cell_type": "markdown",
      "metadata": {
        "id": "view-in-github",
        "colab_type": "text"
      },
      "source": [
        "<a href=\"https://colab.research.google.com/github/datasciencefefu/course/blob/main/01_Basics.ipynb\" target=\"_parent\"><img src=\"https://colab.research.google.com/assets/colab-badge.svg\" alt=\"Open In Colab\"/></a>"
      ]
    },
    {
      "cell_type": "markdown",
      "metadata": {
        "id": "N0zmPhH8D0EU"
      },
      "source": [
        "# Основы статистического анализа"
      ]
    },
    {
      "cell_type": "markdown",
      "metadata": {
        "id": "GxrM_mF53WQN"
      },
      "source": [
        "В процессе анализа данных возникает множество гипотез, которые удобно проверять статистическими методами. В этой главе будут рассмотрены основы статистики и теории вероятности."
      ]
    },
    {
      "cell_type": "markdown",
      "metadata": {
        "id": "iaL2v_lxMgoB"
      },
      "source": [
        "## Описательная статистика"
      ]
    },
    {
      "cell_type": "markdown",
      "metadata": {
        "id": "h0jr9kEnMk3n"
      },
      "source": [
        "### Категориальные и количественные, непрерывные и дискретные переменные\n",
        "При работе со статистикой важно понимать используемую терминологию, включая количественные и категориальные переменные и то, как они отличаются.\n",
        "\n",
        "Количественные признаки можно сравнить между собой на «больше или меньше», а категориальные признаки так сравнить нельзя. Категориальная переменная не имеет численного или количественного значения, а просто описывает качество или характеристику чего-то.\n",
        "**Категориальная (качественная)** переменная принимает значение из\n",
        "ограниченного набора. Цифры, используемые в категориальных или качественных данных, обозначают качество, а не измерение или количество. Если в качестве значения роста указать «низкий», «средний» и «высокий», то это будет уже категориальный признак и качественная характеристика роста. Категориальный признак принимает одно из ограниченного набора значений. При необходимости и для удобства качественные признаки можно закодировать. Так значение «низкий» получит код 1, «средний» — 2, «высокий» — 3. \n",
        "\n",
        "Количественные переменные измеряются и выражаются численно, имеют числовое значение и могут использоваться в расчетах (поэтому иначе их называют  числовые переменные). **Количественная** переменная принимает числовое значение в\n",
        "диапазоне. Количественные переменные подразделяются на:\n",
        "* **Непрерывные**, которые могут принимать любое численное значение.\n",
        "* **Дискретные**, которые могут принимать строго определённые\n",
        "значения (переменные, в которых значения могут быть получены путем подсчета).\n",
        "\n",
        "Дискретная переменная принимает независимые значения, тогда как непрерывная переменная принимает любое значение в заданном диапазоне.\n"
      ]
    },
    {
      "cell_type": "markdown",
      "metadata": {
        "id": "8tRJi9uZqk0t"
      },
      "source": [
        "### Гистограммы\n",
        "\n",
        "Для описания величин удобно использовать наглядное представление данных. График, который показывает, сколько раз в наборе данных встречается то или иное значение называется гистограммой. **Гистограмма** объединяет числовые значения по диапазонам, то есть считает частоту значений в пределах каждого интервала. Её построение подобно работе метода **value_counts()**, подсчитывающего количество уникальных значений в списке. Однако value_counts() группирует строго одинаковые величины и хорош только для подсчёта частоты в списках с категориальными переменными.\n",
        "\n",
        "В Pandas гистограмму строит специальный метод **hist()** (от англ. histogram — «гистограмма»). Применять его можно к списку или к столбцу датафрейма: во втором случае название столбца передаётся в параметре. Метод hist() находит в наборе чисел минимальное и максимальное значения, а полученный диапазон делит на области или «корзины» - bins (англ. «корзины, вёдра»). Затем hist() считает, сколько значений попало в каждую корзину, и отображает это на графике.\n",
        "\n"
      ]
    },
    {
      "cell_type": "markdown",
      "metadata": {
        "id": "g2kMuCRaNLHG"
      },
      "source": [
        "### Гистограмма частот для непрерывной переменной\n",
        "\n",
        "Одним из подходов в визуализации значений непрерывных переменных\n",
        "является разделение множества значений на интервалы и подсчёт\n",
        "количества значений, попадающих в каждый интервал. \n",
        "\n",
        "\n",
        "\n"
      ]
    },
    {
      "cell_type": "markdown",
      "metadata": {
        "id": "afqN3i8RnxjZ"
      },
      "source": [
        "Параметр **bins** определяет, на сколько областей делить диапазон данных. По умолчанию таких «корзин» 10.\n",
        "В Pandas при построении гистограммы можно задавать не только\n",
        "количество интервалов - корзин, но и явно указывать их границы."
      ]
    },
    {
      "cell_type": "code",
      "metadata": {
        "colab": {
          "base_uri": "https://localhost:8080/",
          "height": 317
        },
        "id": "AhtsCXtxMRM8",
        "outputId": "98b452cc-4a7d-46bb-8a6f-ae57c52a9fb7"
      },
      "source": [
        "import matplotlib.pyplot as plt\n",
        "\n",
        "data = [1.5, 2.3, 2.2, 3.8, 3.3, 3.9, 4.1, 4.3, 4.5, 4.7]\n",
        "plt.hist(data, bins=[1.5, 2.3, 3.9, 4.1,\n",
        "                     5])  # Края корзин. Длина nbins + 1 (левый край nbins и правый край последнего значения). \n",
        "# Всегда один массив, даже если передается несколько наборов данных."
      ],
      "execution_count": null,
      "outputs": [
        {
          "output_type": "execute_result",
          "data": {
            "text/plain": [
              "(array([2., 3., 1., 4.]),\n",
              " array([1.5, 2.3, 3.9, 4.1, 5. ]),\n",
              " <a list of 4 Patch objects>)"
            ]
          },
          "metadata": {
            "tags": []
          },
          "execution_count": 1
        },
        {
          "output_type": "display_data",
          "data": {
            "image/png": "[encoded data removed]",
            "text/plain": [
              "<Figure size 432x288 with 1 Axes>"
            ]
          },
          "metadata": {
            "tags": [],
            "needs_background": "light"
          }
        }
      ]
    },
    {
      "cell_type": "markdown",
      "metadata": {
        "id": "QoS2__DGNXRN"
      },
      "source": [
        "Однако, такой подход не может дать полное представление о значениях\n",
        "переменной, так как полученная гистограмма сильно зависит от того, как\n",
        "разбить множество значений на интервалы и какой выбрать шаг (ширину ячейки).\n"
      ]
    },
    {
      "cell_type": "code",
      "metadata": {
        "colab": {
          "base_uri": "https://localhost:8080/",
          "height": 1000
        },
        "id": "XdscFodAm7FP",
        "outputId": "b55d7c67-9598-4fdc-a5de-80175fd6710b"
      },
      "source": [
        "import plotly.express as px\n",
        "\n",
        "df = px.data.tips()\n",
        "fig = px.histogram(df, x=\"total_bill\", nbins=20, title=\"Разбиение на 20 корзин\")\n",
        "fig1 = px.histogram(df, x=\"total_bill\", nbins=40, title=\"Разбиение на 40 корзин\")\n",
        "fig.show()\n",
        "fig1.show()"
      ],
      "execution_count": null,
      "outputs": [
        {
          "output_type": "display_data",
          "data": {
            "text/html": [
              "<html>\n",
              "<head><meta charset=\"utf-8\" /></head>\n",
              "<body>\n",
              "    <div>\n",
              "            <script src=\"https://cdnjs.cloudflare.com/ajax/libs/mathjax/2.7.5/MathJax.js?config=TeX-AMS-MML_SVG\"></script><script type=\"text/javascript\">if (window.MathJax) {MathJax.Hub.Config({SVG: {font: \"STIX-Web\"}});}</script>\n",
              "                <script type=\"text/javascript\">window.PlotlyConfig = {MathJaxConfig: 'local'};</script>\n",
              "        <script src=\"https://cdn.plot.ly/plotly-latest.min.js\"></script>    \n",
              "            <div id=\"485bc994-f82c-4f66-bca4-0c9a0c74c663\" class=\"plotly-graph-div\" style=\"height:525px; width:100%;\"></div>\n",
              "            <script type=\"text/javascript\">\n",
              "                \n",
              "                    window.PLOTLYENV=window.PLOTLYENV || {};\n",
              "                    \n",
              "                if (document.getElementById(\"485bc994-f82c-4f66-bca4-0c9a0c74c663\")) {\n",
              "                    Plotly.newPlot(\n",
              "                        '485bc994-f82c-4f66-bca4-0c9a0c74c663',\n",
              "                        [{\"alignmentgroup\": \"True\", \"bingroup\": \"x\", \"hoverlabel\": {\"namelength\": 0}, \"hovertemplate\": \"total_bill=%{x}<br>count=%{y}\", \"legendgroup\": \"\", \"marker\": {\"color\": \"#636efa\"}, \"name\": \"\", \"nbinsx\": 20, \"offsetgroup\": \"\", \"orientation\": \"v\", \"showlegend\": false, \"type\": \"histogram\", \"x\": [16.99, 10.34, 21.01, 23.68, 24.59, 25.29, 8.77, 26.88, 15.04, 14.78, 10.27, 35.26, 15.42, 18.43, 14.83, 21.58, 10.33, 16.29, 16.97, 20.65, 17.92, 20.29, 15.77, 39.42, 19.82, 17.81, 13.37, 12.69, 21.7, 19.65, 9.55, 18.35, 15.06, 20.69, 17.78, 24.06, 16.31, 16.93, 18.69, 31.27, 16.04, 17.46, 13.94, 9.68, 30.4, 18.29, 22.23, 32.4, 28.55, 18.04, 12.54, 10.29, 34.81, 9.94, 25.56, 19.49, 38.01, 26.41, 11.24, 48.27, 20.29, 13.81, 11.02, 18.29, 17.59, 20.08, 16.45, 3.07, 20.23, 15.01, 12.02, 17.07, 26.86, 25.28, 14.73, 10.51, 17.92, 27.2, 22.76, 17.29, 19.44, 16.66, 10.07, 32.68, 15.98, 34.83, 13.03, 18.28, 24.71, 21.16, 28.97, 22.49, 5.75, 16.32, 22.75, 40.17, 27.28, 12.03, 21.01, 12.46, 11.35, 15.38, 44.3, 22.42, 20.92, 15.36, 20.49, 25.21, 18.24, 14.31, 14.0, 7.25, 38.07, 23.95, 25.71, 17.31, 29.93, 10.65, 12.43, 24.08, 11.69, 13.42, 14.26, 15.95, 12.48, 29.8, 8.52, 14.52, 11.38, 22.82, 19.08, 20.27, 11.17, 12.26, 18.26, 8.51, 10.33, 14.15, 16.0, 13.16, 17.47, 34.3, 41.19, 27.05, 16.43, 8.35, 18.64, 11.87, 9.78, 7.51, 14.07, 13.13, 17.26, 24.55, 19.77, 29.85, 48.17, 25.0, 13.39, 16.49, 21.5, 12.66, 16.21, 13.81, 17.51, 24.52, 20.76, 31.71, 10.59, 10.63, 50.81, 15.81, 7.25, 31.85, 16.82, 32.9, 17.89, 14.48, 9.6, 34.63, 34.65, 23.33, 45.35, 23.17, 40.55, 20.69, 20.9, 30.46, 18.15, 23.1, 15.69, 19.81, 28.44, 15.48, 16.58, 7.56, 10.34, 43.11, 13.0, 13.51, 18.71, 12.74, 13.0, 16.4, 20.53, 16.47, 26.59, 38.73, 24.27, 12.76, 30.06, 25.89, 48.33, 13.27, 28.17, 12.9, 28.15, 11.59, 7.74, 30.14, 12.16, 13.42, 8.58, 15.98, 13.42, 16.27, 10.09, 20.45, 13.28, 22.12, 24.01, 15.69, 11.61, 10.77, 15.53, 10.07, 12.6, 32.83, 35.83, 29.03, 27.18, 22.67, 17.82, 18.78], \"xaxis\": \"x\", \"yaxis\": \"y\"}],\n",
              "                        {\"barmode\": \"relative\", \"legend\": {\"tracegroupgap\": 0}, \"template\": {\"data\": {\"bar\": [{\"error_x\": {\"color\": \"#2a3f5f\"}, \"error_y\": {\"color\": \"#2a3f5f\"}, \"marker\": {\"line\": {\"color\": \"#E5ECF6\", \"width\": 0.5}}, \"type\": \"bar\"}], \"barpolar\": [{\"marker\": {\"line\": {\"color\": \"#E5ECF6\", \"width\": 0.5}}, \"type\": \"barpolar\"}], \"carpet\": [{\"aaxis\": {\"endlinecolor\": \"#2a3f5f\", \"gridcolor\": \"white\", \"linecolor\": \"white\", \"minorgridcolor\": \"white\", \"startlinecolor\": \"#2a3f5f\"}, \"baxis\": {\"endlinecolor\": \"#2a3f5f\", \"gridcolor\": \"white\", \"linecolor\": \"white\", \"minorgridcolor\": \"white\", \"startlinecolor\": \"#2a3f5f\"}, \"type\": \"carpet\"}], \"choropleth\": [{\"colorbar\": {\"outlinewidth\": 0, \"ticks\": \"\"}, \"type\": \"choropleth\"}], \"contour\": [{\"colorbar\": {\"outlinewidth\": 0, \"ticks\": \"\"}, \"colorscale\": [[0.0, \"#0d0887\"], [0.1111111111111111, \"#46039f\"], [0.2222222222222222, \"#7201a8\"], [0.3333333333333333, \"#9c179e\"], [0.4444444444444444, \"#bd3786\"], [0.5555555555555556, \"#d8576b\"], [0.6666666666666666, \"#ed7953\"], [0.7777777777777778, \"#fb9f3a\"], [0.8888888888888888, \"#fdca26\"], [1.0, \"#f0f921\"]], \"type\": \"contour\"}], \"contourcarpet\": [{\"colorbar\": {\"outlinewidth\": 0, \"ticks\": \"\"}, \"type\": \"contourcarpet\"}], \"heatmap\": [{\"colorbar\": {\"outlinewidth\": 0, \"ticks\": \"\"}, \"colorscale\": [[0.0, \"#0d0887\"], [0.1111111111111111, \"#46039f\"], [0.2222222222222222, \"#7201a8\"], [0.3333333333333333, \"#9c179e\"], [0.4444444444444444, \"#bd3786\"], [0.5555555555555556, \"#d8576b\"], [0.6666666666666666, \"#ed7953\"], [0.7777777777777778, \"#fb9f3a\"], [0.8888888888888888, \"#fdca26\"], [1.0, \"#f0f921\"]], \"type\": \"heatmap\"}], \"heatmapgl\": [{\"colorbar\": {\"outlinewidth\": 0, \"ticks\": \"\"}, \"colorscale\": [[0.0, \"#0d0887\"], [0.1111111111111111, \"#46039f\"], [0.2222222222222222, \"#7201a8\"], [0.3333333333333333, \"#9c179e\"], [0.4444444444444444, \"#bd3786\"], [0.5555555555555556, \"#d8576b\"], [0.6666666666666666, \"#ed7953\"], [0.7777777777777778, \"#fb9f3a\"], [0.8888888888888888, \"#fdca26\"], [1.0, \"#f0f921\"]], \"type\": \"heatmapgl\"}], \"histogram\": [{\"marker\": {\"colorbar\": {\"outlinewidth\": 0, \"ticks\": \"\"}}, \"type\": \"histogram\"}], \"histogram2d\": [{\"colorbar\": {\"outlinewidth\": 0, \"ticks\": \"\"}, \"colorscale\": [[0.0, \"#0d0887\"], [0.1111111111111111, \"#46039f\"], [0.2222222222222222, \"#7201a8\"], [0.3333333333333333, \"#9c179e\"], [0.4444444444444444, \"#bd3786\"], [0.5555555555555556, \"#d8576b\"], [0.6666666666666666, \"#ed7953\"], [0.7777777777777778, \"#fb9f3a\"], [0.8888888888888888, \"#fdca26\"], [1.0, \"#f0f921\"]], \"type\": \"histogram2d\"}], \"histogram2dcontour\": [{\"colorbar\": {\"outlinewidth\": 0, \"ticks\": \"\"}, \"colorscale\": [[0.0, \"#0d0887\"], [0.1111111111111111, \"#46039f\"], [0.2222222222222222, \"#7201a8\"], [0.3333333333333333, \"#9c179e\"], [0.4444444444444444, \"#bd3786\"], [0.5555555555555556, \"#d8576b\"], [0.6666666666666666, \"#ed7953\"], [0.7777777777777778, \"#fb9f3a\"], [0.8888888888888888, \"#fdca26\"], [1.0, \"#f0f921\"]], \"type\": \"histogram2dcontour\"}], \"mesh3d\": [{\"colorbar\": {\"outlinewidth\": 0, \"ticks\": \"\"}, \"type\": \"mesh3d\"}], \"parcoords\": [{\"line\": {\"colorbar\": {\"outlinewidth\": 0, \"ticks\": \"\"}}, \"type\": \"parcoords\"}], \"pie\": [{\"automargin\": true, \"type\": \"pie\"}], \"scatter\": [{\"marker\": {\"colorbar\": {\"outlinewidth\": 0, \"ticks\": \"\"}}, \"type\": \"scatter\"}], \"scatter3d\": [{\"line\": {\"colorbar\": {\"outlinewidth\": 0, \"ticks\": \"\"}}, \"marker\": {\"colorbar\": {\"outlinewidth\": 0, \"ticks\": \"\"}}, \"type\": \"scatter3d\"}], \"scattercarpet\": [{\"marker\": {\"colorbar\": {\"outlinewidth\": 0, \"ticks\": \"\"}}, \"type\": \"scattercarpet\"}], \"scattergeo\": [{\"marker\": {\"colorbar\": {\"outlinewidth\": 0, \"ticks\": \"\"}}, \"type\": \"scattergeo\"}], \"scattergl\": [{\"marker\": {\"colorbar\": {\"outlinewidth\": 0, \"ticks\": \"\"}}, \"type\": \"scattergl\"}], \"scattermapbox\": [{\"marker\": {\"colorbar\": {\"outlinewidth\": 0, \"ticks\": \"\"}}, \"type\": \"scattermapbox\"}], \"scatterpolar\": [{\"marker\": {\"colorbar\": {\"outlinewidth\": 0, \"ticks\": \"\"}}, \"type\": \"scatterpolar\"}], \"scatterpolargl\": [{\"marker\": {\"colorbar\": {\"outlinewidth\": 0, \"ticks\": \"\"}}, \"type\": \"scatterpolargl\"}], \"scatterternary\": [{\"marker\": {\"colorbar\": {\"outlinewidth\": 0, \"ticks\": \"\"}}, \"type\": \"scatterternary\"}], \"surface\": [{\"colorbar\": {\"outlinewidth\": 0, \"ticks\": \"\"}, \"colorscale\": [[0.0, \"#0d0887\"], [0.1111111111111111, \"#46039f\"], [0.2222222222222222, \"#7201a8\"], [0.3333333333333333, \"#9c179e\"], [0.4444444444444444, \"#bd3786\"], [0.5555555555555556, \"#d8576b\"], [0.6666666666666666, \"#ed7953\"], [0.7777777777777778, \"#fb9f3a\"], [0.8888888888888888, \"#fdca26\"], [1.0, \"#f0f921\"]], \"type\": \"surface\"}], \"table\": [{\"cells\": {\"fill\": {\"color\": \"#EBF0F8\"}, \"line\": {\"color\": \"white\"}}, \"header\": {\"fill\": {\"color\": \"#C8D4E3\"}, \"line\": {\"color\": \"white\"}}, \"type\": \"table\"}]}, \"layout\": {\"annotationdefaults\": {\"arrowcolor\": \"#2a3f5f\", \"arrowhead\": 0, \"arrowwidth\": 1}, \"coloraxis\": {\"colorbar\": {\"outlinewidth\": 0, \"ticks\": \"\"}}, \"colorscale\": {\"diverging\": [[0, \"#8e0152\"], [0.1, \"#c51b7d\"], [0.2, \"#de77ae\"], [0.3, \"#f1b6da\"], [0.4, \"#fde0ef\"], [0.5, \"#f7f7f7\"], [0.6, \"#e6f5d0\"], [0.7, \"#b8e186\"], [0.8, \"#7fbc41\"], [0.9, \"#4d9221\"], [1, \"#276419\"]], \"sequential\": [[0.0, \"#0d0887\"], [0.1111111111111111, \"#46039f\"], [0.2222222222222222, \"#7201a8\"], [0.3333333333333333, \"#9c179e\"], [0.4444444444444444, \"#bd3786\"], [0.5555555555555556, \"#d8576b\"], [0.6666666666666666, \"#ed7953\"], [0.7777777777777778, \"#fb9f3a\"], [0.8888888888888888, \"#fdca26\"], [1.0, \"#f0f921\"]], \"sequentialminus\": [[0.0, \"#0d0887\"], [0.1111111111111111, \"#46039f\"], [0.2222222222222222, \"#7201a8\"], [0.3333333333333333, \"#9c179e\"], [0.4444444444444444, \"#bd3786\"], [0.5555555555555556, \"#d8576b\"], [0.6666666666666666, \"#ed7953\"], [0.7777777777777778, \"#fb9f3a\"], [0.8888888888888888, \"#fdca26\"], [1.0, \"#f0f921\"]]}, \"colorway\": [\"#636efa\", \"#EF553B\", \"#00cc96\", \"#ab63fa\", \"#FFA15A\", \"#19d3f3\", \"#FF6692\", \"#B6E880\", \"#FF97FF\", \"#FECB52\"], \"font\": {\"color\": \"#2a3f5f\"}, \"geo\": {\"bgcolor\": \"white\", \"lakecolor\": \"white\", \"landcolor\": \"#E5ECF6\", \"showlakes\": true, \"showland\": true, \"subunitcolor\": \"white\"}, \"hoverlabel\": {\"align\": \"left\"}, \"hovermode\": \"closest\", \"mapbox\": {\"style\": \"light\"}, \"paper_bgcolor\": \"white\", \"plot_bgcolor\": \"#E5ECF6\", \"polar\": {\"angularaxis\": {\"gridcolor\": \"white\", \"linecolor\": \"white\", \"ticks\": \"\"}, \"bgcolor\": \"#E5ECF6\", \"radialaxis\": {\"gridcolor\": \"white\", \"linecolor\": \"white\", \"ticks\": \"\"}}, \"scene\": {\"xaxis\": {\"backgroundcolor\": \"#E5ECF6\", \"gridcolor\": \"white\", \"gridwidth\": 2, \"linecolor\": \"white\", \"showbackground\": true, \"ticks\": \"\", \"zerolinecolor\": \"white\"}, \"yaxis\": {\"backgroundcolor\": \"#E5ECF6\", \"gridcolor\": \"white\", \"gridwidth\": 2, \"linecolor\": \"white\", \"showbackground\": true, \"ticks\": \"\", \"zerolinecolor\": \"white\"}, \"zaxis\": {\"backgroundcolor\": \"#E5ECF6\", \"gridcolor\": \"white\", \"gridwidth\": 2, \"linecolor\": \"white\", \"showbackground\": true, \"ticks\": \"\", \"zerolinecolor\": \"white\"}}, \"shapedefaults\": {\"line\": {\"color\": \"#2a3f5f\"}}, \"ternary\": {\"aaxis\": {\"gridcolor\": \"white\", \"linecolor\": \"white\", \"ticks\": \"\"}, \"baxis\": {\"gridcolor\": \"white\", \"linecolor\": \"white\", \"ticks\": \"\"}, \"bgcolor\": \"#E5ECF6\", \"caxis\": {\"gridcolor\": \"white\", \"linecolor\": \"white\", \"ticks\": \"\"}}, \"title\": {\"x\": 0.05}, \"xaxis\": {\"automargin\": true, \"gridcolor\": \"white\", \"linecolor\": \"white\", \"ticks\": \"\", \"title\": {\"standoff\": 15}, \"zerolinecolor\": \"white\", \"zerolinewidth\": 2}, \"yaxis\": {\"automargin\": true, \"gridcolor\": \"white\", \"linecolor\": \"white\", \"ticks\": \"\", \"title\": {\"standoff\": 15}, \"zerolinecolor\": \"white\", \"zerolinewidth\": 2}}}, \"title\": {\"text\": \"\\u0420\\u0430\\u0437\\u0431\\u0438\\u0435\\u043d\\u0438\\u0435 \\u043d\\u0430 20 \\u043a\\u043e\\u0440\\u0437\\u0438\\u043d\"}, \"xaxis\": {\"anchor\": \"y\", \"domain\": [0.0, 1.0], \"title\": {\"text\": \"total_bill\"}}, \"yaxis\": {\"anchor\": \"x\", \"domain\": [0.0, 1.0], \"title\": {\"text\": \"count\"}}},\n",
              "                        {\"responsive\": true}\n",
              "                    ).then(function(){\n",
              "                            \n",
              "var gd = document.getElementById('485bc994-f82c-4f66-bca4-0c9a0c74c663');\n",
              "var x = new MutationObserver(function (mutations, observer) {{\n",
              "        var display = window.getComputedStyle(gd).display;\n",
              "        if (!display || display === 'none') {{\n",
              "            console.log([gd, 'removed!']);\n",
              "            Plotly.purge(gd);\n",
              "            observer.disconnect();\n",
              "        }}\n",
              "}});\n",
              "\n",
              "// Listen for the removal of the full notebook cells\n",
              "var notebookContainer = gd.closest('#notebook-container');\n",
              "if (notebookContainer) {{\n",
              "    x.observe(notebookContainer, {childList: true});\n",
              "}}\n",
              "\n",
              "// Listen for the clearing of the current output cell\n",
              "var outputEl = gd.closest('.output');\n",
              "if (outputEl) {{\n",
              "    x.observe(outputEl, {childList: true});\n",
              "}}\n",
              "\n",
              "                        })\n",
              "                };\n",
              "                \n",
              "            </script>\n",
              "        </div>\n",
              "</body>\n",
              "</html>"
            ]
          },
          "metadata": {
            "tags": []
          }
        },
        {
          "output_type": "display_data",
          "data": {
            "text/html": [
              "<html>\n",
              "<head><meta charset=\"utf-8\" /></head>\n",
              "<body>\n",
              "    <div>\n",
              "            <script src=\"https://cdnjs.cloudflare.com/ajax/libs/mathjax/2.7.5/MathJax.js?config=TeX-AMS-MML_SVG\"></script><script type=\"text/javascript\">if (window.MathJax) {MathJax.Hub.Config({SVG: {font: \"STIX-Web\"}});}</script>\n",
              "                <script type=\"text/javascript\">window.PlotlyConfig = {MathJaxConfig: 'local'};</script>\n",
              "        <script src=\"https://cdn.plot.ly/plotly-latest.min.js\"></script>    \n",
              "            <div id=\"bdf49c1e-9600-4b66-bd44-97aa46f9988b\" class=\"plotly-graph-div\" style=\"height:525px; width:100%;\"></div>\n",
              "            <script type=\"text/javascript\">\n",
              "                \n",
              "                    window.PLOTLYENV=window.PLOTLYENV || {};\n",
              "                    \n",
              "                if (document.getElementById(\"bdf49c1e-9600-4b66-bd44-97aa46f9988b\")) {\n",
              "                    Plotly.newPlot(\n",
              "                        'bdf49c1e-9600-4b66-bd44-97aa46f9988b',\n",
              "                        [{\"alignmentgroup\": \"True\", \"bingroup\": \"x\", \"hoverlabel\": {\"namelength\": 0}, \"hovertemplate\": \"total_bill=%{x}<br>count=%{y}\", \"legendgroup\": \"\", \"marker\": {\"color\": \"#636efa\"}, \"name\": \"\", \"nbinsx\": 40, \"offsetgroup\": \"\", \"orientation\": \"v\", \"showlegend\": false, \"type\": \"histogram\", \"x\": [16.99, 10.34, 21.01, 23.68, 24.59, 25.29, 8.77, 26.88, 15.04, 14.78, 10.27, 35.26, 15.42, 18.43, 14.83, 21.58, 10.33, 16.29, 16.97, 20.65, 17.92, 20.29, 15.77, 39.42, 19.82, 17.81, 13.37, 12.69, 21.7, 19.65, 9.55, 18.35, 15.06, 20.69, 17.78, 24.06, 16.31, 16.93, 18.69, 31.27, 16.04, 17.46, 13.94, 9.68, 30.4, 18.29, 22.23, 32.4, 28.55, 18.04, 12.54, 10.29, 34.81, 9.94, 25.56, 19.49, 38.01, 26.41, 11.24, 48.27, 20.29, 13.81, 11.02, 18.29, 17.59, 20.08, 16.45, 3.07, 20.23, 15.01, 12.02, 17.07, 26.86, 25.28, 14.73, 10.51, 17.92, 27.2, 22.76, 17.29, 19.44, 16.66, 10.07, 32.68, 15.98, 34.83, 13.03, 18.28, 24.71, 21.16, 28.97, 22.49, 5.75, 16.32, 22.75, 40.17, 27.28, 12.03, 21.01, 12.46, 11.35, 15.38, 44.3, 22.42, 20.92, 15.36, 20.49, 25.21, 18.24, 14.31, 14.0, 7.25, 38.07, 23.95, 25.71, 17.31, 29.93, 10.65, 12.43, 24.08, 11.69, 13.42, 14.26, 15.95, 12.48, 29.8, 8.52, 14.52, 11.38, 22.82, 19.08, 20.27, 11.17, 12.26, 18.26, 8.51, 10.33, 14.15, 16.0, 13.16, 17.47, 34.3, 41.19, 27.05, 16.43, 8.35, 18.64, 11.87, 9.78, 7.51, 14.07, 13.13, 17.26, 24.55, 19.77, 29.85, 48.17, 25.0, 13.39, 16.49, 21.5, 12.66, 16.21, 13.81, 17.51, 24.52, 20.76, 31.71, 10.59, 10.63, 50.81, 15.81, 7.25, 31.85, 16.82, 32.9, 17.89, 14.48, 9.6, 34.63, 34.65, 23.33, 45.35, 23.17, 40.55, 20.69, 20.9, 30.46, 18.15, 23.1, 15.69, 19.81, 28.44, 15.48, 16.58, 7.56, 10.34, 43.11, 13.0, 13.51, 18.71, 12.74, 13.0, 16.4, 20.53, 16.47, 26.59, 38.73, 24.27, 12.76, 30.06, 25.89, 48.33, 13.27, 28.17, 12.9, 28.15, 11.59, 7.74, 30.14, 12.16, 13.42, 8.58, 15.98, 13.42, 16.27, 10.09, 20.45, 13.28, 22.12, 24.01, 15.69, 11.61, 10.77, 15.53, 10.07, 12.6, 32.83, 35.83, 29.03, 27.18, 22.67, 17.82, 18.78], \"xaxis\": \"x\", \"yaxis\": \"y\"}],\n",
              "                        {\"barmode\": \"relative\", \"legend\": {\"tracegroupgap\": 0}, \"template\": {\"data\": {\"bar\": [{\"error_x\": {\"color\": \"#2a3f5f\"}, \"error_y\": {\"color\": \"#2a3f5f\"}, \"marker\": {\"line\": {\"color\": \"#E5ECF6\", \"width\": 0.5}}, \"type\": \"bar\"}], \"barpolar\": [{\"marker\": {\"line\": {\"color\": \"#E5ECF6\", \"width\": 0.5}}, \"type\": \"barpolar\"}], \"carpet\": [{\"aaxis\": {\"endlinecolor\": \"#2a3f5f\", \"gridcolor\": \"white\", \"linecolor\": \"white\", \"minorgridcolor\": \"white\", \"startlinecolor\": \"#2a3f5f\"}, \"baxis\": {\"endlinecolor\": \"#2a3f5f\", \"gridcolor\": \"white\", \"linecolor\": \"white\", \"minorgridcolor\": \"white\", \"startlinecolor\": \"#2a3f5f\"}, \"type\": \"carpet\"}], \"choropleth\": [{\"colorbar\": {\"outlinewidth\": 0, \"ticks\": \"\"}, \"type\": \"choropleth\"}], \"contour\": [{\"colorbar\": {\"outlinewidth\": 0, \"ticks\": \"\"}, \"colorscale\": [[0.0, \"#0d0887\"], [0.1111111111111111, \"#46039f\"], [0.2222222222222222, \"#7201a8\"], [0.3333333333333333, \"#9c179e\"], [0.4444444444444444, \"#bd3786\"], [0.5555555555555556, \"#d8576b\"], [0.6666666666666666, \"#ed7953\"], [0.7777777777777778, \"#fb9f3a\"], [0.8888888888888888, \"#fdca26\"], [1.0, \"#f0f921\"]], \"type\": \"contour\"}], \"contourcarpet\": [{\"colorbar\": {\"outlinewidth\": 0, \"ticks\": \"\"}, \"type\": \"contourcarpet\"}], \"heatmap\": [{\"colorbar\": {\"outlinewidth\": 0, \"ticks\": \"\"}, \"colorscale\": [[0.0, \"#0d0887\"], [0.1111111111111111, \"#46039f\"], [0.2222222222222222, \"#7201a8\"], [0.3333333333333333, \"#9c179e\"], [0.4444444444444444, \"#bd3786\"], [0.5555555555555556, \"#d8576b\"], [0.6666666666666666, \"#ed7953\"], [0.7777777777777778, \"#fb9f3a\"], [0.8888888888888888, \"#fdca26\"], [1.0, \"#f0f921\"]], \"type\": \"heatmap\"}], \"heatmapgl\": [{\"colorbar\": {\"outlinewidth\": 0, \"ticks\": \"\"}, \"colorscale\": [[0.0, \"#0d0887\"], [0.1111111111111111, \"#46039f\"], [0.2222222222222222, \"#7201a8\"], [0.3333333333333333, \"#9c179e\"], [0.4444444444444444, \"#bd3786\"], [0.5555555555555556, \"#d8576b\"], [0.6666666666666666, \"#ed7953\"], [0.7777777777777778, \"#fb9f3a\"], [0.8888888888888888, \"#fdca26\"], [1.0, \"#f0f921\"]], \"type\": \"heatmapgl\"}], \"histogram\": [{\"marker\": {\"colorbar\": {\"outlinewidth\": 0, \"ticks\": \"\"}}, \"type\": \"histogram\"}], \"histogram2d\": [{\"colorbar\": {\"outlinewidth\": 0, \"ticks\": \"\"}, \"colorscale\": [[0.0, \"#0d0887\"], [0.1111111111111111, \"#46039f\"], [0.2222222222222222, \"#7201a8\"], [0.3333333333333333, \"#9c179e\"], [0.4444444444444444, \"#bd3786\"], [0.5555555555555556, \"#d8576b\"], [0.6666666666666666, \"#ed7953\"], [0.7777777777777778, \"#fb9f3a\"], [0.8888888888888888, \"#fdca26\"], [1.0, \"#f0f921\"]], \"type\": \"histogram2d\"}], \"histogram2dcontour\": [{\"colorbar\": {\"outlinewidth\": 0, \"ticks\": \"\"}, \"colorscale\": [[0.0, \"#0d0887\"], [0.1111111111111111, \"#46039f\"], [0.2222222222222222, \"#7201a8\"], [0.3333333333333333, \"#9c179e\"], [0.4444444444444444, \"#bd3786\"], [0.5555555555555556, \"#d8576b\"], [0.6666666666666666, \"#ed7953\"], [0.7777777777777778, \"#fb9f3a\"], [0.8888888888888888, \"#fdca26\"], [1.0, \"#f0f921\"]], \"type\": \"histogram2dcontour\"}], \"mesh3d\": [{\"colorbar\": {\"outlinewidth\": 0, \"ticks\": \"\"}, \"type\": \"mesh3d\"}], \"parcoords\": [{\"line\": {\"colorbar\": {\"outlinewidth\": 0, \"ticks\": \"\"}}, \"type\": \"parcoords\"}], \"pie\": [{\"automargin\": true, \"type\": \"pie\"}], \"scatter\": [{\"marker\": {\"colorbar\": {\"outlinewidth\": 0, \"ticks\": \"\"}}, \"type\": \"scatter\"}], \"scatter3d\": [{\"line\": {\"colorbar\": {\"outlinewidth\": 0, \"ticks\": \"\"}}, \"marker\": {\"colorbar\": {\"outlinewidth\": 0, \"ticks\": \"\"}}, \"type\": \"scatter3d\"}], \"scattercarpet\": [{\"marker\": {\"colorbar\": {\"outlinewidth\": 0, \"ticks\": \"\"}}, \"type\": \"scattercarpet\"}], \"scattergeo\": [{\"marker\": {\"colorbar\": {\"outlinewidth\": 0, \"ticks\": \"\"}}, \"type\": \"scattergeo\"}], \"scattergl\": [{\"marker\": {\"colorbar\": {\"outlinewidth\": 0, \"ticks\": \"\"}}, \"type\": \"scattergl\"}], \"scattermapbox\": [{\"marker\": {\"colorbar\": {\"outlinewidth\": 0, \"ticks\": \"\"}}, \"type\": \"scattermapbox\"}], \"scatterpolar\": [{\"marker\": {\"colorbar\": {\"outlinewidth\": 0, \"ticks\": \"\"}}, \"type\": \"scatterpolar\"}], \"scatterpolargl\": [{\"marker\": {\"colorbar\": {\"outlinewidth\": 0, \"ticks\": \"\"}}, \"type\": \"scatterpolargl\"}], \"scatterternary\": [{\"marker\": {\"colorbar\": {\"outlinewidth\": 0, \"ticks\": \"\"}}, \"type\": \"scatterternary\"}], \"surface\": [{\"colorbar\": {\"outlinewidth\": 0, \"ticks\": \"\"}, \"colorscale\": [[0.0, \"#0d0887\"], [0.1111111111111111, \"#46039f\"], [0.2222222222222222, \"#7201a8\"], [0.3333333333333333, \"#9c179e\"], [0.4444444444444444, \"#bd3786\"], [0.5555555555555556, \"#d8576b\"], [0.6666666666666666, \"#ed7953\"], [0.7777777777777778, \"#fb9f3a\"], [0.8888888888888888, \"#fdca26\"], [1.0, \"#f0f921\"]], \"type\": \"surface\"}], \"table\": [{\"cells\": {\"fill\": {\"color\": \"#EBF0F8\"}, \"line\": {\"color\": \"white\"}}, \"header\": {\"fill\": {\"color\": \"#C8D4E3\"}, \"line\": {\"color\": \"white\"}}, \"type\": \"table\"}]}, \"layout\": {\"annotationdefaults\": {\"arrowcolor\": \"#2a3f5f\", \"arrowhead\": 0, \"arrowwidth\": 1}, \"coloraxis\": {\"colorbar\": {\"outlinewidth\": 0, \"ticks\": \"\"}}, \"colorscale\": {\"diverging\": [[0, \"#8e0152\"], [0.1, \"#c51b7d\"], [0.2, \"#de77ae\"], [0.3, \"#f1b6da\"], [0.4, \"#fde0ef\"], [0.5, \"#f7f7f7\"], [0.6, \"#e6f5d0\"], [0.7, \"#b8e186\"], [0.8, \"#7fbc41\"], [0.9, \"#4d9221\"], [1, \"#276419\"]], \"sequential\": [[0.0, \"#0d0887\"], [0.1111111111111111, \"#46039f\"], [0.2222222222222222, \"#7201a8\"], [0.3333333333333333, \"#9c179e\"], [0.4444444444444444, \"#bd3786\"], [0.5555555555555556, \"#d8576b\"], [0.6666666666666666, \"#ed7953\"], [0.7777777777777778, \"#fb9f3a\"], [0.8888888888888888, \"#fdca26\"], [1.0, \"#f0f921\"]], \"sequentialminus\": [[0.0, \"#0d0887\"], [0.1111111111111111, \"#46039f\"], [0.2222222222222222, \"#7201a8\"], [0.3333333333333333, \"#9c179e\"], [0.4444444444444444, \"#bd3786\"], [0.5555555555555556, \"#d8576b\"], [0.6666666666666666, \"#ed7953\"], [0.7777777777777778, \"#fb9f3a\"], [0.8888888888888888, \"#fdca26\"], [1.0, \"#f0f921\"]]}, \"colorway\": [\"#636efa\", \"#EF553B\", \"#00cc96\", \"#ab63fa\", \"#FFA15A\", \"#19d3f3\", \"#FF6692\", \"#B6E880\", \"#FF97FF\", \"#FECB52\"], \"font\": {\"color\": \"#2a3f5f\"}, \"geo\": {\"bgcolor\": \"white\", \"lakecolor\": \"white\", \"landcolor\": \"#E5ECF6\", \"showlakes\": true, \"showland\": true, \"subunitcolor\": \"white\"}, \"hoverlabel\": {\"align\": \"left\"}, \"hovermode\": \"closest\", \"mapbox\": {\"style\": \"light\"}, \"paper_bgcolor\": \"white\", \"plot_bgcolor\": \"#E5ECF6\", \"polar\": {\"angularaxis\": {\"gridcolor\": \"white\", \"linecolor\": \"white\", \"ticks\": \"\"}, \"bgcolor\": \"#E5ECF6\", \"radialaxis\": {\"gridcolor\": \"white\", \"linecolor\": \"white\", \"ticks\": \"\"}}, \"scene\": {\"xaxis\": {\"backgroundcolor\": \"#E5ECF6\", \"gridcolor\": \"white\", \"gridwidth\": 2, \"linecolor\": \"white\", \"showbackground\": true, \"ticks\": \"\", \"zerolinecolor\": \"white\"}, \"yaxis\": {\"backgroundcolor\": \"#E5ECF6\", \"gridcolor\": \"white\", \"gridwidth\": 2, \"linecolor\": \"white\", \"showbackground\": true, \"ticks\": \"\", \"zerolinecolor\": \"white\"}, \"zaxis\": {\"backgroundcolor\": \"#E5ECF6\", \"gridcolor\": \"white\", \"gridwidth\": 2, \"linecolor\": \"white\", \"showbackground\": true, \"ticks\": \"\", \"zerolinecolor\": \"white\"}}, \"shapedefaults\": {\"line\": {\"color\": \"#2a3f5f\"}}, \"ternary\": {\"aaxis\": {\"gridcolor\": \"white\", \"linecolor\": \"white\", \"ticks\": \"\"}, \"baxis\": {\"gridcolor\": \"white\", \"linecolor\": \"white\", \"ticks\": \"\"}, \"bgcolor\": \"#E5ECF6\", \"caxis\": {\"gridcolor\": \"white\", \"linecolor\": \"white\", \"ticks\": \"\"}}, \"title\": {\"x\": 0.05}, \"xaxis\": {\"automargin\": true, \"gridcolor\": \"white\", \"linecolor\": \"white\", \"ticks\": \"\", \"title\": {\"standoff\": 15}, \"zerolinecolor\": \"white\", \"zerolinewidth\": 2}, \"yaxis\": {\"automargin\": true, \"gridcolor\": \"white\", \"linecolor\": \"white\", \"ticks\": \"\", \"title\": {\"standoff\": 15}, \"zerolinecolor\": \"white\", \"zerolinewidth\": 2}}}, \"title\": {\"text\": \"\\u0420\\u0430\\u0437\\u0431\\u0438\\u0435\\u043d\\u0438\\u0435 \\u043d\\u0430 40 \\u043a\\u043e\\u0440\\u0437\\u0438\\u043d\"}, \"xaxis\": {\"anchor\": \"y\", \"domain\": [0.0, 1.0], \"title\": {\"text\": \"total_bill\"}}, \"yaxis\": {\"anchor\": \"x\", \"domain\": [0.0, 1.0], \"title\": {\"text\": \"count\"}}},\n",
              "                        {\"responsive\": true}\n",
              "                    ).then(function(){\n",
              "                            \n",
              "var gd = document.getElementById('bdf49c1e-9600-4b66-bd44-97aa46f9988b');\n",
              "var x = new MutationObserver(function (mutations, observer) {{\n",
              "        var display = window.getComputedStyle(gd).display;\n",
              "        if (!display || display === 'none') {{\n",
              "            console.log([gd, 'removed!']);\n",
              "            Plotly.purge(gd);\n",
              "            observer.disconnect();\n",
              "        }}\n",
              "}});\n",
              "\n",
              "// Listen for the removal of the full notebook cells\n",
              "var notebookContainer = gd.closest('#notebook-container');\n",
              "if (notebookContainer) {{\n",
              "    x.observe(notebookContainer, {childList: true});\n",
              "}}\n",
              "\n",
              "// Listen for the clearing of the current output cell\n",
              "var outputEl = gd.closest('.output');\n",
              "if (outputEl) {{\n",
              "    x.observe(outputEl, {childList: true});\n",
              "}}\n",
              "\n",
              "                        })\n",
              "                };\n",
              "                \n",
              "            </script>\n",
              "        </div>\n",
              "</body>\n",
              "</html>"
            ]
          },
          "metadata": {
            "tags": []
          }
        }
      ]
    },
    {
      "cell_type": "code",
      "metadata": {
        "colab": {
          "base_uri": "https://localhost:8080/",
          "height": 567
        },
        "id": "PZKdxgKzL5ml",
        "outputId": "5060919c-ca14-4283-f4ea-ab19b604bf5b"
      },
      "source": [
        "import pandas as pd\n",
        "from pylab import *\n",
        "\n",
        "flights = pd.read_csv('https://raw.githubusercontent.com/datasciencefefu/course/main/data/flights.csv')\n",
        "rcParams['figure.figsize'] = 18, 12\n",
        "\n",
        "# Установим 4 различных ширины ячейки\n",
        "for i, binwidth in enumerate([1, 5, 10, 15]):\n",
        "    ax = plt.subplot(2, 2, i + 1)\n",
        "\n",
        "    ax.hist(flights['arr_delay'], bins=int(180 / binwidth),\n",
        "            color='blue')\n",
        "    \n",
        "    plt.xlim([-200,300])\n",
        "    ax.set_title('Гистограмма с шириной ячейки = %d' % binwidth, size=26)\n",
        "    ax.set_xlabel('Задержка рейса в мин', size=22)\n",
        "    ax.set_ylabel('Рейсы', size=22)\n",
        "\n",
        "plt.tight_layout()\n",
        "plt.show()"
      ],
      "execution_count": null,
      "outputs": [
        {
          "output_type": "display_data",
          "data": {
            "image/png": "[encoded data removed]",
            "text/plain": [
              "<Figure size 1296x864 with 4 Axes>"
            ]
          },
          "metadata": {
            "tags": [],
            "needs_background": "light"
          }
        }
      ]
    },
    {
      "cell_type": "markdown",
      "metadata": {
        "id": "boeQWziTN5KX"
      },
      "source": [
        "### Гистограммы плотностей\n",
        "Для того, чтобы решить недостаток разбиения на интервалы,\n",
        "применяется метод, отображающий частоту не высотой столбца в гистограмме, а его площадью. Площадь столбца находят, как площадь\n",
        "прямоугольника: длину интервала умножают на высоту столбца.\n",
        "Найденная площадь — частота непрерывной переменной, а высота\n",
        "столбца — **плотность частоты**. Гистограмма, использующая в качества\n",
        "переменной - столбца плотность частоты, называется **плотностная гистограмма**.\n",
        "\n",
        "Для того, чтобы оценить, сколько значений попало в любой интервал, не\n",
        "обязательно выбранный для построения, берут два значения и ищут\n",
        "площадь плотностной гистограммы между ними. Полученное число и\n",
        "будет оценкой количества значений, попавших в интервал.\n",
        "\n",
        "Плотность частоты для непрерывных переменных можно задавать не\n",
        "только прямоугольниками, как на гистограммах, но и кривыми\n",
        "функциями. Работает тот же принцип: площадь между двумя значениями\n",
        "пропорциональна частоте попадания значений в интервал между ними.\n"
      ]
    },
    {
      "cell_type": "code",
      "metadata": {
        "colab": {
          "base_uri": "https://localhost:8080/",
          "height": 566
        },
        "id": "lUa6_QKhMo2M",
        "outputId": "03cd4ceb-8782-40e1-f1f9-df79cd759baa"
      },
      "source": [
        "import seaborn as sns\n",
        "\n",
        "rcParams['figure.figsize'] = 9, 7\n",
        "sns.distplot(flights['arr_delay'], hist=True, kde=True, \n",
        "             # Kernel density estimation (kde) рисуется в виде линии и часто повторяет форму гистограмм, \n",
        "             # но дает больше информации о характере распределения\n",
        "             bins=int(180 / 5), color='darkblue',\n",
        "             hist_kws={'edgecolor': 'black'},\n",
        "             kde_kws={'linewidth': 4});\n",
        "\n",
        "plt.xlim([-100,200])\n",
        "plt.title('Плотностная гистограмма задержек прибытия')\n",
        "plt.xlabel('Delay (min)')\n",
        "plt.ylabel('Density')"
      ],
      "execution_count": null,
      "outputs": [
        {
          "output_type": "stream",
          "text": [
            "/usr/local/lib/python3.7/dist-packages/seaborn/distributions.py:2557: FutureWarning:\n",
            "\n",
            "`distplot` is a deprecated function and will be removed in a future version. Please adapt your code to use either `displot` (a figure-level function with similar flexibility) or `histplot` (an axes-level function for histograms).\n",
            "\n"
          ],
          "name": "stderr"
        },
        {
          "output_type": "execute_result",
          "data": {
            "text/plain": [
              "Text(0, 0.5, 'Density')"
            ]
          },
          "metadata": {
            "tags": []
          },
          "execution_count": 4
        },
        {
          "output_type": "display_data",
          "data": {
            "image/png": "[encoded data removed]",
            "text/plain": [
              "<Figure size 648x504 with 1 Axes>"
            ]
          },
          "metadata": {
            "tags": [],
            "needs_background": "light"
          }
        }
      ]
    },
    {
      "cell_type": "markdown",
      "metadata": {
        "id": "SLMmNOChNnyW"
      },
      "source": [
        "Кривая показывает график плотности, который по сути является гладкой версией гистограммы. Ось Y соответствует плотности, и гистограмма по умолчанию нормализована, так что она имеет тот же масштаб Y, что и график плотности."
      ]
    },
    {
      "cell_type": "markdown",
      "metadata": {
        "id": "ClOfEpR5OXi8"
      },
      "source": [
        "### Метрики локации данных\n",
        "Познакомимся с характеристиками, которые помогут описать разброс данных в датасете. \n",
        "\n",
        "> **Разброс данных** — это понятие, которое используют, чтобы описать отклонения значений набора данных от среднего. \n",
        "\n",
        "Такие характерные значения выборки, как медиана и среднее значение,\n",
        "также называют **метрики локации данных**: по медиане и среднему можно\n",
        "судить, где примерно расположен набор данных на числовой оси.\n",
        "Для расчёта среднего значения берут все значения датасета — это\n",
        "наиболее полное использование информации при поиске метрики\n",
        "локации. Среднее значение называют **алгебраической метрикой локации**, медиану —\n",
        "**структурной метрикой локации**.\n",
        "\n",
        "\n"
      ]
    },
    {
      "cell_type": "markdown",
      "metadata": {
        "id": "Vs4AxtCoraKy"
      },
      "source": [
        "Такие характеристики, дающие представление о выборке, входят в **числовое описание данных**. В Python его получают методом describe() (от англ. «описать, охарактеризовать»). Результат отработки метода — список характерных значений:"
      ]
    },
    {
      "cell_type": "code",
      "metadata": {
        "colab": {
          "base_uri": "https://localhost:8080/"
        },
        "id": "zPke7POFq49h",
        "outputId": "475e5632-4178-41d5-830a-e8d2a6400fda"
      },
      "source": [
        "data = sns.load_dataset(\"tips\")\n",
        "print(data.describe())"
      ],
      "execution_count": null,
      "outputs": [
        {
          "output_type": "stream",
          "text": [
            "       total_bill         tip        size\n",
            "count  244.000000  244.000000  244.000000\n",
            "mean    19.785943    2.998279    2.569672\n",
            "std      8.902412    1.383638    0.951100\n",
            "min      3.070000    1.000000    1.000000\n",
            "25%     13.347500    2.000000    2.000000\n",
            "50%     17.795000    2.900000    2.000000\n",
            "75%     24.127500    3.562500    3.000000\n",
            "max     50.810000   10.000000    6.000000\n"
          ],
          "name": "stdout"
        }
      ]
    },
    {
      "cell_type": "markdown",
      "metadata": {
        "id": "5mvXY3kHOrff"
      },
      "source": [
        "Для представления о данных, недостаточно знать метрики локации,\n",
        "нужно ещё понимать, как данные разбросаны вокруг них. У структурной\n",
        "метрики локации есть структурные метрики разброса - **квартили** (см. [Диаграмма размаха](https://colab.research.google.com/drive/1lfgEaR57nrfETmvCQ6tfO3h_MdLGEOez#scrollTo=rGPhhFRwpbKO&line=1&uniqifier=1)).\n"
      ]
    },
    {
      "cell_type": "markdown",
      "metadata": {
        "id": "fIGtf0V3ye5h"
      },
      "source": [
        "###Средние величины"
      ]
    },
    {
      "cell_type": "markdown",
      "metadata": {
        "id": "CULw8gppyp-c"
      },
      "source": [
        "Существуют значения, характеризующие состояние выборки, — набора данных, выбранных для проведения исследования. Чтобы примерно оценить типичные значения выборки, годятся среднее арифметическое или медиана. \n",
        "\n",
        "> **Среднее арифметическое** — сумма всех значений, деленная на их количество. Показывает общую тенденцию данных и описывает их одним числом. Именно среднее арифметическое показывает какие примерно значения можно встретить в наборе с данными. Например, средний рост студентов. \n",
        "\n",
        "Для быстрого расчета в NumPy пользуемся методом **mean()**:"
      ]
    },
    {
      "cell_type": "code",
      "metadata": {
        "colab": {
          "base_uri": "https://localhost:8080/"
        },
        "id": "EhAXINUkyqc_",
        "outputId": "e0b11a34-f974-493c-e464-ab0c380eae31"
      },
      "source": [
        "import numpy as np\n",
        "\n",
        "x = [1.67, 1.89, 1.90, 1.58, 1.57, 1.73, 1.75, 1.82, 1.50]\n",
        "np.mean(x)"
      ],
      "execution_count": null,
      "outputs": [
        {
          "output_type": "execute_result",
          "data": {
            "text/plain": [
              "1.7122222222222223"
            ]
          },
          "metadata": {
            "tags": []
          },
          "execution_count": 6
        }
      ]
    },
    {
      "cell_type": "markdown",
      "metadata": {
        "id": "vUo_Ec2J3xUV"
      },
      "source": [
        "> **Взвешенное среднее арифметическое** — это среднее арифметическое для данных, где значения могут иметь разный вес, и некоторые значения должны сильнее влиять на результат, чем другие."
      ]
    },
    {
      "cell_type": "markdown",
      "metadata": {
        "id": "51P4MifrzEyX"
      },
      "source": [
        "В данных могут быть значения, которые принимают величину существенно выше или ниже среднего и сильно отличаются от остальных — **выбросы**. Тогда вместо среднего арифметического лучше использовать медиану. \n",
        "> **Медиана** (median) — это число, которое делит упорядоченный ряд наблюдений пополам так, что одна половина располагается выше него, а другая половина — ниже. \n",
        "\n",
        "В геометрии медиана делит фигуру на две равные по площади. В статистике она делит выборку пополам: в одной половине значения меньше медианного, в другой больше. Для определения медианы список обязательно должен быть отсортирован — либо по возрастанию, либо по убыванию.\n",
        "\n",
        "Когда количество значений нечётное, медиана будет равна тому значению, которое оказалось ровно посередине отсортированного набора. Если же количество данных чётное, то медиана рассчитывается как среднее арифметическое двух соседних чисел в середине набора.\n",
        "\n",
        "В NumPy для нахождения медианы есть метод **median()**:\n"
      ]
    },
    {
      "cell_type": "code",
      "metadata": {
        "colab": {
          "base_uri": "https://localhost:8080/"
        },
        "id": "pxhTZb2czYCj",
        "outputId": "b6b8400e-fc22-4aa7-b47a-778598bbb7c3"
      },
      "source": [
        "np.median(x)"
      ],
      "execution_count": null,
      "outputs": [
        {
          "output_type": "execute_result",
          "data": {
            "text/plain": [
              "1.73"
            ]
          },
          "metadata": {
            "tags": []
          },
          "execution_count": 7
        }
      ]
    },
    {
      "cell_type": "markdown",
      "metadata": {
        "id": "nSD565eqwACU"
      },
      "source": [
        "Рассмотрим пример, когда среднее значение некорректно характеризует данные, когда некоторые значения сильно выделяются среди большинства. Например, 5 сотрудников компании получают зарплату 100 000 рублей. Инвестор пригласил директора по развитию с зарплатой 300 000 рублей. На сколько процентов выросла средняя оплата труда в коллективе?\n",
        "\n",
        "Зарплаты первоначального состава команды приведены в old_staff. В версии с директором по развитию — в new_director.\n"
      ]
    },
    {
      "cell_type": "code",
      "metadata": {
        "id": "u54Lo4SUwHKC"
      },
      "source": [
        "old_staff = pd.Series([100, 100, 100, 100, 100])\n",
        "new_director = pd.Series([100, 100, 100, 100, 100, 300])"
      ],
      "execution_count": null,
      "outputs": []
    },
    {
      "cell_type": "markdown",
      "metadata": {
        "id": "x-VogYUFwLjg"
      },
      "source": [
        "Вызвав метод mean(), рассчитаем среднее значение зарплаты в старом и новом коллективах:"
      ]
    },
    {
      "cell_type": "code",
      "metadata": {
        "id": "qZr4mABEwMVM"
      },
      "source": [
        "old_staff_mean = old_staff.mean()\n",
        "new_director_mean = new_director.mean() "
      ],
      "execution_count": null,
      "outputs": []
    },
    {
      "cell_type": "markdown",
      "metadata": {
        "id": "Usicr2pWwPOS"
      },
      "source": [
        "Чтобы ответить, на сколько процентов выросла средняя зарплата в команде, поделим их друг на друга:"
      ]
    },
    {
      "cell_type": "code",
      "metadata": {
        "colab": {
          "base_uri": "https://localhost:8080/"
        },
        "id": "vp3AommDwRsW",
        "outputId": "58f2bd87-4188-442b-805b-c41da5458dcc"
      },
      "source": [
        "new_director_mean / old_staff_mean - 1   "
      ],
      "execution_count": null,
      "outputs": [
        {
          "output_type": "execute_result",
          "data": {
            "text/plain": [
              "0.3333333333333335"
            ]
          },
          "metadata": {
            "tags": []
          },
          "execution_count": 10
        }
      ]
    },
    {
      "cell_type": "markdown",
      "metadata": {
        "id": "0avWY7j0wT0m"
      },
      "source": [
        "Дробь в формуле показывает, во сколько раз средняя зарплата в новой команде больше средней зарплаты в старой. Единицу отнимаем, чтобы определить, на какую долю выросла средняя зарплата после прихода директора по развитию. Результат выведем как привычно, в процентах:"
      ]
    },
    {
      "cell_type": "code",
      "metadata": {
        "colab": {
          "base_uri": "https://localhost:8080/"
        },
        "id": "BPoSnQ1owX4C",
        "outputId": "3d737038-3624-47c0-a6ea-30e8cad67924"
      },
      "source": [
        "print('Зарплата выросла на {:.0%}'.format(new_director_mean / old_staff_mean - 1)) "
      ],
      "execution_count": null,
      "outputs": [
        {
          "output_type": "stream",
          "text": [
            "Зарплата выросла на 33%\n"
          ],
          "name": "stdout"
        }
      ]
    },
    {
      "cell_type": "markdown",
      "metadata": {
        "id": "rEiHogMKwb6Z"
      },
      "source": [
        "Вот так, ловким приёмом на работу нового высокооплачиваемого сотрудника средняя зарплата всех членов команды повышается на 33%. \n",
        "\n",
        "Когда в выборке присутствуют выдающиеся значения (300 против 100), лучше использовать медиану.\n",
        "Применим median() к набору данных new_director\n"
      ]
    },
    {
      "cell_type": "code",
      "metadata": {
        "colab": {
          "base_uri": "https://localhost:8080/"
        },
        "id": "V35sN07Kwi2o",
        "outputId": "d138636f-436b-41db-bb01-314d954b88dc"
      },
      "source": [
        "new_director_median = new_director.median()\n",
        "print(new_director_median) "
      ],
      "execution_count": null,
      "outputs": [
        {
          "output_type": "stream",
          "text": [
            "100.0\n"
          ],
          "name": "stdout"
        }
      ]
    },
    {
      "cell_type": "markdown",
      "metadata": {
        "id": "_J2jktZuwlAR"
      },
      "source": [
        "Значит, зарплатная медиана как была равна 100, так и останется после прихода директора по развитию. Это более объективная информация о зарплате сотрудников, чем среднее значение."
      ]
    },
    {
      "cell_type": "markdown",
      "metadata": {
        "id": "g-9jc4kJOxcw"
      },
      "source": [
        "### Дисперсия"
      ]
    },
    {
      "cell_type": "markdown",
      "metadata": {
        "id": "pE7ZpyhyO6K_"
      },
      "source": [
        "Отклонение — это разность между конкретным значением и средним арифметическим. Отклонение показывает, насколько сильно конкретное значение отличается от среднего. Но считать отклонение для каждого значения отдельно не всегда удобно и значимо. Поэтому есть характеристики, которые опишут общее отклонение по всем данным.\n",
        "\n",
        "Улучшенная метрика разброса — не просто среднее расстояние между\n",
        "значениями датасета и средним, а средний квадрат этого расстояния.\n",
        "Эта величина называется **дисперсия**, её находят по формуле:\n",
        "$σ = \\frac{∑(μ − x_{i})^2}{n}$,\n",
        "где греческая буква *μ* обозначает среднее арифметическое значение\n",
        "совокупности данных:\n",
        "$μ=\\frac{∑(x_{i})}{n}$"
      ]
    },
    {
      "cell_type": "markdown",
      "metadata": {
        "id": "_-e75RnNQt8w"
      },
      "source": [
        "Библиотека Numpy в Python содержит большую библиотеку\n",
        "высокоуровневых математических функций. Дисперсию рассчитывают методом **var()**:"
      ]
    },
    {
      "cell_type": "code",
      "metadata": {
        "colab": {
          "base_uri": "https://localhost:8080/"
        },
        "id": "4F3fqMHLQyBi",
        "outputId": "d5e100a6-50e9-4f36-b4ba-8c14902ed57e"
      },
      "source": [
        "variance = np.var(x)\n",
        "print(variance)"
      ],
      "execution_count": null,
      "outputs": [
        {
          "output_type": "stream",
          "text": [
            "0.01830617283950616\n"
          ],
          "name": "stdout"
        }
      ]
    },
    {
      "cell_type": "markdown",
      "metadata": {
        "id": "Ga8UvXEPO0Sg"
      },
      "source": [
        "### Стандартное отклонение"
      ]
    },
    {
      "cell_type": "markdown",
      "metadata": {
        "id": "INhpifaSO6wP"
      },
      "source": [
        "У дисперсии есть один небольшой недостаток: единица её измерения —\n",
        "это квадрат исходной величины. Чтобы вернуться к исходной единице\n",
        "измерения, из дисперсии извлекают квадратный корень. Получившаяся\n",
        "величина называется **стандартным отклонением**: $σ = \\sqrt{\\frac{∑(μ − x_{i})^2}{n}}$.\n"
      ]
    },
    {
      "cell_type": "markdown",
      "metadata": {
        "id": "i6bpvWjfheFL"
      },
      "source": [
        "Оно характеризует разброс величин, показывает, насколько значения в выборке отличаются от среднего арифметического.\n",
        "\n",
        "Бывает, что именно стандартное отклонение позволяет понять природу распределения и определить, насколько значения однородны. Чем **меньше** стандартное отклонение, тем значения конкретной характеристики **однороднее**. Чем **больше** стандартное отклонение, тем **сильнее разброс** значений признака. То есть если стандартное отклонение большое, то у нас много данных с отклонениями."
      ]
    },
    {
      "cell_type": "markdown",
      "metadata": {
        "id": "ZFmsPA40RW_y"
      },
      "source": [
        "Стандартное отклонение находят методом **std()** из библиотеки Numpy:"
      ]
    },
    {
      "cell_type": "code",
      "metadata": {
        "colab": {
          "base_uri": "https://localhost:8080/"
        },
        "id": "hnmTHAWTRWJH",
        "outputId": "e083a2c6-b556-4312-c8ca-1c0376ea9268"
      },
      "source": [
        "standard_deviation = np.std(x)\n",
        "print(standard_deviation)"
      ],
      "execution_count": null,
      "outputs": [
        {
          "output_type": "stream",
          "text": [
            "0.1353003061323446\n"
          ],
          "name": "stdout"
        }
      ]
    },
    {
      "cell_type": "markdown",
      "metadata": {
        "id": "2RoxuMP4Rbik"
      },
      "source": [
        "Если дисперсия известна заранее, можно применить метод sqrt() из\n",
        "библиотеки Numpy. Корень из дисперсии будет равен стандартному\n",
        "отклонению:\n"
      ]
    },
    {
      "cell_type": "code",
      "metadata": {
        "colab": {
          "base_uri": "https://localhost:8080/"
        },
        "id": "Ui2rSZqQRfFu",
        "outputId": "c82a72fe-29fb-407b-d948-962c4302eec5"
      },
      "source": [
        "variance = 2.9166666666666665\n",
        "standard_deviation = np.sqrt(variance)\n",
        "print(standard_deviation)"
      ],
      "execution_count": null,
      "outputs": [
        {
          "output_type": "stream",
          "text": [
            "1.707825127659933\n"
          ],
          "name": "stdout"
        }
      ]
    },
    {
      "cell_type": "markdown",
      "metadata": {
        "id": "yI3HEgBERhqi"
      },
      "source": [
        "Для большинства распределений верно правило трёх стандартных\n",
        "отклонений или **правило трёх сигм**. Оно гласит — практически все\n",
        "значения (около 99%) находятся в промежутке: $(μ − 3σ,μ + 3σ)$.\n",
        "Это правило позволяет не только находить интервал, в который\n",
        "наверняка попадут практически все значения интересующей нас\n",
        "переменной, но и искать значения вне этого интервала — часто их\n",
        "называют **выбросами**."
      ]
    },
    {
      "cell_type": "markdown",
      "metadata": {
        "id": "RF6YAxcts7w_"
      },
      "source": [
        "###Корреляция\n"
      ]
    },
    {
      "cell_type": "markdown",
      "metadata": {
        "id": "LC5NGXWnuVIg"
      },
      "source": [
        "Взаимозависимость двух величин называется **корреляция**. Корреляция показывает насколько два ряда синхронно движутся между собой. График позволяет\n",
        "утверждать, что две величины явно взаимосвязаны, или **коррелируют**. В том случае,\n",
        "если существует прямая зависимость величин (например, чем больше одна, тем больше другая),\n",
        "то говорят, что корреляция **положительная**. В том случае, если существует обратная\n",
        "зависимость величин (чем больше одна, тем меньше другая), то говорят, что\n",
        "корреляция **отрицательная**.\n",
        "Численно взаимосвязь оценивается с помощью **коэффициента корреляции Пирсона**. Он\n",
        "помогает определить, как сильно меняется одна величина при изменении другой; и принимает значения от - 1 до 1. \n",
        "- Если с ростом первой величины, растёт вторая, то\n",
        "коэффициент корреляции Пирсона — положительный. Если при изменении одной\n",
        "величины другая остаётся прежней, то коэффициент равен 0. \n",
        "- Если рост одной величины\n",
        "связан с уменьшением другой, коэффициент отрицательный. Чем ближе коэффициент\n",
        "корреляции Пирсона к крайним значениям: 1 или - 1, тем сильнее взаимозависимость.\n",
        "- Если значение близко к нулю, значит связь слабая, либо отсутствует вовсе. Бывает, что\n",
        "коэффициент нулевой не оттого, что связи между значениями нет, а потому что у неё\n",
        "более сложный, не линейный характер. Потому-то коэффициент корреляции такую\n",
        "связь не берёт.\n",
        "\n",
        "Коэффициент Пирсона находят методом corr() . Метод применяют к столбцу с первой\n",
        "величиной, а столбец со второй передают в параметре. Какая первая, а какая —\n",
        "неважно:\n",
        "\n",
        "\n",
        "```\n",
        "print(data['column_1'].corr(data['column_2']))\n",
        "print(data['column_2'].corr(data['column_1']))\n",
        "```\n",
        "\n",
        "\n"
      ]
    },
    {
      "cell_type": "code",
      "metadata": {
        "colab": {
          "base_uri": "https://localhost:8080/"
        },
        "id": "c8kuh9rv4qrW",
        "outputId": "2a991a71-ae70-4dfa-fdf6-e25b39db8529"
      },
      "source": [
        "print(data['total_bill'].corr(data['tip']))\n",
        "print(data['tip'].corr(data['total_bill']))"
      ],
      "execution_count": null,
      "outputs": [
        {
          "output_type": "stream",
          "text": [
            "0.6757341092113641\n",
            "0.6757341092113641\n"
          ],
          "name": "stdout"
        }
      ]
    },
    {
      "cell_type": "markdown",
      "metadata": {
        "id": "cym9x7RPvF5z"
      },
      "source": [
        "\n",
        "\n",
        "---\n",
        "\n",
        "**Совместное распределение для множества величин**\n",
        "\n",
        "Когда в задаче нужно найти попарные взаимосвязи величин, это можно сделать с\n",
        "помощью попарных диаграмм рассеяния. В Pandas такую задачу решают специальным методом: \n",
        "\n",
        "```\n",
        "pd.plotting.scatter_matrix(data)\n",
        "```\n",
        "\n",
        "Визуализировать диаграммы рассеяния можно используя метода pairplot() библиотеки Seaborn (см. Визуализация).\n"
      ]
    },
    {
      "cell_type": "markdown",
      "metadata": {
        "id": "SLrDmDj5vfgw"
      },
      "source": [
        "Помимо попарных диаграмм рассеяния, можно получить попарный коэффициент\n",
        "корреляции для всех величин. Это можно сделать с помощью матрицы корреляции:"
      ]
    },
    {
      "cell_type": "code",
      "metadata": {
        "colab": {
          "base_uri": "https://localhost:8080/",
          "height": 141
        },
        "id": "NNavMxT2vgXV",
        "outputId": "792e9ae4-1b4b-42a0-fb64-3f81ca7b2e21"
      },
      "source": [
        "data.corr()"
      ],
      "execution_count": null,
      "outputs": [
        {
          "output_type": "execute_result",
          "data": {
            "text/html": [
              "<div>\n",
              "<style scoped>\n",
              "    .dataframe tbody tr th:only-of-type {\n",
              "        vertical-align: middle;\n",
              "    }\n",
              "\n",
              "    .dataframe tbody tr th {\n",
              "        vertical-align: top;\n",
              "    }\n",
              "\n",
              "    .dataframe thead th {\n",
              "        text-align: right;\n",
              "    }\n",
              "</style>\n",
              "<table border=\"1\" class=\"dataframe\">\n",
              "  <thead>\n",
              "    <tr style=\"text-align: right;\">\n",
              "      <th></th>\n",
              "      <th>total_bill</th>\n",
              "      <th>tip</th>\n",
              "      <th>size</th>\n",
              "    </tr>\n",
              "  </thead>\n",
              "  <tbody>\n",
              "    <tr>\n",
              "      <th>total_bill</th>\n",
              "      <td>1.000000</td>\n",
              "      <td>0.675734</td>\n",
              "      <td>0.598315</td>\n",
              "    </tr>\n",
              "    <tr>\n",
              "      <th>tip</th>\n",
              "      <td>0.675734</td>\n",
              "      <td>1.000000</td>\n",
              "      <td>0.489299</td>\n",
              "    </tr>\n",
              "    <tr>\n",
              "      <th>size</th>\n",
              "      <td>0.598315</td>\n",
              "      <td>0.489299</td>\n",
              "      <td>1.000000</td>\n",
              "    </tr>\n",
              "  </tbody>\n",
              "</table>\n",
              "</div>"
            ],
            "text/plain": [
              "            total_bill       tip      size\n",
              "total_bill    1.000000  0.675734  0.598315\n",
              "tip           0.675734  1.000000  0.489299\n",
              "size          0.598315  0.489299  1.000000"
            ]
          },
          "metadata": {
            "tags": []
          },
          "execution_count": 17
        }
      ]
    },
    {
      "cell_type": "markdown",
      "metadata": {
        "id": "tYLPsxDwlZWW"
      },
      "source": [
        "Корреляция помогает определять, с помощью каких параметров можно делать прогноз, а какие никакой предсказательной силы не несут. При этом на диагонали матрицы корреляции всегда будут единицы: сравниваемые ряды полностью совпадают."
      ]
    },
    {
      "cell_type": "markdown",
      "metadata": {
        "id": "zjYlatgiNu6T"
      },
      "source": [
        "##Теория вероятности"
      ]
    },
    {
      "cell_type": "markdown",
      "metadata": {
        "id": "XNb6mjN_GvzA"
      },
      "source": [
        "###Вероятность: эксперименты, элементарные исходы и события"
      ]
    },
    {
      "cell_type": "markdown",
      "metadata": {
        "id": "7l-FEbHZdDZJ"
      },
      "source": [
        "Изучать теорию вероятности можно годами, но для решения большинства задач достаточно знания нескольких базовых определений. \n"
      ]
    },
    {
      "cell_type": "markdown",
      "metadata": {
        "id": "yInpXq4RUA3u"
      },
      "source": [
        "**Испытание (эксперимент)** - это повторяемый опыт, который может окончиться **элементарными исходами**. Они так названы из-за своего простого устройства: исход либо случился, либо нет. Результат конкретного исхода или нескольких исходов называется **событием**. Например, при подбрасывании монетки выпала решка — это и есть событие. \n",
        "\n",
        "\n",
        "В простейшем случае исходы не отличаются: вероятность каждого из них одинакова. Такие исходы называются **равновероятные**. С равной вероятностью выпадают орёл и решка при броске монеты, чётные и нечётные грани на игральном кубике, бутерброд маслом вверх и вниз.\n",
        "\n",
        "Если провести эксперимент один раз, какой-то из исходов точно произойдёт. Вероятность этого: 100%, или единица. \n",
        "Вероятности n элементарных исходов одинаковы и в сумме равны единице. Несложно посчитать, что тогда вероятность каждого исхода равна единице, делённой на n.\n",
        "Итак, при проведении честного эксперимента с n элементарными исходами, то вероятность каждого исхода одинакова и равна 1/n (исходы равновероятны)."
      ]
    },
    {
      "cell_type": "markdown",
      "metadata": {
        "id": "sQAm_xvDbDwV"
      },
      "source": [
        "Рассмотрим на примере. Магазин шоколада \"Конфишок\" проводит розыгрыш. Для получения бесплатного набора конфет необходимо сделать репост записи с описанием конкурса в социальных сетях. Победитель будет выбран случайно. Найдем вероятность выигрыша:"
      ]
    },
    {
      "cell_type": "code",
      "metadata": {
        "colab": {
          "base_uri": "https://localhost:8080/"
        },
        "id": "iZBG0mrvbxBd",
        "outputId": "60a9ed21-9391-4bf8-b7bc-57d681b218d7"
      },
      "source": [
        "reposts_media = 2693\n",
        "probablity_of_win = 1 / reposts_media\n",
        "print(\"Вероятность выиграть бесплатный набор конфет: {:.4%}\".format(probablity_of_win))"
      ],
      "execution_count": null,
      "outputs": [
        {
          "output_type": "stream",
          "text": [
            "Вероятность выиграть бесплатный набор конфет: 0.0371%\n"
          ],
          "name": "stdout"
        }
      ]
    },
    {
      "cell_type": "markdown",
      "metadata": {
        "id": "snu0qCIb9Fki"
      },
      "source": [
        "Математически вероятность события равна отношению числа благоприятных событию исходов испытания к общему числу исходов испытания и обычно обозначается буквой P:<br>\n",
        "\n",
        "$P=m*N$,\n",
        "\n",
        "где m — это количество благоприятных исходов (например, количество победителей в лотерее), а N — общее количество исходов (общее количество людей, кто купил билеты, чтобы поучаствовать в лотерее).\n"
      ]
    },
    {
      "cell_type": "markdown",
      "metadata": {
        "id": "tJJTcvnixnjQ"
      },
      "source": [
        "Множество всех элементарных исходов эксперимента принято называть\n",
        "**вероятностным пространством**. Из него можно выделить подмножества,\n",
        "содержащие в себе некоторое количество элементарных исходов - события.\n",
        "\n",
        "> **Невозможное событие** - событие, которое не произойдёт никогда, вероятность\n",
        "его появления равна 0. \n",
        "\n",
        "> **Достоверное событие** - событие, которое точно\n",
        "произойдёт, вероятность его которого равна 1. Вероятность появления других\n",
        "событий находится в промежутке от 0 до 1.\n",
        "\n",
        "При сохранении условия равновероятности всех элементарных исходов\n",
        "**вероятность события** — количество исходов, входящих в это событие,\n",
        "делённое на общее количество исходов, то есть на размер вероятностного\n",
        "пространства.\n"
      ]
    },
    {
      "cell_type": "markdown",
      "metadata": {
        "id": "DQQN18jUJJ5o"
      },
      "source": [
        "\n",
        "\n",
        "---\n",
        "\n",
        "**Закон больших чисел:** чем больше раз повторяется эксперимент, тем ближе\n",
        "частота заданного на этом эксперименте события будет к его вероятности.\n",
        "Это правило можно использовать и в обратную сторону: если не известна\n",
        "вероятность какого-то события, но возможно много раз повторить эксперимент, по\n",
        "частоте выпадания исходов, входящих в это событие, можно судить о его\n",
        "вероятности.\n"
      ]
    },
    {
      "cell_type": "markdown",
      "metadata": {
        "id": "SxPJ-2MaJYHW"
      },
      "source": [
        "### Взаимоисключающие и независимые события"
      ]
    },
    {
      "cell_type": "markdown",
      "metadata": {
        "id": "kJOY0s0hJf1d"
      },
      "source": [
        "Для отображения пересечения между событиями, используется диаграмма\n",
        "Эйлера-Венна: ![1event.jpg](https://github.com/datasciencefefu/course/raw/main/images/1event.jpg)\n"
      ]
    },
    {
      "cell_type": "markdown",
      "metadata": {
        "id": "3xvLaQCGL5oq"
      },
      "source": [
        "События А и В пересекаются, значит существуют элементарные исходы,\n",
        "входящие и в А, и в В.\n",
        "**Взаимоисключающими** называют события, которые не могут произойти\n",
        "одновременно при проведении эксперимента — на диаграмме Эйлера-Венна они\n",
        "не пересекаются:![1event.png](https://github.com/datasciencefefu/course/raw/main/images/1event.png)"
      ]
    },
    {
      "cell_type": "markdown",
      "metadata": {
        "id": "GDL_K2evMB6-"
      },
      "source": [
        "Вероятность взаимоисключающих событий равна нулю.\n",
        "\n",
        "События называются **независимыми**, если наступление одного из них не влияет\n",
        "на вероятность другого. Если события независимы, то вероятность их\n",
        "пересечения равна произведению их вероятностей. Это правило работает и в\n",
        "обратную сторону.\n",
        "\n",
        "Если взаимоисключающие события охватывают всё вероятностное\n",
        "пространство, сумма их вероятностей равна единице.\n",
        "\n",
        "Взаимоисключаемость событий видна на диаграмме Эйлера-Венна. А вот\n",
        "независимость так просто не обнаружишь, нужно проверять условие равенства\n",
        "произведения вероятностей событий вероятности их пересечения.\n"
      ]
    },
    {
      "cell_type": "markdown",
      "metadata": {
        "id": "RVZZ4ZXDR2AL"
      },
      "source": [
        "###Случайные величины, распределение вероятностей, интервалы значений"
      ]
    },
    {
      "cell_type": "markdown",
      "metadata": {
        "id": "RkTxbzhVbG49"
      },
      "source": [
        "**Случайная величина** — это переменная, которая принимает случайные значения - те значения, которые нельзя предсказать до проведения эксперимента. У\n",
        "эксперимента есть исходы, которые могут описываться как количественно, так\n",
        "и качественно. Случайная же величина определяется на этих исходах численно.\n",
        "Это способ спроецировать исходы эксперимента, как бы они ни определялись,\n",
        "на числовую ось.\n",
        "\n",
        "Как и все количественные переменные, случайная величина может быть\n",
        "дискретной или непрерывной.\n",
        "\n",
        "Распределением вероятности случайной величины называется таблица,\n",
        "содержащая всевозможные значения случайной величины и вероятности их\n",
        "появления.\n",
        "\n",
        "Для хранения числовых таблиц, используется тип данных **array** из библиотеки Numpy:\n"
      ]
    },
    {
      "cell_type": "code",
      "metadata": {
        "id": "R2WipHpxbcaj"
      },
      "source": [
        "table = np.array([[2, 3, 4, 5, 6, 7],\n",
        "                  [3, 4, 5, 6, 7, 8], [7, 8, 9, 10, 11, 12]])"
      ],
      "execution_count": null,
      "outputs": []
    },
    {
      "cell_type": "markdown",
      "metadata": {
        "id": "VNjqfaIdbg1V"
      },
      "source": [
        "Если при работе со словарём вам необходимо получить список всех ключей\n",
        "словаря, то это можно сделать с помощью метода **keys()**. А список всех\n",
        "значений словаря — с помощью метода **values()**:\n"
      ]
    },
    {
      "cell_type": "code",
      "metadata": {
        "colab": {
          "base_uri": "https://localhost:8080/"
        },
        "id": "cqt9lN1Wbh7M",
        "outputId": "e1f1d37b-b565-40de-8363-0a4d9db2ffe9"
      },
      "source": [
        "dictionary = {1: 2, 2: 4, 3: 9}\n",
        "print(dictionary.keys())\n",
        "print(dictionary.values())"
      ],
      "execution_count": null,
      "outputs": [
        {
          "output_type": "stream",
          "text": [
            "dict_keys([1, 2, 3])\n",
            "dict_values([2, 4, 9])\n"
          ],
          "name": "stdout"
        }
      ]
    },
    {
      "cell_type": "markdown",
      "metadata": {
        "id": "rcImzqFuSCY3"
      },
      "source": [
        "###Математическое ожидание"
      ]
    },
    {
      "cell_type": "markdown",
      "metadata": {
        "id": "qFDDYr-obH0w"
      },
      "source": [
        "Для эксперимента можно задать случайную величину и найти численное значение, к которому она будет в среднем стремиться при многократном повторе эксперимента. Это значение называется **математическим ожиданием** случайной величины.\n",
        "\n",
        "Если эксперимент состоит из равновероятных элементарных исходов, заданных численно, математическое ожидание будет равно среднему из возможных значений.\n",
        "\n",
        "> **Математическое ожидание** случайной величины — сумма всех значений\n",
        "случайной величины, помноженных на их вероятности:\n",
        "$E(X) = ∑p(x_{i})x_{i}$\n",
        "\n",
        "Математическое ожидание — аналог метрики локации, только не для датасета,\n",
        "а для случайной величины. Оно показывает, вокруг какого значения\n",
        "распределена случайная величина, и — по закону больших чисел — к какому\n",
        "значению она будет в среднем стремиться при повторе эксперимента.\n",
        "\n",
        "Поскольку случайная величина распределена вокруг этой «метрики локации»,\n",
        "можно найти и меру её разброса. Для этого нужно найти математическое ожидание квадрата случайной величины — это несложно если учесть, что\n",
        "значения меняются, а их вероятности — нет.\n",
        "\n",
        "Если известно математическое ожидание самой случайной величины и её\n",
        "квадрата, дисперсию находят по формуле:\n",
        "$Var(X) = E(X^2) − (E(X))^2$\n"
      ]
    },
    {
      "cell_type": "markdown",
      "metadata": {
        "id": "8904Gw_cSJU6"
      },
      "source": [
        "###Распределения\n",
        "\n"
      ]
    },
    {
      "cell_type": "markdown",
      "metadata": {
        "id": "95Mfmif6sgaN"
      },
      "source": [
        "Для некоторых явлений можно выяснить все возможные значения и описать частоту их появления — это называется **распределение**."
      ]
    },
    {
      "cell_type": "markdown",
      "metadata": {
        "id": "LaVQNUlgbL2E"
      },
      "source": [
        "####Биномиальное распределение\n",
        "Эксперименты с двумя возможными исходами называются **биномиальными\n",
        "экспериментами**. Обычно один из результатов называют успехом, а второй,\n",
        "соответственно, неудачей. Если вероятность успеха равна p , то вероятность\n",
        "неудачи (1 - p) .\n",
        "Количество способов выбрать k успехов из n повторений эксперимента находят\n",
        "по формуле:\n",
        "$C^k_{n}=\\frac{n!}{k!(n-k)!}$\n",
        "\n",
        "Для вычисления факториала используется библиотека math и её метод factorial:"
      ]
    },
    {
      "cell_type": "code",
      "metadata": {
        "colab": {
          "base_uri": "https://localhost:8080/"
        },
        "id": "ForKR9txdAxd",
        "outputId": "159382a8-849c-43a8-96e5-ffaaaf8050ba"
      },
      "source": [
        "from math import factorial\n",
        "\n",
        "x = factorial(5)\n",
        "print(x)"
      ],
      "execution_count": null,
      "outputs": [
        {
          "output_type": "stream",
          "text": [
            "120\n"
          ],
          "name": "stdout"
        }
      ]
    },
    {
      "cell_type": "markdown",
      "metadata": {
        "id": "IJYF0NIcdIO-"
      },
      "source": [
        "Рассмотрим задачу о биномиальном эксперименте (повторении эксперимента с\n",
        "двумя исходами n раз) в общем виде. Если вероятность успеха p и неуспеха 1 -\n",
        "p , а эксперимент был повторен n раз, то вероятность любого количества\n",
        "успехов k из этих n экспериментов:\n",
        "$P(k\\quadуспехов\\quadиз\\quad n\\quadпопыток) = C_{n}^kp^k(1-p)^{n-k}$\n",
        "\n",
        "Условия, при которых можно утверждать что случайная величина распределена\n",
        "биномиально:\n",
        "- проводится конечное фиксированное число попыток n;\n",
        "- каждая попытка — простой биномиальный эксперимент ровно с двумя\n",
        "исходами;\n",
        "- попытки независимы между собой;\n",
        "- вероятность успеха p одинаковая для всех n попыток.\n"
      ]
    },
    {
      "cell_type": "markdown",
      "metadata": {
        "id": "h7xdoJ_ZSQzW"
      },
      "source": [
        "####Нормальное распределение\n",
        "Нормальные или тяготеющие к ним распределения распространены в жизни. Так распределяется рост людей, результаты измерения температуры. Понимание природы распределений необходимо для обнаружения важных аномалий.\n",
        "Так, при измерении длины изготовленных на заводе деталей ожидается распределение, тяготеющее к нормальному. Если же в результате расчётов получили распределение, скажем, с двумя пиками, это должно насторожить аналитика. Такое может быть, если на заводе есть две производственные линии, и с одной из них приходят данные в сантиметрах, а с другой — в дециметрах.\n",
        "\n",
        "Ключевая теорема в статистике — центральная предельная теорема. Если\n",
        "немного упростить, она гласит: «Много независимых случайных величин,\n",
        "сложенных вместе, дают нормальное распределение».\n",
        "Нормальное распределение описывает множество реальных непрерывных\n",
        "величин. Нормальное распределение определяют два параметра — среднее и\n",
        "дисперсия:\n",
        "$X ∼ \\mathbb{N}(μ, σ^2 )$.\n",
        "Эта запись читается так: переменная X распределена нормально со средним мю\n",
        "($μ$) и дисперсией сигма в квадрате ($σ^2$), то есть стандартным отклонением\n",
        "сигма.\n",
        "\n",
        "Для того, чтобы по известным параметрам распределения найти вероятность\n",
        "попадания в те или иные интервалы, вызовем два метода из пакета scipy.stats:\n",
        "**norm.ppf** и **norm.cdf**:\n",
        "- ppf — функция процентных значений;\n",
        "- cdf — кумулятивная функция распределения.\n",
        "\n",
        "Обе работают с нормальным распределением, заданным своими средним и\n",
        "стандартным отклонением.\n",
        "- Функция norm.ppf выдаёт значение переменной для известной вероятности\n",
        "интервала слева от этого значения.\n",
        "- Функция norm.cdf, наоборот, выдаёт для известного значения вероятность\n",
        "интервала слева от этого значения.\n",
        "\n",
        "Чтобы задать нормальное распределение, используется метод norm() из пакета\n",
        "scipy.stats с двумя аргументами: математическим ожиданием и стандартным\n",
        "отклонением. Найдём вероятность получить некоторое значение $x$:\n",
        "\n"
      ]
    },
    {
      "cell_type": "code",
      "metadata": {
        "colab": {
          "base_uri": "https://localhost:8080/"
        },
        "id": "viRGjg3yeIiF",
        "outputId": "08c43b7f-dc1d-42c7-dbdc-c03f0d5192df"
      },
      "source": [
        "from scipy import stats as st\n",
        "\n",
        "# Задаем нормальное распределение\n",
        "distr = st.norm(1000, 100)\n",
        "x = 1000\n",
        "result = distr.cdf(x)  # Считаем вероятность получить значение x\n",
        "print(result)"
      ],
      "execution_count": null,
      "outputs": [
        {
          "output_type": "stream",
          "text": [
            "0.5\n"
          ],
          "name": "stdout"
        }
      ]
    },
    {
      "cell_type": "markdown",
      "metadata": {
        "id": "pLCXYrgHeLXZ"
      },
      "source": [
        "С помощью функции norm.cdf можно посчитать вероятность получить значение\n",
        "в промежутке от $x_1$ до $x_2$:\n"
      ]
    },
    {
      "cell_type": "code",
      "metadata": {
        "colab": {
          "base_uri": "https://localhost:8080/"
        },
        "id": "y3245NgAeNLl",
        "outputId": "19285b71-635e-4ed9-9052-41851e863464"
      },
      "source": [
        "distr = st.norm(1000, 100)\n",
        "x1 = 900\n",
        "x2 = 1100\n",
        "result = distr.cdf(x2) - distr.cdf(x1)  # Считаем вероятность получить значение между x1 и x2\n",
        "print(result)"
      ],
      "execution_count": null,
      "outputs": [
        {
          "output_type": "stream",
          "text": [
            "0.6826894921370859\n"
          ],
          "name": "stdout"
        }
      ]
    },
    {
      "cell_type": "markdown",
      "metadata": {
        "id": "XX_b4hgIeRGs"
      },
      "source": [
        "Для того, чтобы по вероятности получить значение, воспользуемся методом\n",
        "norm.ppf:\n"
      ]
    },
    {
      "cell_type": "code",
      "metadata": {
        "colab": {
          "base_uri": "https://localhost:8080/"
        },
        "id": "_zpcsoZUeTPa",
        "outputId": "4640d50c-7e71-4fef-a103-c7058be9b10a"
      },
      "source": [
        "from scipy import stats as st\n",
        "\n",
        "# Задаем нормальное распределение\n",
        "distr = st.norm(1000, 100)\n",
        "p1 = 0.841344746\n",
        "result = distr.ppf(p1)\n",
        "print(result)"
      ],
      "execution_count": null,
      "outputs": [
        {
          "output_type": "stream",
          "text": [
            "1099.999999971673\n"
          ],
          "name": "stdout"
        }
      ]
    },
    {
      "cell_type": "markdown",
      "metadata": {
        "id": "ffF0XrHReXMZ"
      },
      "source": [
        "\n",
        "\n",
        "---\n",
        "**Нормальная аппроксимация биномиального\n",
        "распределения**\n",
        "\n",
        "При большом количестве повторений биномиального эксперимента\n",
        "биномиальное распределение приближается к нормальному.\n",
        "\n",
        "Для дискретного биномиального распределения, заданного числом повторов\n",
        "эксперимента $n$ и вероятностью успеха $p$ , математическое ожидание равно\n",
        "$n⋅p$ , а дисперсия: $n⋅p⋅(1-p)$.\n",
        "\n",
        "Если $n$ больше 50, эти параметры биномиального распределения можно взять\n",
        "как среднее и дисперсию для нормального распределения, которое будет\n",
        "достаточно близко описывать биномиальное. Максимально близкое к\n",
        "биномиальному нормальное распределение задаётся его математическим\n",
        "ожиданием $n⋅p$ в качестве среднего значения и дисперсией $n⋅p⋅(1-p)$. \n"
      ]
    },
    {
      "cell_type": "markdown",
      "metadata": {
        "id": "TkrtYk1hotSj"
      },
      "source": [
        "####Распределение Пуассона\n",
        "Ещё одно распределение, которое часто встречается — распределение Пуассона. Оно описывает число событий в единицу времени.\n",
        "Например, в среднем в кафе заходит 3 человека в минуту. Но это не значит, что каждую минуту заходит ровно 3 человека. Может, в эту минуту не зайдёт ни одного, а через минуту зайдёт 7. Если каждый посетитель заходит случайным образом, независимо от других — это и есть распределение Пуассона:\n",
        "\n",
        "\n",
        "![1cafe.png](https://github.com/datasciencefefu/course/raw/main/images/1cafe.png)\n"
      ]
    },
    {
      "cell_type": "markdown",
      "metadata": {
        "id": "toDnNGOuo82I"
      },
      "source": [
        "Форма распределения Пуассона зависит от числа событий. При небольших значениях распределение смещено влево, а с увеличением числа событий становится симметричным и уходит вправо.\n",
        "\n",
        "Невозможно получить отрицательное число заходов в кафе, но при небольшом потоке посетителей есть шанс, что в определённую минуту придут 5 посетителей или не придёт ни одного. В таком случае распределение Пуассона обрезано на нуле и имеет длинный «хвост» в положительную сторону. При увеличении числа посетителей шанс не получить ни одного захода в кафе уже почти не реализуется, поэтому распределение Пуассона становится симметричным и стремится к нормальному.\n",
        "\n",
        "![1cafe2.png](https://github.com/datasciencefefu/course/raw/main/images/1cafe2.png)\n"
      ]
    },
    {
      "cell_type": "markdown",
      "metadata": {
        "id": "3q3vqPjUG3dZ"
      },
      "source": [
        "### Случайная выборка и выборочное среднее\n",
        "\n",
        "Логика проведения статистической проверки гипотез немного другая, по\n",
        "сравнению с механизмами в теории вероятностей. Прежде всего, мы\n",
        "будем судить о большом объёме данных, **генеральной совокупности**, по\n",
        "части — **выборке**.\n",
        "\n",
        "Для анализа необязательно загружать все данные, достаточно взять\n",
        "небольшую, но **репрезентативную**, представляющую всю генеральную\n",
        "совокупность, часть данных. Самый простой способ добиться\n",
        "репрезентативности — взять **случайную выборку**. Из всего датасета\n",
        "генератором случайных чисел отбирают случайные элементы. По ним\n",
        "будут судить обо всей генеральной совокупности.\n",
        "Она может состоять из нескольких неравных по размеру частей, сильно\n",
        "отличающихся по исследуемому параметру. Тогда есть смысл взять\n",
        "пропорциональные случайные выборки из этих частей, и потом\n",
        "соединить между собой. Получается **стратифицированная выборка**,\n",
        "более репрезентативная, чем просто случайная. Она так называется,\n",
        "потому что генеральную совокупность была разбита на **страты** — группы,\n",
        "объединённые общим признаком. Случайные выборки получают уже из\n",
        "них.\n",
        "\n",
        "По выборке судят о генеральной совокупности — точнее об её\n",
        "статистических параметрах. Обычно достаточно оценить среднее и\n",
        "дисперсию, чтобы сделать выводы о **равенстве или неравенстве средних\n",
        "значений** исследуемых совокупностей. Нас будет интересовать именно\n",
        "такая постановка задачи.\n",
        "\n",
        "Что можно сказать о среднем и дисперсии генеральной совокупности по\n",
        "среднему и дисперсии, посчитанным на выборке, или **выборочному\n",
        "среднему** и **выборочной дисперсии**? Почти всё, при условии, что\n",
        "выборка достаточно велика.\n",
        "\n",
        "Одна из формулировок центральной предельной теоремы звучит так:\n",
        "если в выборке достаточно наблюдений, **выборочное распределение**\n",
        "выборочного среднего из любой генеральной совокупности распределено нормально вокруг среднего этой генеральной совокупности. «Любая\n",
        "генеральная совокупность» означает, что сама генеральная совокупность\n",
        "может быть распределена как угодно. Датасет из средних значений\n",
        "выборок всё равно будет нормально распределён вокруг среднего всей\n",
        "генеральной совокупности.\n",
        "Стандартное отклонение выборочного среднего от настоящего среднего\n",
        "генеральной совокупности называется **стандартной ошибкой** и\n",
        "находится по формуле:\n",
        "$E.S.E.=\\frac{S}{\\sqrt{n}}$, \n",
        "\n",
        "где $E.S.E.$ — оценённая стандартная ошибка. «Оценённая» — имея только\n",
        "выборку, на не известна точная ошибка и ее оценка осуществляется исходя из\n",
        "имеющихся данных.\n",
        "\n",
        "$S$ — оценка стандартного отклонения генеральной совокупности.\n",
        "\n",
        "$n$ — размер выборки. Раз корень из n стоит в знаменателе, стандартная\n",
        "ошибка уменьшается с увеличением размера выборки.\n"
      ]
    },
    {
      "cell_type": "markdown",
      "metadata": {
        "id": "rGPhhFRwpbKO"
      },
      "source": [
        "### Диаграмма размаха\n",
        "\n",
        "Описывая распределение, аналитики рассчитывают среднее арифметическое или медиану. Однако помимо медианы и среднего, важно знать характерный разброс — то, какие значения оказались вдали от среднего, и насколько их много.\n",
        "\n",
        "Самое простое, что можно посчитать для оценки разброса — это минимальное и максимальное значения. Такое описание не всегда точно, подвержено влиянию выбросов. Гораздо более устойчивая оценка — межквартильный размах.\n",
        "\n",
        "**Квартили** (от латинского quartus — «четвёртый») разбивают упорядоченный набор данных на четыре части. Первый квартиль Q1 — число, отделяющее первую четверть выборки: 25% элементов меньше, а 75% — больше него. Медиана — второй квартиль Q2, половина элементов больше и половина меньше неё. Третий квартиль Q3 — это отсечка трёх четвертей: 75% элементов меньше и 25% элементов больше него. Межквартильный размах — это расстояние между Q1 и Q3.\n",
        "\n",
        "\n",
        "![1array.png](https://github.com/datasciencefefu/course/raw/main/images/1array.png)\n"
      ]
    },
    {
      "cell_type": "markdown",
      "metadata": {
        "id": "v4HZkdIZp20n"
      },
      "source": [
        "Увидеть медиану и квартили в Python можно на специальном графике. Его называют диаграмма размаха или ящик с усами. По-другому «ящик» можно назвать межквартильным диапазоном (IQR - Interquartile Range).\n",
        "![1median.png](https://github.com/datasciencefefu/course/raw/main/images/1median.png)\n",
        "\n",
        " \n",
        "«Ящик» ограничен первым и третьим квартилями. Внутри ящика обозначают медиану.\n",
        "«Усы» простираются влево и вправо от границ ящика на расстояние, равное 1,5 межквартильным размахам (сокращённо IQR, от англ. interquartile range, «межквартильный размах»). В размах «усов» попадают нормальные значения, а за пределами находятся выбросы, изображённые точками. Если правый «ус» длиннее максимума, то он заканчивается максимумом. То же — для минимума и левого уса.\n",
        " \n",
        "![1boxplot.png](https://github.com/datasciencefefu/course/raw/main/images/1boxplot.png)\n"
      ]
    },
    {
      "cell_type": "markdown",
      "metadata": {
        "id": "GFTdK4dJ4SKf"
      },
      "source": [
        "Коротко перечислим основные компоненты \"ящика с усами\":\n",
        "-\t**Отрезок** (Range), отражающий диапазон значений набора данных.\n",
        "-\t**Прямоугольник** (Box), который отображает границы основного объема данных. Левой границей считается значение 25% квантиля или Q1. Правой границей является 75% квантиль или Q3.\n",
        "-\t**Усы** (Whiskers) — линии, исходящие из прямоугольника, используются для представления разброса данных до крайних значений на отрезке: минимального слева и максимального справа. \n",
        "-\t**Выбросы** (Outliers) — значения, находящиеся за левым и правым «крайними» значениями на оси.\n",
        "-\tЛиния внутри прямоугольника — это **медиана**. Медиана всегда равна середине упорядоченного ряда значений.\n"
      ]
    },
    {
      "cell_type": "markdown",
      "metadata": {
        "id": "qrZKefUxp88K"
      },
      "source": [
        "В Python диаграмму размаха строят методом **boxplot()** (от англ. box and whisker plot — «ящик с усами»)."
      ]
    },
    {
      "cell_type": "code",
      "metadata": {
        "colab": {
          "base_uri": "https://localhost:8080/",
          "height": 448
        },
        "id": "U776Nw4dxmly",
        "outputId": "6c7f1848-b00e-42dd-a14f-eff2c77e301e"
      },
      "source": [
        "sns.set_theme(style=\"whitegrid\")\n",
        "tips = sns.load_dataset(\"tips\")\n",
        "ax = sns.boxplot(x=tips[\"total_bill\"])"
      ],
      "execution_count": null,
      "outputs": [
        {
          "output_type": "display_data",
          "data": {
            "image/png": "[encoded data removed]",
            "text/plain": [
              "<Figure size 648x504 with 1 Axes>"
            ]
          },
          "metadata": {
            "tags": []
          }
        }
      ]
    },
    {
      "cell_type": "markdown",
      "metadata": {
        "id": "6JPHoZ8N9mEB"
      },
      "source": [
        "Отобразим вертикальную прямоугольную диаграмму, сгруппированную по категориальной переменной day (день недели):"
      ]
    },
    {
      "cell_type": "code",
      "metadata": {
        "colab": {
          "base_uri": "https://localhost:8080/",
          "height": 448
        },
        "id": "wjz2YHRh9vo-",
        "outputId": "bc13c4d6-0081-44a6-c1d7-36716646a123"
      },
      "source": [
        "ax = sns.boxplot(x=\"day\", y=\"total_bill\", data=tips)"
      ],
      "execution_count": null,
      "outputs": [
        {
          "output_type": "display_data",
          "data": {
            "image/png": "[encoded data removed]",
            "text/plain": [
              "<Figure size 648x504 with 1 Axes>"
            ]
          },
          "metadata": {
            "tags": []
          }
        }
      ]
    },
    {
      "cell_type": "markdown",
      "metadata": {
        "id": "LNuWs-mY9-Mf"
      },
      "source": [
        "Ещё один способ увеличения информативности графика boxplot — использование параметра **hue**. Он дополнительно разделяет данные в зависимости от значения дополнительного категориального признака.Посмотрите, как меняется отображение boxplot при добавлении параметра hue:"
      ]
    },
    {
      "cell_type": "code",
      "metadata": {
        "colab": {
          "base_uri": "https://localhost:8080/",
          "height": 448
        },
        "id": "IgPvJtcx-HGd",
        "outputId": "3a922fc6-040c-4b43-c12f-f052f0f29fa6"
      },
      "source": [
        "ax = sns.boxplot(x=\"day\", y=\"total_bill\", hue=\"smoker\", data=tips)"
      ],
      "execution_count": null,
      "outputs": [
        {
          "output_type": "display_data",
          "data": {
            "image/png": "[encoded data removed]",
            "text/plain": [
              "<Figure size 648x504 with 1 Axes>"
            ]
          },
          "metadata": {
            "tags": []
          }
        }
      ]
    },
    {
      "cell_type": "markdown",
      "metadata": {
        "id": "j39M3AAf-xQx"
      },
      "source": [
        "Такой способ представления информации позволяет нам увидеть, как менялось распределение общей суммы счета в разные дни недели отдельно для курящих и для клиентов, которые не курят"
      ]
    },
    {
      "cell_type": "markdown",
      "metadata": {
        "id": "2ER5wwC41uYw"
      },
      "source": [
        "Таким образом, boxplot (ящик с усами) используется для составления гипотез и наглядной визуализации большого числа статистических данных. Внутри боксплота можно спрятать тысячи значений, но они все визуально помещаются на небольшом графике.\n",
        "С его помощью можно разом показать основные статистические характеристики данных. \n",
        "\n",
        "Boxplot, или как его еще называют, «ящик с усами», по сути является «сплющенной» гистограммой. По этому графику можно легко понять состав наших данных и основную статистическую информацию. На нем показывается медиана, а также он более компактно отражает характер распределения значений переменной. "
      ]
    },
    {
      "cell_type": "markdown",
      "metadata": {
        "id": "n3DOOcn04pEE"
      },
      "source": [
        "\n",
        "\n",
        "---\n",
        "Данные, которые распределены согласно закону нормального распределения, располагаются **симметрично относительно своего среднего значения**, а их графическое представление имеет колоколообразную форму. Большинство значений лежат между первым квантилем Q1 и третьим Q3 — внутри колокола. Медиана и среднее арифметическое при нормальном распределении всегда совпадают и имеют одинаковое значение.\n",
        "\n",
        "![1last.png](https://github.com/datasciencefefu/course/raw/main/images/1last.png)"
      ]
    }
  ]
}