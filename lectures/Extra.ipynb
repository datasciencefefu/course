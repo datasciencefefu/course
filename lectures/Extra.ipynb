{
  "nbformat": 4,
  "nbformat_minor": 0,
  "metadata": {
    "colab": {
      "name": "Extra.ipynb",
      "provenance": [],
      "collapsed_sections": [],
      "toc_visible": true,
      "include_colab_link": true
    },
    "kernelspec": {
      "name": "python3",
      "display_name": "Python 3"
    }
  },
  "cells": [
    {
      "cell_type": "markdown",
      "metadata": {
        "id": "view-in-github",
        "colab_type": "text"
      },
      "source": [
        "<a href=\"https://colab.research.google.com/github/datasciencefefu/course/blob/main/Extra.ipynb\" target=\"_parent\"><img src=\"https://colab.research.google.com/assets/colab-badge.svg\" alt=\"Open In Colab\"/></a>"
      ]
    },
    {
      "cell_type": "markdown",
      "metadata": {
        "id": "VLDvRY4mf7OQ"
      },
      "source": [
        "# Приложение: линейная алгебра с NumPy"
      ]
    },
    {
      "cell_type": "markdown",
      "metadata": {
        "id": "rWkxhqE-XqHa"
      },
      "source": [
        "Анализ данных сложно представить без погружения в математику.\n",
        "Большая часть идей в машинном обучении построена на математических принципах. В данном разделе мы рассмотрим зачем аналитику линейная алгебра, что такое массивы и как Python работает с векторами и матрицами, используя библиотеку NumPy.\n"
      ]
    },
    {
      "cell_type": "markdown",
      "metadata": {
        "id": "jI06X-Zg1eam"
      },
      "source": [
        "## Массивы"
      ]
    },
    {
      "cell_type": "markdown",
      "metadata": {
        "id": "r1welccG1t1v"
      },
      "source": [
        "Основной структурой и объектом не только в библиотеке NumPy, но и в машинном обучении являются **массивы**. Массив — это структура данных, содержащая упорядоченный набор значений (элементов), идентифицируемых по индексу или набору индексов.\n",
        "В библиотека NumPy содержатся функции и методы для математических операций над объектами **ndarray** —  N-мерных однородных массивов с заранее заданным количеством элементов. Массив называют однородным, поскольку он объединяет  элементы одного типа данных. **Размерностью** массива называют количество индексов, необходимых для однозначного определения его элементов. Первый элемент в массиве Python имеет индекс 0.\n",
        "\n",
        "Массивы могут быть:\n",
        "- одномерными (вектор);\n",
        "- двумерными (матрица);\n",
        "- многомерными.\n",
        "\n",
        "Массив в Python задаётся с помощью функции array() перечислением элементов внутри квадратных скобок [ ] через запятую:"
      ]
    },
    {
      "cell_type": "code",
      "metadata": {
        "id": "7Vl5YRYOmoIq"
      },
      "source": [
        "import numpy as np\n",
        "\n",
        "arr = np.array([1,2,3,4,5,6])"
      ],
      "execution_count": null,
      "outputs": []
    },
    {
      "cell_type": "markdown",
      "metadata": {
        "id": "uC9J9jp1mtfg"
      },
      "source": [
        "Функция array() позволяет создать массив с любым количеством измерений (осей). Создание двумерного массива происходит следующим образом:"
      ]
    },
    {
      "cell_type": "code",
      "metadata": {
        "id": "BLzF3pP4m68e"
      },
      "source": [
        "arr = np.array([[1,2,3],[4,5,6],[7,8,9]])"
      ],
      "execution_count": null,
      "outputs": []
    },
    {
      "cell_type": "markdown",
      "metadata": {
        "id": "PPMuapainEsc"
      },
      "source": [
        "Узнать размерность массива можно с помощью функции shape(). Shape - это обычный кортеж языка Python."
      ]
    },
    {
      "cell_type": "code",
      "metadata": {
        "colab": {
          "base_uri": "https://localhost:8080/"
        },
        "id": "iPtBKjpdnahi",
        "outputId": "606f8f36-d78b-4f30-f088-94d1feae2647"
      },
      "source": [
        "np.shape(arr)"
      ],
      "execution_count": null,
      "outputs": [
        {
          "output_type": "execute_result",
          "data": {
            "text/plain": [
              "(3, 3)"
            ]
          },
          "metadata": {
            "tags": []
          },
          "execution_count": 46
        }
      ]
    },
    {
      "cell_type": "markdown",
      "metadata": {
        "id": "mYG8Zm1aPg0Q"
      },
      "source": [
        "Можно создавать массивы из нулей (np.zeros) или из единиц (np.ones):"
      ]
    },
    {
      "cell_type": "code",
      "metadata": {
        "colab": {
          "base_uri": "https://localhost:8080/"
        },
        "id": "PYCA2SqUPin_",
        "outputId": "37c79776-a9f9-470d-88d9-4bad9804e31b"
      },
      "source": [
        "A = np.ones((7, 9))\n",
        "A"
      ],
      "execution_count": null,
      "outputs": [
        {
          "output_type": "execute_result",
          "data": {
            "text/plain": [
              "array([[1., 1., 1., 1., 1., 1., 1., 1., 1.],\n",
              "       [1., 1., 1., 1., 1., 1., 1., 1., 1.],\n",
              "       [1., 1., 1., 1., 1., 1., 1., 1., 1.],\n",
              "       [1., 1., 1., 1., 1., 1., 1., 1., 1.],\n",
              "       [1., 1., 1., 1., 1., 1., 1., 1., 1.],\n",
              "       [1., 1., 1., 1., 1., 1., 1., 1., 1.],\n",
              "       [1., 1., 1., 1., 1., 1., 1., 1., 1.]])"
            ]
          },
          "metadata": {
            "tags": []
          },
          "execution_count": 47
        }
      ]
    },
    {
      "cell_type": "markdown",
      "metadata": {
        "id": "a9sFB_yWPkel"
      },
      "source": [
        "Также часто используется создание векторов из натуральных чисел:"
      ]
    },
    {
      "cell_type": "code",
      "metadata": {
        "colab": {
          "base_uri": "https://localhost:8080/"
        },
        "id": "qaT32d04PmnL",
        "outputId": "65ad8a00-6c9e-4525-cd4e-3acd6a184f00"
      },
      "source": [
        "vec = np.arange(15)\n",
        "vec"
      ],
      "execution_count": null,
      "outputs": [
        {
          "output_type": "execute_result",
          "data": {
            "text/plain": [
              "array([ 0,  1,  2,  3,  4,  5,  6,  7,  8,  9, 10, 11, 12, 13, 14])"
            ]
          },
          "metadata": {
            "tags": []
          },
          "execution_count": 48
        }
      ]
    },
    {
      "cell_type": "markdown",
      "metadata": {
        "id": "R3IvLjNyPoNH"
      },
      "source": [
        "И случайно сгенерированные массивы:"
      ]
    },
    {
      "cell_type": "code",
      "metadata": {
        "colab": {
          "base_uri": "https://localhost:8080/"
        },
        "id": "ZEGV6ceHPqVP",
        "outputId": "fa8735c3-dcf0-46b2-ea2a-389bef134612"
      },
      "source": [
        "r = np.random.rand(3, 4)\n",
        "r"
      ],
      "execution_count": null,
      "outputs": [
        {
          "output_type": "execute_result",
          "data": {
            "text/plain": [
              "array([[0.18400186, 0.04549867, 0.03347525, 0.058673  ],\n",
              "       [0.56254952, 0.28285337, 0.18458058, 0.90245314],\n",
              "       [0.36086068, 0.20261408, 0.72518862, 0.48448959]])"
            ]
          },
          "metadata": {
            "tags": []
          },
          "execution_count": 49
        }
      ]
    },
    {
      "cell_type": "markdown",
      "metadata": {
        "id": "Ij2DLaSkKhY_"
      },
      "source": [
        "Важное отличие массивов NumPy от списков Python: при создании среза NumPy не копирует данные в новый массив, а создает представление исходного массива. В памяти по прежнему находится один массив, а в срезе хранятся только указатели, которые ссылаются на данные из исходного массива. "
      ]
    },
    {
      "cell_type": "markdown",
      "metadata": {
        "id": "5OcCIQqGnomQ"
      },
      "source": [
        "Работа с одномерными массивами похожа на работу со списком. Перечислим ключевые моменты индексирования массивов в NumPy:\n",
        "-\tиндексация массива начинается с 0;\n",
        "-\tдля обращения к элементу массива по индексу указываем имя переменной, в которой хранится массив, и индекс в квадратных скобках;\n",
        "-\tдопускается использование отрицательных индексов;\n",
        "-\tдля обращения к нескольким идущим подряд элементам массива создается срез, где указывается индекс первого элемента среза и индекс элемента, следующего за последним, разделенные двоеточием;\n",
        "-\tпри создании среза можно задать шаг, в этом случае в срез будут включены не все элементы, а только отстоящие друг от друга на величину шага.\n"
      ]
    },
    {
      "cell_type": "markdown",
      "metadata": {
        "id": "xWJVTOKdTcB1"
      },
      "source": [
        "Рассмотрим некоторые примеры индексации элементов массива на примере массива arr."
      ]
    },
    {
      "cell_type": "code",
      "metadata": {
        "colab": {
          "base_uri": "https://localhost:8080/"
        },
        "id": "ybDaFLajTsih",
        "outputId": "f3c7d1a6-24a1-49b8-c118-6db8426f960e"
      },
      "source": [
        "print(arr)"
      ],
      "execution_count": null,
      "outputs": [
        {
          "output_type": "stream",
          "text": [
            "[[1 2 3]\n",
            " [4 5 6]\n",
            " [7 8 9]]\n"
          ],
          "name": "stdout"
        }
      ]
    },
    {
      "cell_type": "code",
      "metadata": {
        "colab": {
          "base_uri": "https://localhost:8080/"
        },
        "id": "8VwrtKTOTlF7",
        "outputId": "1d114e7b-26e4-4620-9894-d63666090e65"
      },
      "source": [
        "arr[2, 1] # выбрать 1 элемент"
      ],
      "execution_count": null,
      "outputs": [
        {
          "output_type": "execute_result",
          "data": {
            "text/plain": [
              "8"
            ]
          },
          "metadata": {
            "tags": []
          },
          "execution_count": 51
        }
      ]
    },
    {
      "cell_type": "code",
      "metadata": {
        "colab": {
          "base_uri": "https://localhost:8080/"
        },
        "id": "LiulLOF6T3g0",
        "outputId": "a9b1a2c5-2aa1-4cdf-8667-aae19da86b19"
      },
      "source": [
        "arr[1] # выделить строку"
      ],
      "execution_count": null,
      "outputs": [
        {
          "output_type": "execute_result",
          "data": {
            "text/plain": [
              "array([4, 5, 6])"
            ]
          },
          "metadata": {
            "tags": []
          },
          "execution_count": 52
        }
      ]
    },
    {
      "cell_type": "code",
      "metadata": {
        "colab": {
          "base_uri": "https://localhost:8080/"
        },
        "id": "BverqcXDTxSi",
        "outputId": "6a23ff50-b298-4d47-97c6-e759ba596c24"
      },
      "source": [
        "arr[:, 1] # выделить столбец"
      ],
      "execution_count": null,
      "outputs": [
        {
          "output_type": "execute_result",
          "data": {
            "text/plain": [
              "array([2, 5, 8])"
            ]
          },
          "metadata": {
            "tags": []
          },
          "execution_count": 53
        }
      ]
    },
    {
      "cell_type": "code",
      "metadata": {
        "colab": {
          "base_uri": "https://localhost:8080/"
        },
        "id": "I9vCMMFOT8r9",
        "outputId": "0075b817-6cab-4af3-d310-3bad53a0307f"
      },
      "source": [
        "arr[:, -1] # выделить последний столбец"
      ],
      "execution_count": null,
      "outputs": [
        {
          "output_type": "execute_result",
          "data": {
            "text/plain": [
              "array([3, 6, 9])"
            ]
          },
          "metadata": {
            "tags": []
          },
          "execution_count": 54
        }
      ]
    },
    {
      "cell_type": "code",
      "metadata": {
        "colab": {
          "base_uri": "https://localhost:8080/"
        },
        "id": "zB9WBwawT6tN",
        "outputId": "f0a1e4fc-e8df-4e82-a562-ca20ffce7f5f"
      },
      "source": [
        "arr[:, ::2] # выделить все столбы с четными номерами "
      ],
      "execution_count": null,
      "outputs": [
        {
          "output_type": "execute_result",
          "data": {
            "text/plain": [
              "array([[1, 3],\n",
              "       [4, 6],\n",
              "       [7, 9]])"
            ]
          },
          "metadata": {
            "tags": []
          },
          "execution_count": 55
        }
      ]
    },
    {
      "cell_type": "code",
      "metadata": {
        "colab": {
          "base_uri": "https://localhost:8080/"
        },
        "id": "-pFSf3jVcdCL",
        "outputId": "0b15bc57-126e-445a-a5b4-bf16a3656f59"
      },
      "source": [
        "arr[(arr % 2) == 1] # логическая индексация: выделить нечетные элементы"
      ],
      "execution_count": null,
      "outputs": [
        {
          "output_type": "execute_result",
          "data": {
            "text/plain": [
              "array([1, 3, 5, 7, 9])"
            ]
          },
          "metadata": {
            "tags": []
          },
          "execution_count": 60
        }
      ]
    },
    {
      "cell_type": "markdown",
      "metadata": {
        "id": "SY0-CVKOK88W"
      },
      "source": [
        "## Одномерные массивы: вектор"
      ]
    },
    {
      "cell_type": "markdown",
      "metadata": {
        "id": "PSNOBVoRLHne"
      },
      "source": [
        "Вектор — это набор чисел, записанных в определенном порядке, например, в столбик или в строчку. \n",
        "\n",
        "В Python удобно представить вектор как одномерный массив NumPy. Сложение и вычитание векторов в Python происходит при помощи знаков $+$ и $-$:\n",
        "\n"
      ]
    },
    {
      "cell_type": "code",
      "metadata": {
        "colab": {
          "base_uri": "https://localhost:8080/"
        },
        "id": "MZxaljf3EYpJ",
        "outputId": "1928b1a4-d49f-4f16-ae05-e518a4a8ce27"
      },
      "source": [
        "import numpy as np\n",
        "a = np.array([1, 4, 7, 8])\n",
        "b = np.array([8, 5, 2, 1])\n",
        "print(a+b)"
      ],
      "execution_count": null,
      "outputs": [
        {
          "output_type": "stream",
          "text": [
            "[9 9 9 9]\n"
          ],
          "name": "stdout"
        }
      ]
    },
    {
      "cell_type": "markdown",
      "metadata": {
        "id": "Q-yGxmYqEi0Y"
      },
      "source": [
        "Для умножения вектора на число в Python диспользуют оператор $*$:"
      ]
    },
    {
      "cell_type": "code",
      "metadata": {
        "colab": {
          "base_uri": "https://localhost:8080/"
        },
        "id": "X9Ca2jNCEoUp",
        "outputId": "b2872b75-7d36-401b-ce86-48783f3f9140"
      },
      "source": [
        "import numpy as np\n",
        "a = np.array([10, 8, 5, 1])\n",
        "print(a*2)"
      ],
      "execution_count": null,
      "outputs": [
        {
          "output_type": "stream",
          "text": [
            "[20 16 10  2]\n"
          ],
          "name": "stdout"
        }
      ]
    },
    {
      "cell_type": "markdown",
      "metadata": {
        "id": "kHfhaLm-RGf3"
      },
      "source": [
        "Вектор можно преобразовать в матрицу:"
      ]
    },
    {
      "cell_type": "code",
      "metadata": {
        "colab": {
          "base_uri": "https://localhost:8080/"
        },
        "id": "RuZ5K-jLRL9e",
        "outputId": "924836b2-315d-4406-ac19-7b957ce76fe1"
      },
      "source": [
        "print(a.reshape(2,2))"
      ],
      "execution_count": null,
      "outputs": [
        {
          "output_type": "stream",
          "text": [
            "[[10  8]\n",
            " [ 5  1]]\n"
          ],
          "name": "stdout"
        }
      ]
    },
    {
      "cell_type": "markdown",
      "metadata": {
        "id": "TtifW7EYFF1L"
      },
      "source": [
        "## Двумерные массивы: матрица"
      ]
    },
    {
      "cell_type": "markdown",
      "metadata": {
        "id": "M41jhy_JFJpx"
      },
      "source": [
        "Матрицы похожи на двумерные векторы. Их удобно использовать для работы с системами уравнений и применения в разных методах машинного обучения.\n",
        "\n",
        "**Матрица** — набор чисел, расположенных по строкам и столбцам, как в таблице. Машинное обучение состоит из целого комплекса разных линейных операций, поэтому на практике любая задача решается через последовательность простых линейных задач."
      ]
    },
    {
      "cell_type": "markdown",
      "metadata": {
        "id": "WH69NqaYYLzZ"
      },
      "source": [
        "Двумерная матрица состоит из строк и столбцов, чтобы обратиться к элементу матрицы необходимо указать имя матрицы и в квадратных скобках два индекса: первый индекс отвечает за номер строки, второй — за номер столбца. \n",
        "В Python задать матрицу можно с помощью функции array:"
      ]
    },
    {
      "cell_type": "code",
      "metadata": {
        "colab": {
          "base_uri": "https://localhost:8080/"
        },
        "id": "L9Vq2IN9F4j1",
        "outputId": "2aea9d91-f96f-4bd3-9832-0cfc6b498663"
      },
      "source": [
        "arr = np.array([[1,2,3],[4,5,6],[7,8,9]])\n",
        "print(arr.shape)\n",
        "print('a_23 = ', arr[1,2],'; a_32 = ', arr[2,1])"
      ],
      "execution_count": null,
      "outputs": [
        {
          "output_type": "stream",
          "text": [
            "(3, 3)\n",
            "a_23 =  6 ; a_32 =  8\n"
          ],
          "name": "stdout"
        }
      ]
    },
    {
      "cell_type": "markdown",
      "metadata": {
        "id": "Er3iz4CqG9CU"
      },
      "source": [
        "Или используя метод np.matrix():"
      ]
    },
    {
      "cell_type": "code",
      "metadata": {
        "colab": {
          "base_uri": "https://localhost:8080/"
        },
        "id": "lfibc0p9HsqL",
        "outputId": "bb521893-0fb2-4695-efa6-62999c44326c"
      },
      "source": [
        "arr2 = np.matrix(\"1,7;2,5;1,3\")\n",
        "print(arr2.shape)\n",
        "print('a_21 = ', arr2[1,0],'; a_12 = ', arr2[0,1])"
      ],
      "execution_count": null,
      "outputs": [
        {
          "output_type": "stream",
          "text": [
            "(3, 2)\n",
            "a_21 =  2 ; a_12 =  7\n"
          ],
          "name": "stdout"
        }
      ]
    },
    {
      "cell_type": "markdown",
      "metadata": {
        "id": "BWGQDTonIR7z"
      },
      "source": [
        "Матрицы складываются и вычитаются поэлементно. Складывать и вычитать можно только матрицы одинакового размера. Две матрицы могут быть сложены или вычтены одна из другой, только если у матриц одинаковое количество рядов и столбцов."
      ]
    },
    {
      "cell_type": "code",
      "metadata": {
        "colab": {
          "base_uri": "https://localhost:8080/"
        },
        "id": "7qoTxAOyIWvi",
        "outputId": "a8d9f6aa-ee2b-4a2f-b85e-d4f42144a832"
      },
      "source": [
        "A = np.matrix(\"1,8;3,7;2,4\")\n",
        "B = np.matrix(\"6,-7;2,5;4,0\")\n",
        "print(A+B)"
      ],
      "execution_count": null,
      "outputs": [
        {
          "output_type": "stream",
          "text": [
            "[[ 7  1]\n",
            " [ 5 12]\n",
            " [ 6  4]]\n"
          ],
          "name": "stdout"
        }
      ]
    },
    {
      "cell_type": "markdown",
      "metadata": {
        "id": "R5IrMloXIp9y"
      },
      "source": [
        "Умножение матрицы на отдельное число выполняют так же, как и с\n",
        "умножение вектора на число."
      ]
    },
    {
      "cell_type": "code",
      "metadata": {
        "colab": {
          "base_uri": "https://localhost:8080/"
        },
        "id": "xcZIN_ePIwka",
        "outputId": "e153ead2-8ba7-4625-9b5d-4b17b10f438c"
      },
      "source": [
        "print(B*5)"
      ],
      "execution_count": null,
      "outputs": [
        {
          "output_type": "stream",
          "text": [
            "[[ 30 -35]\n",
            " [ 10  25]\n",
            " [ 20   0]]\n"
          ],
          "name": "stdout"
        }
      ]
    },
    {
      "cell_type": "markdown",
      "metadata": {
        "id": "7axK1TsMVo_q"
      },
      "source": [
        "Аналогично выполняется деление:"
      ]
    },
    {
      "cell_type": "code",
      "metadata": {
        "colab": {
          "base_uri": "https://localhost:8080/"
        },
        "id": "agt-ZkWQVu5Q",
        "outputId": "a1c626ba-d164-47ae-8ac4-ac23d384afdb"
      },
      "source": [
        "print(A/2)"
      ],
      "execution_count": null,
      "outputs": [
        {
          "output_type": "stream",
          "text": [
            "[[0.5 4. ]\n",
            " [1.5 3.5]\n",
            " [1.  2. ]]\n"
          ],
          "name": "stdout"
        }
      ]
    },
    {
      "cell_type": "markdown",
      "metadata": {
        "id": "in9LEb6zI6IK"
      },
      "source": [
        "Транспонирование матрицы — это процесс, при котором строки матрицы записываются в столбцы, а столбцы — в строки, и матрица переворачивается. То есть получается её зеркальное отображение по главной диагональной линии, которая начинается в верхнем левом и идёт в правый нижний угол."
      ]
    },
    {
      "cell_type": "code",
      "metadata": {
        "colab": {
          "base_uri": "https://localhost:8080/"
        },
        "id": "p2zYjMcQJAK6",
        "outputId": "4bbcefa8-c7aa-44df-ce7f-8379f380997c"
      },
      "source": [
        "print(arr)\n",
        "print(arr.T)"
      ],
      "execution_count": null,
      "outputs": [
        {
          "output_type": "stream",
          "text": [
            "[[1 2 3]\n",
            " [4 5 6]\n",
            " [7 8 9]]\n",
            "[[1 4 7]\n",
            " [2 5 8]\n",
            " [3 6 9]]\n"
          ],
          "name": "stdout"
        }
      ]
    },
    {
      "cell_type": "markdown",
      "metadata": {
        "id": "S7rT_RHPJR43"
      },
      "source": [
        "Частный случай — это транспонирование векторов. Если транспонировать вектор-столбец, получится вектор-строка и наоборот."
      ]
    },
    {
      "cell_type": "code",
      "metadata": {
        "colab": {
          "base_uri": "https://localhost:8080/"
        },
        "id": "stfmyLI4JUpb",
        "outputId": "bbc30d39-d7b1-4576-b54b-1200f903f2fb"
      },
      "source": [
        "A = np.matrix(\"1, 4, 3, 5\")\n",
        "print(A.T)"
      ],
      "execution_count": null,
      "outputs": [
        {
          "output_type": "stream",
          "text": [
            "[[1]\n",
            " [4]\n",
            " [3]\n",
            " [5]]\n"
          ],
          "name": "stdout"
        }
      ]
    },
    {
      "cell_type": "markdown",
      "metadata": {
        "id": "eqLhZ-PHJrIL"
      },
      "source": [
        "Умножить две матрицы можно только в том случае, если число столбцов в одной матрице равно числу строк во второй либо в одном из массивов размер 1. Например, матрица размера (7, 3) и вектор размера (7, 1). В этом случае при выполнении операции столбец будет как бы \"дублироваться\" для каждого столбца в первой матрице. Если же матрица $A$ содержит $m$ строк, а матрица $B$ содержит $n$ столбцов, то результатом их умножения будет матрица $С$ размера $m × n$. При этом результаты умножения не только отличаются численно, но и имеют разный размер. Рассмотрим на конкретном примере:"
      ]
    },
    {
      "cell_type": "code",
      "metadata": {
        "colab": {
          "base_uri": "https://localhost:8080/"
        },
        "id": "gZnXJ8v9Jr00",
        "outputId": "3d2de197-5140-4edd-b1fd-1a5606fe3695"
      },
      "source": [
        "A_1 = np.matrix(\"1,-2;-4,-5;1,3\")\n",
        "A_2 = np.matrix(\"7,9,3;8,4,-3\")\n",
        "print(np.dot(A_1,A_2))\n",
        "print(np.dot(A_2,A_1))"
      ],
      "execution_count": null,
      "outputs": [
        {
          "output_type": "stream",
          "text": [
            "[[ -9   1   9]\n",
            " [-68 -56   3]\n",
            " [ 31  21  -6]]\n",
            "[[-26 -50]\n",
            " [-11 -45]]\n"
          ],
          "name": "stdout"
        }
      ]
    },
    {
      "cell_type": "markdown",
      "metadata": {
        "id": "6o9VAm3YQT58"
      },
      "source": [
        "Можно также писать:"
      ]
    },
    {
      "cell_type": "code",
      "metadata": {
        "colab": {
          "base_uri": "https://localhost:8080/"
        },
        "id": "vadDQfFNQV70",
        "outputId": "bb086fe6-6106-4e7b-c8f4-efafb5cf6c68"
      },
      "source": [
        "print(np.dot(A_1,A_2))\n",
        "print(np.dot(A_2,A_1))"
      ],
      "execution_count": null,
      "outputs": [
        {
          "output_type": "stream",
          "text": [
            "[[ -9   1   9]\n",
            " [-68 -56   3]\n",
            " [ 31  21  -6]]\n",
            "[[-26 -50]\n",
            " [-11 -45]]\n"
          ],
          "name": "stdout"
        }
      ]
    },
    {
      "cell_type": "markdown",
      "metadata": {
        "id": "zdPGVenbQdzB"
      },
      "source": [
        "или так:"
      ]
    },
    {
      "cell_type": "code",
      "metadata": {
        "colab": {
          "base_uri": "https://localhost:8080/"
        },
        "id": "LBV2faVQQgOq",
        "outputId": "3244d09a-c8ca-4561-b83f-06073e9c10c0"
      },
      "source": [
        "print(A_1@A_2)\n",
        "print(A_2@A_1)"
      ],
      "execution_count": null,
      "outputs": [
        {
          "output_type": "stream",
          "text": [
            "[[ -9   1   9]\n",
            " [-68 -56   3]\n",
            " [ 31  21  -6]]\n",
            "[[-26 -50]\n",
            " [-11 -45]]\n"
          ],
          "name": "stdout"
        }
      ]
    },
    {
      "cell_type": "markdown",
      "metadata": {
        "id": "QypbzbGQKkWr"
      },
      "source": [
        "Можно не только складывать, умножать, вычитать и транспонировать сами массивы NumPy, но и вычислять различные значения внутри массивов, такие как сумма элементов, произведение элементов и другие. \n",
        "В библиотеке NumPy для решения таких задач есть отличное решение — **универсальные функции**. Они выполняют поэлементные операции с данными объектов ndarray. Большинство универсальных функций относятся к типу унарных операций. \n",
        "**Унарные операции** — это операции, которые выполняются над каждым элементом массива по очереди. \n",
        "Приведем перечень часто используемых универсальных функций:\n",
        "\n"
      ]
    },
    {
      "cell_type": "markdown",
      "metadata": {
        "id": "6V8ycViFK_NG"
      },
      "source": [
        "Функция | Описание |\n",
        "--- | --- |\n",
        "np.abs()   | \tАбсолютное значение (модуль) целых или вещественных элементов массива| \n",
        "np.isnan()\t| Массив логических (булевых) значений, показывающий, какие из элементов исходного массива являются NaN (не числами)| \n",
        "np.modf()\t| Дробные и целые части массива в виде отдельных массивов| \n",
        "np.prod(имя, ось)\t| Произведение всех элементов массива по заданной оси| \n",
        "np.sqrt()\t| Квадратный корень каждого элемента массива| \n",
        "np.sum() \t| Сумма всех элементов массива. Вторым аргументом можно задать ось, по которой будет определена сумма| \n"
      ]
    },
    {
      "cell_type": "markdown",
      "metadata": {
        "id": "wMJTo6aLR8s2"
      },
      "source": [
        "Агрегирующие операции агрерируют информацию в строках, столбцах, во всем массиве и т. д. Самые популярные операции: суммирование np.sum, усреднение np.mean, медиана np.median, максимум np.max и минимум np.min."
      ]
    },
    {
      "cell_type": "code",
      "metadata": {
        "colab": {
          "base_uri": "https://localhost:8080/"
        },
        "id": "cw8R57lkR91U",
        "outputId": "88feb79d-8b33-48ac-ab95-f58310343f85"
      },
      "source": [
        "print(a)\n",
        "np.sum(a)"
      ],
      "execution_count": null,
      "outputs": [
        {
          "output_type": "stream",
          "text": [
            "[10  8  5  1]\n"
          ],
          "name": "stdout"
        },
        {
          "output_type": "execute_result",
          "data": {
            "text/plain": [
              "24"
            ]
          },
          "metadata": {
            "tags": []
          },
          "execution_count": 27
        }
      ]
    },
    {
      "cell_type": "markdown",
      "metadata": {
        "id": "wzQNBAuMSJXC"
      },
      "source": [
        "Матрицы можно суммировать по строкам и по столбцам:"
      ]
    },
    {
      "cell_type": "code",
      "metadata": {
        "colab": {
          "base_uri": "https://localhost:8080/"
        },
        "id": "8ZXDPzZtSODL",
        "outputId": "5fcbae33-0696-471e-c273-284b55b68be0"
      },
      "source": [
        "print(arr)\n",
        "np.sum(arr, axis = 1) # по строкам"
      ],
      "execution_count": null,
      "outputs": [
        {
          "output_type": "stream",
          "text": [
            "[[1 2 3]\n",
            " [4 5 6]\n",
            " [7 8 9]]\n"
          ],
          "name": "stdout"
        },
        {
          "output_type": "execute_result",
          "data": {
            "text/plain": [
              "array([ 6, 15, 24])"
            ]
          },
          "metadata": {
            "tags": []
          },
          "execution_count": 28
        }
      ]
    },
    {
      "cell_type": "code",
      "metadata": {
        "colab": {
          "base_uri": "https://localhost:8080/"
        },
        "id": "Cu9OFONfSfil",
        "outputId": "b67cf61a-37f6-4081-82ec-ed7b9c2ba243"
      },
      "source": [
        "np.sum(arr, axis = 0) # по столбцам"
      ],
      "execution_count": null,
      "outputs": [
        {
          "output_type": "execute_result",
          "data": {
            "text/plain": [
              "array([12, 15, 18])"
            ]
          },
          "metadata": {
            "tags": []
          },
          "execution_count": 29
        }
      ]
    },
    {
      "cell_type": "markdown",
      "metadata": {
        "id": "RNs4vT7CSkML"
      },
      "source": [
        "В результате суммирования получается вектор (размерность на 1 меньше, чем у исходной матрицы). "
      ]
    },
    {
      "cell_type": "code",
      "metadata": {
        "colab": {
          "base_uri": "https://localhost:8080/"
        },
        "id": "7vsS76vGSoOL",
        "outputId": "5795f730-b63e-4c33-c9a2-8e63cb8f9016"
      },
      "source": [
        "np.sum(arr, axis = 1).shape"
      ],
      "execution_count": null,
      "outputs": [
        {
          "output_type": "execute_result",
          "data": {
            "text/plain": [
              "(3,)"
            ]
          },
          "metadata": {
            "tags": []
          },
          "execution_count": 30
        }
      ]
    },
    {
      "cell_type": "markdown",
      "metadata": {
        "id": "bHHZH4pSSnob"
      },
      "source": [
        "Можно указать keepdims=True, чтобы сохранить размерности:"
      ]
    },
    {
      "cell_type": "code",
      "metadata": {
        "colab": {
          "base_uri": "https://localhost:8080/"
        },
        "id": "7MZ_ch-jSuEe",
        "outputId": "ef961529-a3e7-4cdd-ae12-e72ff8ce2d5c"
      },
      "source": [
        "np.sum(arr, axis = 1, keepdims=True).shape"
      ],
      "execution_count": null,
      "outputs": [
        {
          "output_type": "execute_result",
          "data": {
            "text/plain": [
              "(3, 1)"
            ]
          },
          "metadata": {
            "tags": []
          },
          "execution_count": 31
        }
      ]
    },
    {
      "cell_type": "markdown",
      "metadata": {
        "id": "Jmx3VlpLWVtO"
      },
      "source": [
        "### Оси"
      ]
    },
    {
      "cell_type": "markdown",
      "metadata": {
        "id": "aA1_Mz74Wgk3"
      },
      "source": [
        "Для удобного перехода между размерностями часто добавляют новые оси. Так, вектор можно сделать матрицей с размером 1 по одной из размерностей."
      ]
    },
    {
      "cell_type": "code",
      "metadata": {
        "colab": {
          "base_uri": "https://localhost:8080/"
        },
        "id": "0qmYUnFRWhuq",
        "outputId": "addf40fb-ee52-426d-8efd-65695066dbe3"
      },
      "source": [
        "ones = np.ones(4)\n",
        "ones[:, np.newaxis]"
      ],
      "execution_count": null,
      "outputs": [
        {
          "output_type": "execute_result",
          "data": {
            "text/plain": [
              "array([[1.],\n",
              "       [1.],\n",
              "       [1.],\n",
              "       [1.]])"
            ]
          },
          "metadata": {
            "tags": []
          },
          "execution_count": 32
        }
      ]
    },
    {
      "cell_type": "code",
      "metadata": {
        "colab": {
          "base_uri": "https://localhost:8080/"
        },
        "id": "AB50sV70WtQd",
        "outputId": "e67462b1-a768-4a60-ff12-3051698063f9"
      },
      "source": [
        "ones[:, np.newaxis].shape \n",
        "# вместо вектора с формой (4,) стала матрица с формой (4, 1)"
      ],
      "execution_count": null,
      "outputs": [
        {
          "output_type": "execute_result",
          "data": {
            "text/plain": [
              "(4, 1)"
            ]
          },
          "metadata": {
            "tags": []
          },
          "execution_count": 33
        }
      ]
    },
    {
      "cell_type": "code",
      "metadata": {
        "colab": {
          "base_uri": "https://localhost:8080/"
        },
        "id": "gTewPMZEWu5c",
        "outputId": "51fc317e-d140-4de6-d579-e72c11aafc63"
      },
      "source": [
        "ones[np.newaxis, :].shape\n",
        "# вместо вектора с формой (4,) стала матрица с формой (1, 4)"
      ],
      "execution_count": null,
      "outputs": [
        {
          "output_type": "execute_result",
          "data": {
            "text/plain": [
              "(1, 4)"
            ]
          },
          "metadata": {
            "tags": []
          },
          "execution_count": 34
        }
      ]
    },
    {
      "cell_type": "markdown",
      "metadata": {
        "id": "fONNBDO4W3H8"
      },
      "source": [
        "С помощью функции **hstack()** можно присоединять данные по горизонтальной оси. "
      ]
    },
    {
      "cell_type": "code",
      "metadata": {
        "colab": {
          "base_uri": "https://localhost:8080/"
        },
        "id": "yM6982suX1pn",
        "outputId": "8f6059fb-77f6-436a-9937-f22f3967ae8c"
      },
      "source": [
        "a = np.array([1,2,3])\n",
        "b = np.array([4,5,6])\n",
        "print('Добавление данных по горизонтали:', np.hstack((a, b)))"
      ],
      "execution_count": null,
      "outputs": [
        {
          "output_type": "stream",
          "text": [
            "Добавление данных по горизонтали: [1 2 3 4 5 6]\n"
          ],
          "name": "stdout"
        }
      ]
    },
    {
      "cell_type": "markdown",
      "metadata": {
        "id": "Lp5nWNkTYF5v"
      },
      "source": [
        "Добавлять данные по вертикальной оси удобно используя **vstack()**."
      ]
    },
    {
      "cell_type": "code",
      "metadata": {
        "colab": {
          "base_uri": "https://localhost:8080/"
        },
        "id": "o6UBDRn6YOlB",
        "outputId": "8e18aa64-b0f3-48dc-d01c-28498e4bd70d"
      },
      "source": [
        "print('Добавление данных по вертикали:', np.vstack((a, b)))"
      ],
      "execution_count": null,
      "outputs": [
        {
          "output_type": "stream",
          "text": [
            "Добавление данных по вертикали: [[1 2 3]\n",
            " [4 5 6]]\n"
          ],
          "name": "stdout"
        }
      ]
    },
    {
      "cell_type": "markdown",
      "metadata": {
        "id": "QD2lrYAhYcAK"
      },
      "source": [
        "Удаляют строки при помощи **delete()**:"
      ]
    },
    {
      "cell_type": "code",
      "metadata": {
        "colab": {
          "base_uri": "https://localhost:8080/"
        },
        "id": "BdNNvo1rYo1z",
        "outputId": "ae243bb9-ff17-4f6d-dbf6-01b093031d43"
      },
      "source": [
        "np.delete(arr, 1, axis = 0)"
      ],
      "execution_count": null,
      "outputs": [
        {
          "output_type": "execute_result",
          "data": {
            "text/plain": [
              "array([[1, 2, 3],\n",
              "       [7, 8, 9]])"
            ]
          },
          "metadata": {
            "tags": []
          },
          "execution_count": 37
        }
      ]
    },
    {
      "cell_type": "markdown",
      "metadata": {
        "id": "yDDoSm3EZbyQ"
      },
      "source": [
        "Аналогично можно удалять столбцы:"
      ]
    },
    {
      "cell_type": "code",
      "metadata": {
        "colab": {
          "base_uri": "https://localhost:8080/"
        },
        "id": "NOWIWkPLZfgV",
        "outputId": "db356d46-3f98-4f74-d4ff-1905c7a4966e"
      },
      "source": [
        "np.delete(arr, 0, axis = 1)"
      ],
      "execution_count": null,
      "outputs": [
        {
          "output_type": "execute_result",
          "data": {
            "text/plain": [
              "array([[2, 3],\n",
              "       [5, 6],\n",
              "       [8, 9]])"
            ]
          },
          "metadata": {
            "tags": []
          },
          "execution_count": 38
        }
      ]
    },
    {
      "cell_type": "markdown",
      "metadata": {
        "id": "QnZiLOvGZ9UI"
      },
      "source": [
        "## Проверочные задания"
      ]
    },
    {
      "cell_type": "markdown",
      "metadata": {
        "id": "IxChtDGEaKX-"
      },
      "source": [
        "1. **Ряд квадратов**<br>\n",
        "Вывести квадраты первых десяти натуральных чисел"
      ]
    },
    {
      "cell_type": "markdown",
      "metadata": {
        "id": "5yIE1lJnaNcc"
      },
      "source": [
        "2. **По порядку**<br>\n",
        "а) Вывести целочисленный массив размером 10*10 со значениями от 1 до 10 в каждой строке<br>\n",
        "б) Вывести таблицу умножения от 1 до 10"
      ]
    },
    {
      "cell_type": "markdown",
      "metadata": {
        "id": "3AaJVVsiaUl7"
      },
      "source": [
        "3. **Сортировки**<br>\n",
        "Дан массив случайных чисел. "
      ]
    },
    {
      "cell_type": "code",
      "metadata": {
        "colab": {
          "base_uri": "https://localhost:8080/"
        },
        "id": "JPRvDO7qaTWc",
        "outputId": "da1ff6a1-cdfa-4fef-9600-bfcfc802423b"
      },
      "source": [
        "rand = np.random.RandomState(28)\n",
        "matrix = rand.randint(10, 100, [5,7])\n",
        "print(matrix)"
      ],
      "execution_count": null,
      "outputs": [
        {
          "output_type": "stream",
          "text": [
            "[[11 15 32 42 13 97 22]\n",
            " [74 61 33 22 79 18 34]\n",
            " [53 98 17 11 88 55 70]\n",
            " [44 61 47 80 78 38 25]\n",
            " [36 14 17 22 54 86 42]]\n"
          ],
          "name": "stdout"
        }
      ]
    },
    {
      "cell_type": "markdown",
      "metadata": {
        "id": "FLg-oQsVaXIk"
      },
      "source": [
        "  Необходимо с помощью sort():<br>\n",
        "  а) отсортировать массив по строкам<br>\n",
        "  б) отсортировать массив по столбцам"
      ]
    },
    {
      "cell_type": "markdown",
      "metadata": {
        "id": "ZI4rt76vaYSm"
      },
      "source": [
        "4. **Смена знака**<br>\n",
        "Дан массив случайных чисел от 1 до 100 размером 10*10. Необходимо поменять знак у тех элементов, которые меньше 50."
      ]
    },
    {
      "cell_type": "code",
      "metadata": {
        "colab": {
          "base_uri": "https://localhost:8080/"
        },
        "id": "iq2SUKsNaaaq",
        "outputId": "70a6b6ab-0f2e-4446-cf0b-ecf72502c324"
      },
      "source": [
        "m = np.random.randint(low=1, high=100, size=[10,10])\n",
        "print(m)"
      ],
      "execution_count": null,
      "outputs": [
        {
          "output_type": "stream",
          "text": [
            "[[73 57 59 75 94 83 75 25  2 84]\n",
            " [48 60 22 30  5 44 46 52 84 39]\n",
            " [97 35 60 46 23 47 69 98 98 32]\n",
            " [56 41 22 57 53 60 63 67  7 89]\n",
            " [83 12 62 72  9 78 76 84 67 53]\n",
            " [96 66 35 19 64 40 16 95 31 54]\n",
            " [10 76 57 46 64 77 82 92 77 99]\n",
            " [57  3 24 65 62 39 10 66 80 66]\n",
            " [56 69 12 42 95 59 14 54 87 54]\n",
            " [90 13 17 59 38 95 23 84 50 20]]\n"
          ],
          "name": "stdout"
        }
      ]
    },
    {
      "cell_type": "markdown",
      "metadata": {
        "id": "WBjkOoMmabyd"
      },
      "source": [
        "5. **Из int в float**<br>\n",
        "Дан массив целочисленных значений (matrix из задания 3). Изменить тип массива с int на float, используя astype()"
      ]
    },
    {
      "cell_type": "markdown",
      "metadata": {
        "id": "LFdCleJKaipU"
      },
      "source": [
        "6. **Выше. Ниже. Диагональ**<br>\n",
        "Создать матрицу из нулей 8*8 \n",
        "\n",
        "  а) с числами от 1 до 7 **под диагональю**<br>\n",
        "  б) с числами от 1 до 7 **над диагональю**<br>\n",
        "\n",
        "  Полученная матрица должна быть типа int"
      ]
    },
    {
      "cell_type": "markdown",
      "metadata": {
        "id": "m4B6FCUKamBe"
      },
      "source": [
        "8. **Шахматная доска**<br>\n",
        "  Создать матрицу 8*8 и заполнить ее 1 и 0 в шахматном порядке"
      ]
    },
    {
      "cell_type": "markdown",
      "metadata": {
        "id": "mo5n87KDan1g"
      },
      "source": [
        "9. **Сумма и произведение**<br>\n",
        "Дан массив чисел"
      ]
    },
    {
      "cell_type": "code",
      "metadata": {
        "colab": {
          "base_uri": "https://localhost:8080/"
        },
        "id": "LPDgqru3apIo",
        "outputId": "0c678937-4b97-43ad-b4e8-3b9d9f2e6da9"
      },
      "source": [
        "arr = np.array([[0, 1, 2], [3, 4, 5], [6, 7, 8]])\n",
        "print(arr)"
      ],
      "execution_count": null,
      "outputs": [
        {
          "output_type": "stream",
          "text": [
            "[[0 1 2]\n",
            " [3 4 5]\n",
            " [6 7 8]]\n"
          ],
          "name": "stdout"
        }
      ]
    },
    {
      "cell_type": "markdown",
      "metadata": {
        "id": "XU1_LfAkaq6K"
      },
      "source": [
        "а) Необходимо с помощью встроенных функций вывести массив такой, чтобы во втором столбце было **произведение** первых двух чисел в строке, а в третьем столбце - произведение всех трех чисел в строке. В первом столбце сохраняются значения исходного массива<br>\n",
        "б) Необходимо с помощью встроенных функций вывести массив такой, чтобы во втором столбце была **сумма** первых двух чисел в строке, а в третьем столбце - сумма всех трех чисел в строке. В первом столбце сохраняются значения исходного массива<br>"
      ]
    }
  ]
}