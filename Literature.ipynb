{
  "nbformat": 4,
  "nbformat_minor": 0,
  "metadata": {
    "colab": {
      "name": "Literature.ipynb",
      "provenance": [],
      "collapsed_sections": [],
      "authorship_tag": "ABX9TyNaEmQDJdujsRFPIvFTSKU2",
      "include_colab_link": true
    },
    "kernelspec": {
      "name": "python3",
      "display_name": "Python 3"
    },
    "language_info": {
      "name": "python"
    }
  },
  "cells": [
    {
      "cell_type": "markdown",
      "metadata": {
        "id": "view-in-github",
        "colab_type": "text"
      },
      "source": [
        "<a href=\"https://colab.research.google.com/github/datasciencefefu/course/blob/main/Literature.ipynb\" target=\"_parent\"><img src=\"https://colab.research.google.com/assets/colab-badge.svg\" alt=\"Open In Colab\"/></a>"
      ]
    },
    {
      "cell_type": "markdown",
      "metadata": {
        "id": "4JrBb8BWHGPG"
      },
      "source": [
        "# Список литературы"
      ]
    },
    {
      "cell_type": "markdown",
      "metadata": {
        "id": "g7GK-ff_5UOb"
      },
      "source": [
        "# Список литературы\n",
        "1. Beautiful Soup Documentation — Beautiful Soup 4.4.0 documentation [Электронный \n",
        "ресурс]. – Режим доступа: https://beautiful-soup-4.readthedocs.io/en/latest/. – Дата доступа: 12.10.2021.\n",
        "2. Colaboratory – Google [Электронный ресурс]. – Режим доступа: https://research.google.com/colaboratory/faq.html. – Дата доступа: 10.10.2020.\n",
        "3. D.Reinsel, J.Gants, J.Rydning The Digitalization of the World // IDC White Paper [Электронный ресурс]. – Режим доступа: https://www.seagate.com/files/www-content/our-story/trends/files/idc-seagate-dataage-whitepaper.pdf. – Дата доступа: 12.03.2021.\n",
        "4. Explanation of 3V's Model of Big data Given by Doug Laney [Электронный ресурс]. – Режим доступа: https://www.cosoit.com/explanation-of-3v-model-of-big-data. – Дата доступа: 15.05.2021.\n",
        "5. HTTP Documentation [Электронный ресурс]. – Режим доступа: https://httpwg.org/specs/. – Дата доступа: 15.11.2020.\n",
        "6. Json — JSON encoder and decoder — Python 3.9.5 documentation [Электронный ресурс]. – Режим доступа: https://docs.python.org/3/library/json.html. – Дата доступа: 17.11.2020.\n",
        "7. Lynch C. Big data: How do your data grow? //Nature. – 2008. – Т. 455. – №. 7209. – р.28-29.\n",
        "8. Matplotlib: Python plotting — Matplotlib 3.4.2 documentation [Электронный ресурс]. – Режим доступа: https://matplotlib.org/stable/index.html. – Дата доступа: 28.04.2021.\n",
        "9. NumPy [Электронный ресурс]. – Режим доступа: https://numpy.org. – Дата доступа: 19.04.2021. \n",
        "10. Pandas - Python Data Analysis Library [Электронный ресурс]. – Режим доступа: https://pandas.pydata.org. – Дата доступа: 20.04.2021.\n",
        "11. Plotly Python Graphing Library | Python | Plotly [Электронный ресурс]. – Режим доступа: https://plotly.com/python/. – Дата доступа: 10.04.2021.\n",
        "12. Project Jupyter | Documentation [Электронный ресурс]. – Режим доступа: https://jupyter.org/documentation. – Дата доступа: 18.10.2020.\n",
        "13. Re — Regular expression operations — Python 3.9.5 documentation [Электронный ресурс]. – Режим доступа: https://docs.python.org/3/library/re.html. – Дата доступа: 12.03.2021.\n",
        "14. Requests: HTTP for Humans — Requests 2.25.1 documentation [Электронный ресурс]. – Режим доступа: https://docs.python-requests.org/en/master/index.html. – Дата доступа: 17.01.2021.\n",
        "15. SciPy.org — SciPy.org [Электронный ресурс]. – Режим доступа: https://www.scipy.org. – Дата доступа: 17.04.2021.\n",
        "16. Seaborn: statistical data visualization — seaborn 0.11.1 documentation [Электронный ресурс]. – Режим доступа: https://seaborn.pydata.org. – Дата доступа: 01.05.2021.\n",
        "17. TIOBE Index [Электронный ресурс]. – Режим доступа: http://www.tiobe.com/index.php/content/paperinfo/tpci/index.html. – Дата доступа: 17.10.2020.\n",
        "18. Welcome to Python.org [Электронный ресурс]. – Режим доступа: https://www.python.org. – Дата доступа: 19.12.2020.\n",
        "19. Исследование - Академия больших данных MADE [Электронный ресурс]. – Режим доступа: https://data.mail.ru/pages/research/. – Дата доступа: 19.05.2021.\n",
        "20. Работа аналитиком данных [Электронный ресурс]. – Режим доступа: https://hh.ru/vacancies/analitik-dannyh. – Дата доступа: 02.06.2021.\n",
        "21. Теория вероятностей [Электронный ресурс]: лекции для физиков / Е.Л. Кулешов; Дальневосточный федеральный университет. – Электрон. дан. – Владивосток: Издательский дом Дальневост. федерал. ун-та, 2018. – Режим доступа: Загл. с экрана.\n",
        "22. Управление данными [Текст]: лекции / Смелик В. В.\n",
        "23.\tУэс Маккинли Python и анализ данных / Пер. с англ. Слинкин А. А. – М.: ДМК Пресс, 2015. – 482 с.: ил.\n",
        "\n",
        "\n",
        "\n"
      ]
    }
  ]
}